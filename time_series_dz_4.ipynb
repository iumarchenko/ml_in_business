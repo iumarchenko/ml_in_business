{
 "cells": [
  {
   "cell_type": "markdown",
   "metadata": {},
   "source": [
    "### Вариант 2)\n",
    "#### Прочитайте базу COVID19_data.csv ."
   ]
  },
  {
   "cell_type": "code",
   "execution_count": 1,
   "metadata": {},
   "outputs": [],
   "source": [
    "import pandas as pd\n",
    "import numpy as np\n",
    "import matplotlib.pyplot as plt\n",
    "from sklearn.linear_model import LinearRegression\n",
    "from sklearn.model_selection import train_test_split\n",
    "from sklearn.ensemble import GradientBoostingRegressor\n",
    "from sklearn.preprocessing import StandardScaler\n",
    "import scipy.stats as scs\n",
    "from sklearn.cluster import KMeans, DBSCAN\n",
    "from sklearn.manifold import TSNE \n",
    "import seaborn as sns\n",
    "from sklearn.decomposition import PCA\n",
    "from sklearn.feature_selection import SelectKBest, SelectPercentile\n",
    "from sklearn.feature_selection import SelectFromModel\n",
    "from sklearn.feature_selection import f_regression, mutual_info_regression\n",
    "import statsmodels.api as sm"
   ]
  },
  {
   "cell_type": "code",
   "execution_count": 2,
   "metadata": {},
   "outputs": [
    {
     "data": {
      "text/html": [
       "<div>\n",
       "<style scoped>\n",
       "    .dataframe tbody tr th:only-of-type {\n",
       "        vertical-align: middle;\n",
       "    }\n",
       "\n",
       "    .dataframe tbody tr th {\n",
       "        vertical-align: top;\n",
       "    }\n",
       "\n",
       "    .dataframe thead th {\n",
       "        text-align: right;\n",
       "    }\n",
       "</style>\n",
       "<table border=\"1\" class=\"dataframe\">\n",
       "  <thead>\n",
       "    <tr style=\"text-align: right;\">\n",
       "      <th></th>\n",
       "      <th>SNo</th>\n",
       "      <th>ObservationDate</th>\n",
       "      <th>Province/State</th>\n",
       "      <th>Country/Region</th>\n",
       "      <th>Last Update</th>\n",
       "      <th>Confirmed</th>\n",
       "      <th>Deaths</th>\n",
       "      <th>Recovered</th>\n",
       "    </tr>\n",
       "  </thead>\n",
       "  <tbody>\n",
       "    <tr>\n",
       "      <th>0</th>\n",
       "      <td>1</td>\n",
       "      <td>01/22/2020</td>\n",
       "      <td>Anhui</td>\n",
       "      <td>Mainland China</td>\n",
       "      <td>1/22/2020 17:00</td>\n",
       "      <td>1.0</td>\n",
       "      <td>0.0</td>\n",
       "      <td>0.0</td>\n",
       "    </tr>\n",
       "    <tr>\n",
       "      <th>1</th>\n",
       "      <td>2</td>\n",
       "      <td>01/22/2020</td>\n",
       "      <td>Beijing</td>\n",
       "      <td>Mainland China</td>\n",
       "      <td>1/22/2020 17:00</td>\n",
       "      <td>14.0</td>\n",
       "      <td>0.0</td>\n",
       "      <td>0.0</td>\n",
       "    </tr>\n",
       "    <tr>\n",
       "      <th>2</th>\n",
       "      <td>3</td>\n",
       "      <td>01/22/2020</td>\n",
       "      <td>Chongqing</td>\n",
       "      <td>Mainland China</td>\n",
       "      <td>1/22/2020 17:00</td>\n",
       "      <td>6.0</td>\n",
       "      <td>0.0</td>\n",
       "      <td>0.0</td>\n",
       "    </tr>\n",
       "    <tr>\n",
       "      <th>3</th>\n",
       "      <td>4</td>\n",
       "      <td>01/22/2020</td>\n",
       "      <td>Fujian</td>\n",
       "      <td>Mainland China</td>\n",
       "      <td>1/22/2020 17:00</td>\n",
       "      <td>1.0</td>\n",
       "      <td>0.0</td>\n",
       "      <td>0.0</td>\n",
       "    </tr>\n",
       "    <tr>\n",
       "      <th>4</th>\n",
       "      <td>5</td>\n",
       "      <td>01/22/2020</td>\n",
       "      <td>Gansu</td>\n",
       "      <td>Mainland China</td>\n",
       "      <td>1/22/2020 17:00</td>\n",
       "      <td>0.0</td>\n",
       "      <td>0.0</td>\n",
       "      <td>0.0</td>\n",
       "    </tr>\n",
       "    <tr>\n",
       "      <th>5</th>\n",
       "      <td>6</td>\n",
       "      <td>01/22/2020</td>\n",
       "      <td>Guangdong</td>\n",
       "      <td>Mainland China</td>\n",
       "      <td>1/22/2020 17:00</td>\n",
       "      <td>26.0</td>\n",
       "      <td>0.0</td>\n",
       "      <td>0.0</td>\n",
       "    </tr>\n",
       "    <tr>\n",
       "      <th>6</th>\n",
       "      <td>7</td>\n",
       "      <td>01/22/2020</td>\n",
       "      <td>Guangxi</td>\n",
       "      <td>Mainland China</td>\n",
       "      <td>1/22/2020 17:00</td>\n",
       "      <td>2.0</td>\n",
       "      <td>0.0</td>\n",
       "      <td>0.0</td>\n",
       "    </tr>\n",
       "    <tr>\n",
       "      <th>7</th>\n",
       "      <td>8</td>\n",
       "      <td>01/22/2020</td>\n",
       "      <td>Guizhou</td>\n",
       "      <td>Mainland China</td>\n",
       "      <td>1/22/2020 17:00</td>\n",
       "      <td>1.0</td>\n",
       "      <td>0.0</td>\n",
       "      <td>0.0</td>\n",
       "    </tr>\n",
       "    <tr>\n",
       "      <th>8</th>\n",
       "      <td>9</td>\n",
       "      <td>01/22/2020</td>\n",
       "      <td>Hainan</td>\n",
       "      <td>Mainland China</td>\n",
       "      <td>1/22/2020 17:00</td>\n",
       "      <td>4.0</td>\n",
       "      <td>0.0</td>\n",
       "      <td>0.0</td>\n",
       "    </tr>\n",
       "    <tr>\n",
       "      <th>9</th>\n",
       "      <td>10</td>\n",
       "      <td>01/22/2020</td>\n",
       "      <td>Hebei</td>\n",
       "      <td>Mainland China</td>\n",
       "      <td>1/22/2020 17:00</td>\n",
       "      <td>1.0</td>\n",
       "      <td>0.0</td>\n",
       "      <td>0.0</td>\n",
       "    </tr>\n",
       "  </tbody>\n",
       "</table>\n",
       "</div>"
      ],
      "text/plain": [
       "   SNo ObservationDate Province/State  Country/Region      Last Update  \\\n",
       "0    1      01/22/2020          Anhui  Mainland China  1/22/2020 17:00   \n",
       "1    2      01/22/2020        Beijing  Mainland China  1/22/2020 17:00   \n",
       "2    3      01/22/2020      Chongqing  Mainland China  1/22/2020 17:00   \n",
       "3    4      01/22/2020         Fujian  Mainland China  1/22/2020 17:00   \n",
       "4    5      01/22/2020          Gansu  Mainland China  1/22/2020 17:00   \n",
       "5    6      01/22/2020      Guangdong  Mainland China  1/22/2020 17:00   \n",
       "6    7      01/22/2020        Guangxi  Mainland China  1/22/2020 17:00   \n",
       "7    8      01/22/2020        Guizhou  Mainland China  1/22/2020 17:00   \n",
       "8    9      01/22/2020         Hainan  Mainland China  1/22/2020 17:00   \n",
       "9   10      01/22/2020          Hebei  Mainland China  1/22/2020 17:00   \n",
       "\n",
       "   Confirmed  Deaths  Recovered  \n",
       "0        1.0     0.0        0.0  \n",
       "1       14.0     0.0        0.0  \n",
       "2        6.0     0.0        0.0  \n",
       "3        1.0     0.0        0.0  \n",
       "4        0.0     0.0        0.0  \n",
       "5       26.0     0.0        0.0  \n",
       "6        2.0     0.0        0.0  \n",
       "7        1.0     0.0        0.0  \n",
       "8        4.0     0.0        0.0  \n",
       "9        1.0     0.0        0.0  "
      ]
     },
     "execution_count": 2,
     "metadata": {},
     "output_type": "execute_result"
    }
   ],
   "source": [
    "COVID_ = pd.read_csv('covid_19_data.csv')\n",
    "COVID_.head(10)"
   ]
  },
  {
   "cell_type": "code",
   "execution_count": 3,
   "metadata": {},
   "outputs": [
    {
     "data": {
      "text/html": [
       "<div>\n",
       "<style scoped>\n",
       "    .dataframe tbody tr th:only-of-type {\n",
       "        vertical-align: middle;\n",
       "    }\n",
       "\n",
       "    .dataframe tbody tr th {\n",
       "        vertical-align: top;\n",
       "    }\n",
       "\n",
       "    .dataframe thead th {\n",
       "        text-align: right;\n",
       "    }\n",
       "</style>\n",
       "<table border=\"1\" class=\"dataframe\">\n",
       "  <thead>\n",
       "    <tr style=\"text-align: right;\">\n",
       "      <th></th>\n",
       "      <th>SNo</th>\n",
       "      <th>ObservationDate</th>\n",
       "      <th>Province/State</th>\n",
       "      <th>Country/Region</th>\n",
       "      <th>Last Update</th>\n",
       "      <th>Confirmed</th>\n",
       "      <th>Deaths</th>\n",
       "      <th>Recovered</th>\n",
       "    </tr>\n",
       "  </thead>\n",
       "  <tbody>\n",
       "    <tr>\n",
       "      <th>19923</th>\n",
       "      <td>19924</td>\n",
       "      <td>04/29/2020</td>\n",
       "      <td>Wyoming</td>\n",
       "      <td>US</td>\n",
       "      <td>2020-04-30 02:32:27</td>\n",
       "      <td>545.0</td>\n",
       "      <td>7.0</td>\n",
       "      <td>0.0</td>\n",
       "    </tr>\n",
       "    <tr>\n",
       "      <th>19924</th>\n",
       "      <td>19925</td>\n",
       "      <td>04/29/2020</td>\n",
       "      <td>Xinjiang</td>\n",
       "      <td>Mainland China</td>\n",
       "      <td>2020-04-30 02:32:27</td>\n",
       "      <td>76.0</td>\n",
       "      <td>3.0</td>\n",
       "      <td>73.0</td>\n",
       "    </tr>\n",
       "    <tr>\n",
       "      <th>19925</th>\n",
       "      <td>19926</td>\n",
       "      <td>04/29/2020</td>\n",
       "      <td>Yukon</td>\n",
       "      <td>Canada</td>\n",
       "      <td>2020-04-30 02:32:27</td>\n",
       "      <td>11.0</td>\n",
       "      <td>0.0</td>\n",
       "      <td>0.0</td>\n",
       "    </tr>\n",
       "    <tr>\n",
       "      <th>19926</th>\n",
       "      <td>19927</td>\n",
       "      <td>04/29/2020</td>\n",
       "      <td>Yunnan</td>\n",
       "      <td>Mainland China</td>\n",
       "      <td>2020-04-30 02:32:27</td>\n",
       "      <td>185.0</td>\n",
       "      <td>2.0</td>\n",
       "      <td>181.0</td>\n",
       "    </tr>\n",
       "    <tr>\n",
       "      <th>19927</th>\n",
       "      <td>19928</td>\n",
       "      <td>04/29/2020</td>\n",
       "      <td>Zhejiang</td>\n",
       "      <td>Mainland China</td>\n",
       "      <td>2020-04-30 02:32:27</td>\n",
       "      <td>1268.0</td>\n",
       "      <td>1.0</td>\n",
       "      <td>1263.0</td>\n",
       "    </tr>\n",
       "  </tbody>\n",
       "</table>\n",
       "</div>"
      ],
      "text/plain": [
       "         SNo ObservationDate Province/State  Country/Region  \\\n",
       "19923  19924      04/29/2020        Wyoming              US   \n",
       "19924  19925      04/29/2020       Xinjiang  Mainland China   \n",
       "19925  19926      04/29/2020          Yukon          Canada   \n",
       "19926  19927      04/29/2020         Yunnan  Mainland China   \n",
       "19927  19928      04/29/2020       Zhejiang  Mainland China   \n",
       "\n",
       "               Last Update  Confirmed  Deaths  Recovered  \n",
       "19923  2020-04-30 02:32:27      545.0     7.0        0.0  \n",
       "19924  2020-04-30 02:32:27       76.0     3.0       73.0  \n",
       "19925  2020-04-30 02:32:27       11.0     0.0        0.0  \n",
       "19926  2020-04-30 02:32:27      185.0     2.0      181.0  \n",
       "19927  2020-04-30 02:32:27     1268.0     1.0     1263.0  "
      ]
     },
     "execution_count": 3,
     "metadata": {},
     "output_type": "execute_result"
    }
   ],
   "source": [
    "COVID_.tail()"
   ]
  },
  {
   "cell_type": "code",
   "execution_count": 4,
   "metadata": {},
   "outputs": [
    {
     "data": {
      "text/html": [
       "<div>\n",
       "<style scoped>\n",
       "    .dataframe tbody tr th:only-of-type {\n",
       "        vertical-align: middle;\n",
       "    }\n",
       "\n",
       "    .dataframe tbody tr th {\n",
       "        vertical-align: top;\n",
       "    }\n",
       "\n",
       "    .dataframe thead th {\n",
       "        text-align: right;\n",
       "    }\n",
       "</style>\n",
       "<table border=\"1\" class=\"dataframe\">\n",
       "  <thead>\n",
       "    <tr style=\"text-align: right;\">\n",
       "      <th></th>\n",
       "      <th>SNo</th>\n",
       "      <th>Confirmed</th>\n",
       "      <th>Deaths</th>\n",
       "      <th>Recovered</th>\n",
       "    </tr>\n",
       "  </thead>\n",
       "  <tbody>\n",
       "    <tr>\n",
       "      <th>count</th>\n",
       "      <td>19928.000000</td>\n",
       "      <td>19928.000000</td>\n",
       "      <td>19928.000000</td>\n",
       "      <td>19928.000000</td>\n",
       "    </tr>\n",
       "    <tr>\n",
       "      <th>mean</th>\n",
       "      <td>9964.500000</td>\n",
       "      <td>3550.325472</td>\n",
       "      <td>219.624147</td>\n",
       "      <td>927.807607</td>\n",
       "    </tr>\n",
       "    <tr>\n",
       "      <th>std</th>\n",
       "      <td>5752.862418</td>\n",
       "      <td>17033.481526</td>\n",
       "      <td>1572.904962</td>\n",
       "      <td>6605.789443</td>\n",
       "    </tr>\n",
       "    <tr>\n",
       "      <th>min</th>\n",
       "      <td>1.000000</td>\n",
       "      <td>0.000000</td>\n",
       "      <td>0.000000</td>\n",
       "      <td>0.000000</td>\n",
       "    </tr>\n",
       "    <tr>\n",
       "      <th>25%</th>\n",
       "      <td>4982.750000</td>\n",
       "      <td>11.000000</td>\n",
       "      <td>0.000000</td>\n",
       "      <td>0.000000</td>\n",
       "    </tr>\n",
       "    <tr>\n",
       "      <th>50%</th>\n",
       "      <td>9964.500000</td>\n",
       "      <td>118.000000</td>\n",
       "      <td>1.000000</td>\n",
       "      <td>2.000000</td>\n",
       "    </tr>\n",
       "    <tr>\n",
       "      <th>75%</th>\n",
       "      <td>14946.250000</td>\n",
       "      <td>787.000000</td>\n",
       "      <td>10.000000</td>\n",
       "      <td>86.250000</td>\n",
       "    </tr>\n",
       "    <tr>\n",
       "      <th>max</th>\n",
       "      <td>19928.000000</td>\n",
       "      <td>299691.000000</td>\n",
       "      <td>27682.000000</td>\n",
       "      <td>132929.000000</td>\n",
       "    </tr>\n",
       "  </tbody>\n",
       "</table>\n",
       "</div>"
      ],
      "text/plain": [
       "                SNo      Confirmed        Deaths      Recovered\n",
       "count  19928.000000   19928.000000  19928.000000   19928.000000\n",
       "mean    9964.500000    3550.325472    219.624147     927.807607\n",
       "std     5752.862418   17033.481526   1572.904962    6605.789443\n",
       "min        1.000000       0.000000      0.000000       0.000000\n",
       "25%     4982.750000      11.000000      0.000000       0.000000\n",
       "50%     9964.500000     118.000000      1.000000       2.000000\n",
       "75%    14946.250000     787.000000     10.000000      86.250000\n",
       "max    19928.000000  299691.000000  27682.000000  132929.000000"
      ]
     },
     "execution_count": 4,
     "metadata": {},
     "output_type": "execute_result"
    }
   ],
   "source": [
    "COVID_.describe()"
   ]
  },
  {
   "cell_type": "code",
   "execution_count": 5,
   "metadata": {},
   "outputs": [
    {
     "name": "stdout",
     "output_type": "stream",
     "text": [
      "<class 'pandas.core.frame.DataFrame'>\n",
      "RangeIndex: 19928 entries, 0 to 19927\n",
      "Data columns (total 8 columns):\n",
      "SNo                19928 non-null int64\n",
      "ObservationDate    19928 non-null object\n",
      "Province/State     9746 non-null object\n",
      "Country/Region     19928 non-null object\n",
      "Last Update        19928 non-null object\n",
      "Confirmed          19928 non-null float64\n",
      "Deaths             19928 non-null float64\n",
      "Recovered          19928 non-null float64\n",
      "dtypes: float64(3), int64(1), object(4)\n",
      "memory usage: 1.2+ MB\n"
     ]
    }
   ],
   "source": [
    "COVID_.info()"
   ]
  },
  {
   "cell_type": "code",
   "execution_count": 6,
   "metadata": {},
   "outputs": [],
   "source": [
    "COVID = COVID_.copy()\n",
    "COVID_['Data']= pd.to_datetime(COVID_['ObservationDate']) #.dt.date\n",
    "COVID['Data']= pd.to_datetime(COVID['ObservationDate']) #.dt.date"
   ]
  },
  {
   "cell_type": "code",
   "execution_count": 7,
   "metadata": {},
   "outputs": [],
   "source": [
    "COVID = COVID.groupby(['Data','Country/Region'])['Confirmed','Deaths','Recovered'].sum()"
   ]
  },
  {
   "cell_type": "code",
   "execution_count": 8,
   "metadata": {},
   "outputs": [
    {
     "data": {
      "text/html": [
       "<div>\n",
       "<style scoped>\n",
       "    .dataframe tbody tr th:only-of-type {\n",
       "        vertical-align: middle;\n",
       "    }\n",
       "\n",
       "    .dataframe tbody tr th {\n",
       "        vertical-align: top;\n",
       "    }\n",
       "\n",
       "    .dataframe thead th {\n",
       "        text-align: right;\n",
       "    }\n",
       "</style>\n",
       "<table border=\"1\" class=\"dataframe\">\n",
       "  <thead>\n",
       "    <tr style=\"text-align: right;\">\n",
       "      <th></th>\n",
       "      <th></th>\n",
       "      <th>Confirmed</th>\n",
       "      <th>Deaths</th>\n",
       "      <th>Recovered</th>\n",
       "    </tr>\n",
       "    <tr>\n",
       "      <th>Data</th>\n",
       "      <th>Country/Region</th>\n",
       "      <th></th>\n",
       "      <th></th>\n",
       "      <th></th>\n",
       "    </tr>\n",
       "  </thead>\n",
       "  <tbody>\n",
       "    <tr>\n",
       "      <th rowspan=\"20\" valign=\"top\">2020-04-29</th>\n",
       "      <th>Thailand</th>\n",
       "      <td>2947.0</td>\n",
       "      <td>54.0</td>\n",
       "      <td>2665.0</td>\n",
       "    </tr>\n",
       "    <tr>\n",
       "      <th>Timor-Leste</th>\n",
       "      <td>24.0</td>\n",
       "      <td>0.0</td>\n",
       "      <td>6.0</td>\n",
       "    </tr>\n",
       "    <tr>\n",
       "      <th>Togo</th>\n",
       "      <td>109.0</td>\n",
       "      <td>7.0</td>\n",
       "      <td>64.0</td>\n",
       "    </tr>\n",
       "    <tr>\n",
       "      <th>Trinidad and Tobago</th>\n",
       "      <td>116.0</td>\n",
       "      <td>8.0</td>\n",
       "      <td>71.0</td>\n",
       "    </tr>\n",
       "    <tr>\n",
       "      <th>Tunisia</th>\n",
       "      <td>980.0</td>\n",
       "      <td>40.0</td>\n",
       "      <td>294.0</td>\n",
       "    </tr>\n",
       "    <tr>\n",
       "      <th>Turkey</th>\n",
       "      <td>117589.0</td>\n",
       "      <td>3081.0</td>\n",
       "      <td>44040.0</td>\n",
       "    </tr>\n",
       "    <tr>\n",
       "      <th>UK</th>\n",
       "      <td>166441.0</td>\n",
       "      <td>26166.0</td>\n",
       "      <td>857.0</td>\n",
       "    </tr>\n",
       "    <tr>\n",
       "      <th>US</th>\n",
       "      <td>1039909.0</td>\n",
       "      <td>60967.0</td>\n",
       "      <td>120720.0</td>\n",
       "    </tr>\n",
       "    <tr>\n",
       "      <th>Uganda</th>\n",
       "      <td>81.0</td>\n",
       "      <td>0.0</td>\n",
       "      <td>52.0</td>\n",
       "    </tr>\n",
       "    <tr>\n",
       "      <th>Ukraine</th>\n",
       "      <td>9866.0</td>\n",
       "      <td>250.0</td>\n",
       "      <td>1103.0</td>\n",
       "    </tr>\n",
       "    <tr>\n",
       "      <th>United Arab Emirates</th>\n",
       "      <td>11929.0</td>\n",
       "      <td>98.0</td>\n",
       "      <td>2329.0</td>\n",
       "    </tr>\n",
       "    <tr>\n",
       "      <th>Uruguay</th>\n",
       "      <td>630.0</td>\n",
       "      <td>15.0</td>\n",
       "      <td>412.0</td>\n",
       "    </tr>\n",
       "    <tr>\n",
       "      <th>Uzbekistan</th>\n",
       "      <td>2002.0</td>\n",
       "      <td>9.0</td>\n",
       "      <td>1096.0</td>\n",
       "    </tr>\n",
       "    <tr>\n",
       "      <th>Venezuela</th>\n",
       "      <td>331.0</td>\n",
       "      <td>10.0</td>\n",
       "      <td>142.0</td>\n",
       "    </tr>\n",
       "    <tr>\n",
       "      <th>Vietnam</th>\n",
       "      <td>270.0</td>\n",
       "      <td>0.0</td>\n",
       "      <td>222.0</td>\n",
       "    </tr>\n",
       "    <tr>\n",
       "      <th>West Bank and Gaza</th>\n",
       "      <td>344.0</td>\n",
       "      <td>2.0</td>\n",
       "      <td>71.0</td>\n",
       "    </tr>\n",
       "    <tr>\n",
       "      <th>Western Sahara</th>\n",
       "      <td>6.0</td>\n",
       "      <td>0.0</td>\n",
       "      <td>5.0</td>\n",
       "    </tr>\n",
       "    <tr>\n",
       "      <th>Yemen</th>\n",
       "      <td>6.0</td>\n",
       "      <td>0.0</td>\n",
       "      <td>1.0</td>\n",
       "    </tr>\n",
       "    <tr>\n",
       "      <th>Zambia</th>\n",
       "      <td>97.0</td>\n",
       "      <td>3.0</td>\n",
       "      <td>54.0</td>\n",
       "    </tr>\n",
       "    <tr>\n",
       "      <th>Zimbabwe</th>\n",
       "      <td>32.0</td>\n",
       "      <td>4.0</td>\n",
       "      <td>5.0</td>\n",
       "    </tr>\n",
       "  </tbody>\n",
       "</table>\n",
       "</div>"
      ],
      "text/plain": [
       "                                 Confirmed   Deaths  Recovered\n",
       "Data       Country/Region                                     \n",
       "2020-04-29 Thailand                 2947.0     54.0     2665.0\n",
       "           Timor-Leste                24.0      0.0        6.0\n",
       "           Togo                      109.0      7.0       64.0\n",
       "           Trinidad and Tobago       116.0      8.0       71.0\n",
       "           Tunisia                   980.0     40.0      294.0\n",
       "           Turkey                 117589.0   3081.0    44040.0\n",
       "           UK                     166441.0  26166.0      857.0\n",
       "           US                    1039909.0  60967.0   120720.0\n",
       "           Uganda                     81.0      0.0       52.0\n",
       "           Ukraine                  9866.0    250.0     1103.0\n",
       "           United Arab Emirates    11929.0     98.0     2329.0\n",
       "           Uruguay                   630.0     15.0      412.0\n",
       "           Uzbekistan               2002.0      9.0     1096.0\n",
       "           Venezuela                 331.0     10.0      142.0\n",
       "           Vietnam                   270.0      0.0      222.0\n",
       "           West Bank and Gaza        344.0      2.0       71.0\n",
       "           Western Sahara              6.0      0.0        5.0\n",
       "           Yemen                       6.0      0.0        1.0\n",
       "           Zambia                     97.0      3.0       54.0\n",
       "           Zimbabwe                   32.0      4.0        5.0"
      ]
     },
     "execution_count": 8,
     "metadata": {},
     "output_type": "execute_result"
    }
   ],
   "source": [
    "COVID.tail(20)"
   ]
  },
  {
   "cell_type": "code",
   "execution_count": 9,
   "metadata": {},
   "outputs": [
    {
     "data": {
      "text/plain": [
       "(220,)"
      ]
     },
     "execution_count": 9,
     "metadata": {},
     "output_type": "execute_result"
    }
   ],
   "source": [
    "COVID_['Country/Region'].unique().shape"
   ]
  },
  {
   "cell_type": "code",
   "execution_count": 10,
   "metadata": {},
   "outputs": [
    {
     "name": "stdout",
     "output_type": "stream",
     "text": [
      "Mainland China (99, 3)\n",
      "US (99, 3)\n",
      "Brazil (65, 3)\n",
      "France (97, 3)\n",
      "Canada (95, 3)\n",
      "Germany (93, 3)\n",
      "Italy (90, 3)\n",
      "UK (90, 3)\n",
      "Russia (90, 3)\n",
      "Spain (89, 3)\n",
      "Iran (71, 3)\n"
     ]
    }
   ],
   "source": [
    "for i in COVID_['Country/Region'].unique():\n",
    "    _ = COVID.loc[COVID.index.get_level_values('Country/Region')==i].shape\n",
    "    if (_[0] > 50) & (COVID.loc[(COVID.index.get_level_values( 'Country/Region')==i),'Confirmed'].max() > 50000):\n",
    "        print(i, _)"
   ]
  },
  {
   "cell_type": "code",
   "execution_count": 11,
   "metadata": {},
   "outputs": [
    {
     "data": {
      "image/png": "[encoded data removed]",
      "text/plain": [
       "<Figure size 432x288 with 1 Axes>"
      ]
     },
     "metadata": {
      "needs_background": "light"
     },
     "output_type": "display_data"
    }
   ],
   "source": [
    "# судя по всему, US и Brazil и Canada и UK и Russia =( далеко от плато.\n",
    "# Iran, Germany,Italy,Spain  начали выходить на плато. France - не понятно.  возьмем для оптимизма Iran\n",
    "COVID.loc[COVID.index.get_level_values('Country/Region')=='Iran', ['Confirmed','Deaths','Recovered']].plot()\n",
    "plt.xticks(label = COVID.index.get_level_values('Data'), rotation=90)\n",
    "\n",
    "plt.show()"
   ]
  },
  {
   "cell_type": "markdown",
   "metadata": {},
   "source": [
    "странные скачки в Recovered, посмотрим на них поближе"
   ]
  },
  {
   "cell_type": "code",
   "execution_count": 12,
   "metadata": {},
   "outputs": [
    {
     "data": {
      "image/png": "[encoded data removed]",
      "text/plain": [
       "<Figure size 432x288 with 1 Axes>"
      ]
     },
     "metadata": {
      "needs_background": "light"
     },
     "output_type": "display_data"
    }
   ],
   "source": [
    "COVID.loc[((COVID.index.get_level_values( 'Country/Region')=='Iran') & (COVID.index.get_level_values('Data') > pd.to_datetime('2020-04-03'))& (COVID.index.get_level_values('Data') < pd.to_datetime('2020-04-13'))), ['Confirmed','Deaths','Recovered']].plot()\n",
    "plt.xticks(label = COVID.index.get_level_values('Data'), rotation=90)\n",
    "\n",
    "plt.show()"
   ]
  },
  {
   "cell_type": "code",
   "execution_count": 13,
   "metadata": {},
   "outputs": [
    {
     "data": {
      "text/html": [
       "<div>\n",
       "<style scoped>\n",
       "    .dataframe tbody tr th:only-of-type {\n",
       "        vertical-align: middle;\n",
       "    }\n",
       "\n",
       "    .dataframe tbody tr th {\n",
       "        vertical-align: top;\n",
       "    }\n",
       "\n",
       "    .dataframe thead th {\n",
       "        text-align: right;\n",
       "    }\n",
       "</style>\n",
       "<table border=\"1\" class=\"dataframe\">\n",
       "  <thead>\n",
       "    <tr style=\"text-align: right;\">\n",
       "      <th></th>\n",
       "      <th></th>\n",
       "      <th>Confirmed</th>\n",
       "      <th>Deaths</th>\n",
       "      <th>Recovered</th>\n",
       "    </tr>\n",
       "    <tr>\n",
       "      <th>Data</th>\n",
       "      <th>Country/Region</th>\n",
       "      <th></th>\n",
       "      <th></th>\n",
       "      <th></th>\n",
       "    </tr>\n",
       "  </thead>\n",
       "  <tbody>\n",
       "    <tr>\n",
       "      <th>2020-04-04</th>\n",
       "      <th>Iran</th>\n",
       "      <td>55743.0</td>\n",
       "      <td>3452.0</td>\n",
       "      <td>19736.0</td>\n",
       "    </tr>\n",
       "    <tr>\n",
       "      <th>2020-04-05</th>\n",
       "      <th>Iran</th>\n",
       "      <td>58226.0</td>\n",
       "      <td>3603.0</td>\n",
       "      <td>19736.0</td>\n",
       "    </tr>\n",
       "    <tr>\n",
       "      <th>2020-04-06</th>\n",
       "      <th>Iran</th>\n",
       "      <td>60500.0</td>\n",
       "      <td>3739.0</td>\n",
       "      <td>24236.0</td>\n",
       "    </tr>\n",
       "    <tr>\n",
       "      <th>2020-04-07</th>\n",
       "      <th>Iran</th>\n",
       "      <td>62589.0</td>\n",
       "      <td>3872.0</td>\n",
       "      <td>27039.0</td>\n",
       "    </tr>\n",
       "    <tr>\n",
       "      <th>2020-04-08</th>\n",
       "      <th>Iran</th>\n",
       "      <td>64586.0</td>\n",
       "      <td>3993.0</td>\n",
       "      <td>29812.0</td>\n",
       "    </tr>\n",
       "    <tr>\n",
       "      <th>2020-04-09</th>\n",
       "      <th>Iran</th>\n",
       "      <td>66220.0</td>\n",
       "      <td>4110.0</td>\n",
       "      <td>32309.0</td>\n",
       "    </tr>\n",
       "    <tr>\n",
       "      <th>2020-04-10</th>\n",
       "      <th>Iran</th>\n",
       "      <td>68192.0</td>\n",
       "      <td>4232.0</td>\n",
       "      <td>35465.0</td>\n",
       "    </tr>\n",
       "    <tr>\n",
       "      <th>2020-04-11</th>\n",
       "      <th>Iran</th>\n",
       "      <td>70029.0</td>\n",
       "      <td>4357.0</td>\n",
       "      <td>41947.0</td>\n",
       "    </tr>\n",
       "    <tr>\n",
       "      <th>2020-04-12</th>\n",
       "      <th>Iran</th>\n",
       "      <td>71686.0</td>\n",
       "      <td>4474.0</td>\n",
       "      <td>43894.0</td>\n",
       "    </tr>\n",
       "  </tbody>\n",
       "</table>\n",
       "</div>"
      ],
      "text/plain": [
       "                           Confirmed  Deaths  Recovered\n",
       "Data       Country/Region                              \n",
       "2020-04-04 Iran              55743.0  3452.0    19736.0\n",
       "2020-04-05 Iran              58226.0  3603.0    19736.0\n",
       "2020-04-06 Iran              60500.0  3739.0    24236.0\n",
       "2020-04-07 Iran              62589.0  3872.0    27039.0\n",
       "2020-04-08 Iran              64586.0  3993.0    29812.0\n",
       "2020-04-09 Iran              66220.0  4110.0    32309.0\n",
       "2020-04-10 Iran              68192.0  4232.0    35465.0\n",
       "2020-04-11 Iran              70029.0  4357.0    41947.0\n",
       "2020-04-12 Iran              71686.0  4474.0    43894.0"
      ]
     },
     "execution_count": 13,
     "metadata": {},
     "output_type": "execute_result"
    }
   ],
   "source": [
    "COVID.loc[((COVID.index.get_level_values('Country/Region')=='Iran') & (COVID.index.get_level_values('Data') > pd.to_datetime('2020-04-03'))& (COVID.index.get_level_values('Data') < pd.to_datetime('2020-04-13'))), ['Confirmed','Deaths','Recovered']]"
   ]
  },
  {
   "cell_type": "markdown",
   "metadata": {},
   "source": [
    "скачки в количестве выздоровших с 4 и 5 апреля одинаковые цифры, затем 6го скачок <br>\n",
    "10-11 апреля просто скачок в 2 раза<br>\n",
    "скачок китая с из-за подсчета Ирана не касается<br>\n"
   ]
  },
  {
   "cell_type": "code",
   "execution_count": 14,
   "metadata": {},
   "outputs": [
    {
     "data": {
      "image/png": "[encoded data removed]",
      "text/plain": [
       "<Figure size 432x288 with 1 Axes>"
      ]
     },
     "metadata": {
      "needs_background": "light"
     },
     "output_type": "display_data"
    }
   ],
   "source": [
    "COVID.loc[COVID.index.get_level_values('Country/Region')=='Iran', ['Confirmed','Deaths','Recovered']].diff(1).plot()\n",
    "plt.xticks(label = COVID.index.get_level_values('Data'), rotation=90)\n",
    "\n",
    "plt.show()"
   ]
  },
  {
   "cell_type": "markdown",
   "metadata": {},
   "source": [
    "Confirmed - действительно выходит на плато <br>\n",
    "Deaths - плюс минус ровно <br>\n",
    "Recovered - действительно пики"
   ]
  },
  {
   "cell_type": "code",
   "execution_count": 15,
   "metadata": {},
   "outputs": [
    {
     "data": {
      "text/plain": [
       "(71, 1)"
      ]
     },
     "execution_count": 15,
     "metadata": {},
     "output_type": "execute_result"
    }
   ],
   "source": [
    "# первая разность\n",
    "X1 = COVID.loc[COVID.index.get_level_values('Country/Region')=='Iran', ['Confirmed']].diff(1).values\n",
    "X1[0,:] = 0\n",
    "X1.shape"
   ]
  },
  {
   "cell_type": "code",
   "execution_count": 16,
   "metadata": {},
   "outputs": [
    {
     "data": {
      "text/plain": [
       "(71, 1)"
      ]
     },
     "execution_count": 16,
     "metadata": {},
     "output_type": "execute_result"
    }
   ],
   "source": [
    "# сам ряд\n",
    "X2 = COVID.loc[COVID.index.get_level_values('Country/Region')=='Iran', ['Confirmed']].values \n",
    "X2.shape"
   ]
  },
  {
   "cell_type": "code",
   "execution_count": 17,
   "metadata": {},
   "outputs": [
    {
     "data": {
      "text/plain": [
       "((71,), (71,), (71,))"
      ]
     },
     "execution_count": 17,
     "metadata": {},
     "output_type": "execute_result"
    }
   ],
   "source": [
    "# датные столбцы, день недели и день года\n",
    "X3 = COVID.iloc[COVID.index.get_level_values('Country/Region')=='Iran'].index.get_level_values( 'Data')\n",
    "X3_1 = pd.to_datetime(X3).dayofweek\n",
    "X3_2 = pd.to_datetime(X3).dayofyear -  pd.to_datetime(X3[0]).dayofyear\n",
    "X3.shape, X3_1.shape, X3_2.shape "
   ]
  },
  {
   "cell_type": "code",
   "execution_count": 18,
   "metadata": {},
   "outputs": [
    {
     "data": {
      "text/plain": [
       "(71, 4)"
      ]
     },
     "execution_count": 18,
     "metadata": {},
     "output_type": "execute_result"
    }
   ],
   "source": [
    "XX = np.concatenate([X2, X1], axis= 1)\n",
    "XX = np.concatenate([XX,np.array(X3_1).reshape((X1.shape[0],1))], axis= 1)\n",
    "XX = np.concatenate([XX,np.array(X3_2).reshape((X1.shape[0],1))], axis= 1)\n",
    "XX.shape"
   ]
  },
  {
   "cell_type": "code",
   "execution_count": 19,
   "metadata": {},
   "outputs": [
    {
     "data": {
      "image/png": "[encoded data removed]",
      "text/plain": [
       "<Figure size 432x288 with 1 Axes>"
      ]
     },
     "metadata": {
      "needs_background": "light"
     },
     "output_type": "display_data"
    }
   ],
   "source": [
    "# есть первая разность. есть ли смысл строить не разность а первое частное?\n",
    "\n",
    "X_div2 = [0]\n",
    "\n",
    "for i in range(1,len(XX[:,0])):\n",
    "    X_div2 = np.append(X_div2, XX[:,0][i-1]/XX[:,0][i])\n",
    "\n",
    "plt.plot(X_div2, label='X_div2')\n",
    "plt.legend()\n",
    "plt.show()\n",
    "\n",
    "XX = np.concatenate([XX,X_div2.reshape((X_div2.shape[0],1))], axis= 1)"
   ]
  },
  {
   "cell_type": "code",
   "execution_count": 20,
   "metadata": {},
   "outputs": [
    {
     "data": {
      "image/png": "[encoded data removed]",
      "text/plain": [
       "<Figure size 432x288 with 1 Axes>"
      ]
     },
     "metadata": {
      "needs_background": "light"
     },
     "output_type": "display_data"
    }
   ],
   "source": [
    "#логарифмы исходных данных\n",
    "X_log3, lmbda3 = scs.boxcox(XX[:,0])\n",
    "\n",
    "plt.plot(X_log3[:], label='log(X)3')\n",
    "plt.legend()\n",
    "plt.title('log X')\n",
    "plt.show()\n",
    "\n",
    "XX = np.concatenate([XX,X_log3.reshape((X_log3.shape[0],1))], axis= 1)"
   ]
  },
  {
   "cell_type": "code",
   "execution_count": 21,
   "metadata": {},
   "outputs": [
    {
     "data": {
      "image/png": "[encoded data removed]",
      "text/plain": [
       "<Figure size 432x288 with 1 Axes>"
      ]
     },
     "metadata": {
      "needs_background": "light"
     },
     "output_type": "display_data"
    }
   ],
   "source": [
    "# логарифмы первых разностей\n",
    "X_log0, lmbda0 = scs.boxcox(XX[:,1]+1)\n",
    "\n",
    "plt.plot(X_log0[:], label='log(X)0')\n",
    "plt.legend()\n",
    "plt.title('log X')\n",
    "plt.show()\n",
    "\n",
    "XX = np.concatenate([XX,X_log0.reshape((X_log0.shape[0],1))], axis= 1)"
   ]
  },
  {
   "cell_type": "code",
   "execution_count": 22,
   "metadata": {},
   "outputs": [
    {
     "data": {
      "image/png": "[encoded data removed]",
      "text/plain": [
       "<Figure size 432x288 with 1 Axes>"
      ]
     },
     "metadata": {
      "needs_background": "light"
     },
     "output_type": "display_data"
    },
    {
     "data": {
      "image/png": "[encoded data removed]",
      "text/plain": [
       "<Figure size 432x288 with 1 Axes>"
      ]
     },
     "metadata": {
      "needs_background": "light"
     },
     "output_type": "display_data"
    }
   ],
   "source": [
    "# сглаживание и их логарифмы\n",
    "# сглаживание относительно самих данных бесполезно. но можно посмотреть сглаживание у первых разностей\n",
    "# теоретически сглаживание можно строить вообще к половине столбцов\n",
    "\n",
    "def exponential_smoothing(series, alpha):\n",
    "    result = [series[0]] # first value is same as series\n",
    "    for n in range(1, len(series)):\n",
    "        result.append(alpha * series[n] + (1 - alpha) * result[n-1])\n",
    "    return result\n",
    "\n",
    "XX_sm0 = exponential_smoothing(XX[:,0], 0.2)\n",
    "XX_sm1 = exponential_smoothing(XX[:,0], 0.3)\n",
    "XX_sm2 = exponential_smoothing(XX[:,0], 0.4)\n",
    "XX_sm3 = exponential_smoothing(XX[:,0], 0.5)\n",
    "XX_sm4 = exponential_smoothing(XX[:,0], 0.6)\n",
    "XX_sm5 = exponential_smoothing(XX[:,0], 0.7)\n",
    "XX_sm6 = exponential_smoothing(XX[:,0], 0.8)\n",
    "\n",
    "XX_sm0_log, lmbda0 = scs.boxcox(np.array(XX_sm0)+1)\n",
    "XX_sm1_log, lmbda1 = scs.boxcox(np.array(XX_sm1)+1)\n",
    "XX_sm2_log, lmbda2 = scs.boxcox(np.array(XX_sm2)+1)\n",
    "XX_sm3_log, lmbda3 = scs.boxcox(np.array(XX_sm3)+1)\n",
    "XX_sm4_log, lmbda4 = scs.boxcox(np.array(XX_sm4)+1)\n",
    "XX_sm5_log, lmbda5 = scs.boxcox(np.array(XX_sm5)+1)\n",
    "XX_sm6_log, lmbda6 = scs.boxcox(np.array(XX_sm6)+1)\n",
    "\n",
    "\n",
    "XX = np.concatenate([XX,np.array(XX_sm0).reshape((XX.shape[0],1))], axis= 1)\n",
    "XX = np.concatenate([XX,np.array(XX_sm1).reshape((XX.shape[0],1))], axis= 1)\n",
    "XX = np.concatenate([XX,np.array(XX_sm2).reshape((XX.shape[0],1))], axis= 1)\n",
    "XX = np.concatenate([XX,np.array(XX_sm3).reshape((XX.shape[0],1))], axis= 1)\n",
    "XX = np.concatenate([XX,np.array(XX_sm4).reshape((XX.shape[0],1))], axis= 1)\n",
    "XX = np.concatenate([XX,np.array(XX_sm5).reshape((XX.shape[0],1))], axis= 1)\n",
    "XX = np.concatenate([XX,np.array(XX_sm6).reshape((XX.shape[0],1))], axis= 1)\n",
    "\n",
    "XX = np.concatenate([XX,np.array(XX_sm0_log).reshape((XX.shape[0],1))], axis= 1)\n",
    "XX = np.concatenate([XX,np.array(XX_sm1_log).reshape((XX.shape[0],1))], axis= 1)\n",
    "XX = np.concatenate([XX,np.array(XX_sm2_log).reshape((XX.shape[0],1))], axis= 1)\n",
    "XX = np.concatenate([XX,np.array(XX_sm3_log).reshape((XX.shape[0],1))], axis= 1)\n",
    "XX = np.concatenate([XX,np.array(XX_sm4_log).reshape((XX.shape[0],1))], axis= 1)\n",
    "XX = np.concatenate([XX,np.array(XX_sm5_log).reshape((XX.shape[0],1))], axis= 1)\n",
    "XX = np.concatenate([XX,np.array(XX_sm6_log).reshape((XX.shape[0],1))], axis= 1)\n",
    "\n",
    "plt.plot(XX_sm0, label='XX_sm0')\n",
    "plt.plot(XX_sm1, label='XX_sm1')\n",
    "plt.plot(XX_sm2, label='XX_sm2')\n",
    "plt.plot(XX_sm3, label='XX_sm0')\n",
    "plt.plot(XX_sm4, label='XX_sm1')\n",
    "plt.plot(XX_sm5, label='XX_sm2')\n",
    "plt.plot(XX_sm6, label='XX_sm2')\n",
    "plt.legend()\n",
    "plt.show()\n",
    "\n",
    "plt.plot(XX_sm0_log, label='XX_sm0_log')\n",
    "plt.plot(XX_sm1_log, label='XX_sm1_log')\n",
    "plt.plot(XX_sm2_log, label='XX_sm2_log')\n",
    "plt.plot(XX_sm3_log, label='XX_sm1_log')\n",
    "plt.plot(XX_sm4_log, label='XX_sm2_log')\n",
    "plt.plot(XX_sm5_log, label='XX_sm1_log')\n",
    "plt.plot(XX_sm6_log, label='XX_sm2_log')\n",
    "plt.legend()\n",
    "plt.show()"
   ]
  },
  {
   "cell_type": "code",
   "execution_count": 23,
   "metadata": {},
   "outputs": [
    {
     "data": {
      "text/plain": [
       "(71, 21)"
      ]
     },
     "execution_count": 23,
     "metadata": {},
     "output_type": "execute_result"
    }
   ],
   "source": [
    "XX.shape"
   ]
  },
  {
   "cell_type": "code",
   "execution_count": 318,
   "metadata": {},
   "outputs": [],
   "source": [
    "COVID_Data = pd.DataFrame(data= XX, index= X3)"
   ]
  },
  {
   "cell_type": "code",
   "execution_count": 319,
   "metadata": {},
   "outputs": [],
   "source": [
    "COVID_Data.columns = ['conf',\n",
    "                      'fst_dif_c', \n",
    "                      'dayofweek',\n",
    "                      'dayofyear',\n",
    "                      'fst_div', \n",
    "                      'conf_log',\n",
    "                      'fst_dif_log',\n",
    "                      'XX_sm0',\n",
    "                      'XX_sm1',\n",
    "                      'XX_sm2',\n",
    "                      'XX_sm3',\n",
    "                      'XX_sm4',\n",
    "                      'XX_sm5',\n",
    "                      'XX_sm6', \n",
    "                      'XX_sm0_log',\n",
    "                      'XX_sm1_log',\n",
    "                      'XX_sm2_log',\n",
    "                      'XX_sm3_log',\n",
    "                      'XX_sm4_log',\n",
    "                      'XX_sm5_log',\n",
    "                      'XX_sm6_log'\n",
    "                       ]"
   ]
  },
  {
   "cell_type": "code",
   "execution_count": 27,
   "metadata": {},
   "outputs": [],
   "source": [
    "# scl=StandardScaler()\n",
    "# X_scl = COVID_Data.iloc[:,:-1].values\n",
    "# Xscale = scl.fit_transform(X_scl)\n",
    "# pca = PCA(n_components=2, svd_solver='full')\n",
    "# Xpca=pca.fit_transform(Xscale[:,1:])\n",
    "# Xpca.shape\n",
    "\n",
    "# COVID_Data['pca1']=Xpca[:,0]\n",
    "# COVID_Data['pca2']=Xpca[:,1]\n",
    "# COVID_Data = COVID_Data.drop(['pca1','pca2'],axis=1)"
   ]
  },
  {
   "cell_type": "code",
   "execution_count": 28,
   "metadata": {},
   "outputs": [
    {
     "data": {
      "image/png": "[encoded data removed]",
      "text/plain": [
       "<Figure size 432x288 with 1 Axes>"
      ]
     },
     "metadata": {
      "needs_background": "light"
     },
     "output_type": "display_data"
    },
    {
     "name": "stderr",
     "output_type": "stream",
     "text": [
      "C:\\Users\\marchenko-i-u\\AppData\\Local\\Continuum\\anaconda3\\lib\\site-packages\\statsmodels\\regression\\linear_model.py:1358: RuntimeWarning: invalid value encountered in sqrt\n",
      "  return rho, np.sqrt(sigmasq)\n"
     ]
    },
    {
     "data": {
      "image/png": "[encoded data removed]",
      "text/plain": [
       "<Figure size 432x288 with 1 Axes>"
      ]
     },
     "metadata": {
      "needs_background": "light"
     },
     "output_type": "display_data"
    }
   ],
   "source": [
    "sm.graphics.tsa.plot_acf(COVID_Data.iloc[:,0], lags=60)\n",
    "plt.show()\n",
    "sm.graphics.tsa.plot_pacf(COVID_Data.iloc[:,0], lags=60)\n",
    "plt.show()"
   ]
  },
  {
   "cell_type": "markdown",
   "metadata": {},
   "source": [
    "эээээ ой... сезонности нету, правильно? сильная корреляция с35 и 36 днем..."
   ]
  },
  {
   "cell_type": "code",
   "execution_count": 29,
   "metadata": {},
   "outputs": [],
   "source": [
    "p = 5\n",
    "for i in range(p):\n",
    "    COVID_Data['t'+str(p-i)]=0\n",
    "    COVID_Data['t'+str(p-i)].values[p:] = COVID_Data['conf'].values[i:-(p)+i]\n",
    "    \n",
    "p = 5\n",
    "for i in range(p):\n",
    "    COVID_Data['d'+str(p-i)]=0\n",
    "    COVID_Data['d'+str(p-i)].values[p:] = COVID_Data['fst_dif_c'].values[i:-(p)+i]"
   ]
  },
  {
   "cell_type": "code",
   "execution_count": 30,
   "metadata": {
    "scrolled": true
   },
   "outputs": [
    {
     "data": {
      "text/html": [
       "<div>\n",
       "<style scoped>\n",
       "    .dataframe tbody tr th:only-of-type {\n",
       "        vertical-align: middle;\n",
       "    }\n",
       "\n",
       "    .dataframe tbody tr th {\n",
       "        vertical-align: top;\n",
       "    }\n",
       "\n",
       "    .dataframe thead th {\n",
       "        text-align: right;\n",
       "    }\n",
       "</style>\n",
       "<table border=\"1\" class=\"dataframe\">\n",
       "  <thead>\n",
       "    <tr style=\"text-align: right;\">\n",
       "      <th></th>\n",
       "      <th>conf</th>\n",
       "      <th>fst_dif_c</th>\n",
       "      <th>dayofweek</th>\n",
       "      <th>dayofyear</th>\n",
       "      <th>fst_div</th>\n",
       "      <th>conf_log</th>\n",
       "      <th>fst_dif_log</th>\n",
       "      <th>XX_sm0</th>\n",
       "      <th>XX_sm1</th>\n",
       "      <th>XX_sm2</th>\n",
       "      <th>...</th>\n",
       "      <th>t5</th>\n",
       "      <th>t4</th>\n",
       "      <th>t3</th>\n",
       "      <th>t2</th>\n",
       "      <th>t1</th>\n",
       "      <th>d5</th>\n",
       "      <th>d4</th>\n",
       "      <th>d3</th>\n",
       "      <th>d2</th>\n",
       "      <th>d1</th>\n",
       "    </tr>\n",
       "  </thead>\n",
       "  <tbody>\n",
       "    <tr>\n",
       "      <th>conf</th>\n",
       "      <td>1.000000</td>\n",
       "      <td>0.456930</td>\n",
       "      <td>-0.031536</td>\n",
       "      <td>0.977154</td>\n",
       "      <td>0.646447</td>\n",
       "      <td>0.935233</td>\n",
       "      <td>0.523671</td>\n",
       "      <td>0.996810</td>\n",
       "      <td>0.998751</td>\n",
       "      <td>0.999451</td>\n",
       "      <td>...</td>\n",
       "      <td>0.993245</td>\n",
       "      <td>0.995657</td>\n",
       "      <td>0.997548</td>\n",
       "      <td>0.998908</td>\n",
       "      <td>0.999726</td>\n",
       "      <td>0.673925</td>\n",
       "      <td>0.636437</td>\n",
       "      <td>0.597058</td>\n",
       "      <td>0.550693</td>\n",
       "      <td>0.505652</td>\n",
       "    </tr>\n",
       "    <tr>\n",
       "      <th>fst_dif_c</th>\n",
       "      <td>0.456930</td>\n",
       "      <td>1.000000</td>\n",
       "      <td>0.008965</td>\n",
       "      <td>0.544230</td>\n",
       "      <td>0.602148</td>\n",
       "      <td>0.664460</td>\n",
       "      <td>0.974707</td>\n",
       "      <td>0.388897</td>\n",
       "      <td>0.413456</td>\n",
       "      <td>0.427775</td>\n",
       "      <td>...</td>\n",
       "      <td>0.355089</td>\n",
       "      <td>0.374560</td>\n",
       "      <td>0.394682</td>\n",
       "      <td>0.415187</td>\n",
       "      <td>0.435998</td>\n",
       "      <td>0.817689</td>\n",
       "      <td>0.867328</td>\n",
       "      <td>0.911434</td>\n",
       "      <td>0.943957</td>\n",
       "      <td>0.975257</td>\n",
       "    </tr>\n",
       "    <tr>\n",
       "      <th>dayofweek</th>\n",
       "      <td>-0.031536</td>\n",
       "      <td>0.008965</td>\n",
       "      <td>1.000000</td>\n",
       "      <td>-0.036274</td>\n",
       "      <td>-0.023248</td>\n",
       "      <td>-0.029157</td>\n",
       "      <td>0.002210</td>\n",
       "      <td>-0.033599</td>\n",
       "      <td>-0.032890</td>\n",
       "      <td>-0.032508</td>\n",
       "      <td>...</td>\n",
       "      <td>-0.033484</td>\n",
       "      <td>-0.033455</td>\n",
       "      <td>-0.034342</td>\n",
       "      <td>-0.033515</td>\n",
       "      <td>-0.032169</td>\n",
       "      <td>-0.013072</td>\n",
       "      <td>-0.017667</td>\n",
       "      <td>-0.049223</td>\n",
       "      <td>0.012841</td>\n",
       "      <td>0.034360</td>\n",
       "    </tr>\n",
       "    <tr>\n",
       "      <th>dayofyear</th>\n",
       "      <td>0.977154</td>\n",
       "      <td>0.544230</td>\n",
       "      <td>-0.036274</td>\n",
       "      <td>1.000000</td>\n",
       "      <td>0.763822</td>\n",
       "      <td>0.981089</td>\n",
       "      <td>0.633265</td>\n",
       "      <td>0.967194</td>\n",
       "      <td>0.971270</td>\n",
       "      <td>0.973357</td>\n",
       "      <td>...</td>\n",
       "      <td>0.959984</td>\n",
       "      <td>0.964012</td>\n",
       "      <td>0.967744</td>\n",
       "      <td>0.971182</td>\n",
       "      <td>0.974324</td>\n",
       "      <td>0.700836</td>\n",
       "      <td>0.673453</td>\n",
       "      <td>0.645363</td>\n",
       "      <td>0.611261</td>\n",
       "      <td>0.579321</td>\n",
       "    </tr>\n",
       "    <tr>\n",
       "      <th>fst_div</th>\n",
       "      <td>0.646447</td>\n",
       "      <td>0.602148</td>\n",
       "      <td>-0.023248</td>\n",
       "      <td>0.763822</td>\n",
       "      <td>1.000000</td>\n",
       "      <td>0.823724</td>\n",
       "      <td>0.724583</td>\n",
       "      <td>0.616827</td>\n",
       "      <td>0.628197</td>\n",
       "      <td>0.634497</td>\n",
       "      <td>...</td>\n",
       "      <td>0.602044</td>\n",
       "      <td>0.611299</td>\n",
       "      <td>0.620429</td>\n",
       "      <td>0.629482</td>\n",
       "      <td>0.638213</td>\n",
       "      <td>0.658721</td>\n",
       "      <td>0.653723</td>\n",
       "      <td>0.648538</td>\n",
       "      <td>0.640930</td>\n",
       "      <td>0.625714</td>\n",
       "    </tr>\n",
       "    <tr>\n",
       "      <th>conf_log</th>\n",
       "      <td>0.935233</td>\n",
       "      <td>0.664460</td>\n",
       "      <td>-0.029157</td>\n",
       "      <td>0.981089</td>\n",
       "      <td>0.823724</td>\n",
       "      <td>1.000000</td>\n",
       "      <td>0.754104</td>\n",
       "      <td>0.911604</td>\n",
       "      <td>0.920953</td>\n",
       "      <td>0.925961</td>\n",
       "      <td>...</td>\n",
       "      <td>0.898958</td>\n",
       "      <td>0.906905</td>\n",
       "      <td>0.914530</td>\n",
       "      <td>0.921829</td>\n",
       "      <td>0.928751</td>\n",
       "      <td>0.793389</td>\n",
       "      <td>0.774189</td>\n",
       "      <td>0.752703</td>\n",
       "      <td>0.724940</td>\n",
       "      <td>0.697111</td>\n",
       "    </tr>\n",
       "    <tr>\n",
       "      <th>fst_dif_log</th>\n",
       "      <td>0.523671</td>\n",
       "      <td>0.974707</td>\n",
       "      <td>0.002210</td>\n",
       "      <td>0.633265</td>\n",
       "      <td>0.724583</td>\n",
       "      <td>0.754104</td>\n",
       "      <td>1.000000</td>\n",
       "      <td>0.460200</td>\n",
       "      <td>0.483265</td>\n",
       "      <td>0.496617</td>\n",
       "      <td>...</td>\n",
       "      <td>0.428953</td>\n",
       "      <td>0.447182</td>\n",
       "      <td>0.465880</td>\n",
       "      <td>0.484883</td>\n",
       "      <td>0.504197</td>\n",
       "      <td>0.826496</td>\n",
       "      <td>0.865826</td>\n",
       "      <td>0.899712</td>\n",
       "      <td>0.925093</td>\n",
       "      <td>0.952464</td>\n",
       "    </tr>\n",
       "    <tr>\n",
       "      <th>XX_sm0</th>\n",
       "      <td>0.996810</td>\n",
       "      <td>0.388897</td>\n",
       "      <td>-0.033599</td>\n",
       "      <td>0.967194</td>\n",
       "      <td>0.616827</td>\n",
       "      <td>0.911604</td>\n",
       "      <td>0.460200</td>\n",
       "      <td>1.000000</td>\n",
       "      <td>0.999529</td>\n",
       "      <td>0.998864</td>\n",
       "      <td>...</td>\n",
       "      <td>0.999244</td>\n",
       "      <td>0.999782</td>\n",
       "      <td>0.999796</td>\n",
       "      <td>0.999292</td>\n",
       "      <td>0.998288</td>\n",
       "      <td>0.616869</td>\n",
       "      <td>0.575354</td>\n",
       "      <td>0.532839</td>\n",
       "      <td>0.484027</td>\n",
       "      <td>0.437727</td>\n",
       "    </tr>\n",
       "    <tr>\n",
       "      <th>XX_sm1</th>\n",
       "      <td>0.998751</td>\n",
       "      <td>0.413456</td>\n",
       "      <td>-0.032890</td>\n",
       "      <td>0.971270</td>\n",
       "      <td>0.628197</td>\n",
       "      <td>0.920953</td>\n",
       "      <td>0.483265</td>\n",
       "      <td>0.999529</td>\n",
       "      <td>1.000000</td>\n",
       "      <td>0.999854</td>\n",
       "      <td>...</td>\n",
       "      <td>0.997788</td>\n",
       "      <td>0.999047</td>\n",
       "      <td>0.999768</td>\n",
       "      <td>0.999951</td>\n",
       "      <td>0.999606</td>\n",
       "      <td>0.639878</td>\n",
       "      <td>0.599349</td>\n",
       "      <td>0.557452</td>\n",
       "      <td>0.509023</td>\n",
       "      <td>0.462657</td>\n",
       "    </tr>\n",
       "    <tr>\n",
       "      <th>XX_sm2</th>\n",
       "      <td>0.999451</td>\n",
       "      <td>0.427775</td>\n",
       "      <td>-0.032508</td>\n",
       "      <td>0.973357</td>\n",
       "      <td>0.634497</td>\n",
       "      <td>0.925961</td>\n",
       "      <td>0.496617</td>\n",
       "      <td>0.998864</td>\n",
       "      <td>0.999854</td>\n",
       "      <td>1.000000</td>\n",
       "      <td>...</td>\n",
       "      <td>0.996525</td>\n",
       "      <td>0.998190</td>\n",
       "      <td>0.999314</td>\n",
       "      <td>0.999896</td>\n",
       "      <td>0.999937</td>\n",
       "      <td>0.652293</td>\n",
       "      <td>0.612581</td>\n",
       "      <td>0.571287</td>\n",
       "      <td>0.523293</td>\n",
       "      <td>0.477073</td>\n",
       "    </tr>\n",
       "    <tr>\n",
       "      <th>XX_sm3</th>\n",
       "      <td>0.999747</td>\n",
       "      <td>0.437047</td>\n",
       "      <td>-0.032241</td>\n",
       "      <td>0.974618</td>\n",
       "      <td>0.638428</td>\n",
       "      <td>0.929035</td>\n",
       "      <td>0.505228</td>\n",
       "      <td>0.998304</td>\n",
       "      <td>0.999612</td>\n",
       "      <td>0.999942</td>\n",
       "      <td>...</td>\n",
       "      <td>0.995571</td>\n",
       "      <td>0.997488</td>\n",
       "      <td>0.998866</td>\n",
       "      <td>0.999703</td>\n",
       "      <td>0.999994</td>\n",
       "      <td>0.659766</td>\n",
       "      <td>0.620691</td>\n",
       "      <td>0.579909</td>\n",
       "      <td>0.532320</td>\n",
       "      <td>0.486318</td>\n",
       "    </tr>\n",
       "    <tr>\n",
       "      <th>XX_sm4</th>\n",
       "      <td>0.999885</td>\n",
       "      <td>0.443496</td>\n",
       "      <td>-0.032029</td>\n",
       "      <td>0.975461</td>\n",
       "      <td>0.641092</td>\n",
       "      <td>0.931101</td>\n",
       "      <td>0.511208</td>\n",
       "      <td>0.997860</td>\n",
       "      <td>0.999382</td>\n",
       "      <td>0.999835</td>\n",
       "      <td>...</td>\n",
       "      <td>0.994855</td>\n",
       "      <td>0.996939</td>\n",
       "      <td>0.998489</td>\n",
       "      <td>0.999500</td>\n",
       "      <td>0.999964</td>\n",
       "      <td>0.664651</td>\n",
       "      <td>0.626064</td>\n",
       "      <td>0.585698</td>\n",
       "      <td>0.538457</td>\n",
       "      <td>0.492684</td>\n",
       "    </tr>\n",
       "    <tr>\n",
       "      <th>XX_sm5</th>\n",
       "      <td>0.999952</td>\n",
       "      <td>0.448220</td>\n",
       "      <td>-0.031856</td>\n",
       "      <td>0.976065</td>\n",
       "      <td>0.643006</td>\n",
       "      <td>0.932579</td>\n",
       "      <td>0.515587</td>\n",
       "      <td>0.997510</td>\n",
       "      <td>0.999183</td>\n",
       "      <td>0.999725</td>\n",
       "      <td>...</td>\n",
       "      <td>0.994305</td>\n",
       "      <td>0.996508</td>\n",
       "      <td>0.998181</td>\n",
       "      <td>0.999317</td>\n",
       "      <td>0.999907</td>\n",
       "      <td>0.668053</td>\n",
       "      <td>0.629843</td>\n",
       "      <td>0.589808</td>\n",
       "      <td>0.542858</td>\n",
       "      <td>0.497302</td>\n",
       "    </tr>\n",
       "    <tr>\n",
       "      <th>XX_sm6</th>\n",
       "      <td>0.999984</td>\n",
       "      <td>0.451820</td>\n",
       "      <td>-0.031717</td>\n",
       "      <td>0.976519</td>\n",
       "      <td>0.644443</td>\n",
       "      <td>0.933686</td>\n",
       "      <td>0.518926</td>\n",
       "      <td>0.997229</td>\n",
       "      <td>0.999014</td>\n",
       "      <td>0.999622</td>\n",
       "      <td>...</td>\n",
       "      <td>0.993874</td>\n",
       "      <td>0.996165</td>\n",
       "      <td>0.997929</td>\n",
       "      <td>0.999159</td>\n",
       "      <td>0.999844</td>\n",
       "      <td>0.670543</td>\n",
       "      <td>0.632627</td>\n",
       "      <td>0.592858</td>\n",
       "      <td>0.546145</td>\n",
       "      <td>0.500785</td>\n",
       "    </tr>\n",
       "    <tr>\n",
       "      <th>XX_sm0_log</th>\n",
       "      <td>0.939030</td>\n",
       "      <td>0.648842</td>\n",
       "      <td>-0.030827</td>\n",
       "      <td>0.983854</td>\n",
       "      <td>0.820004</td>\n",
       "      <td>0.999512</td>\n",
       "      <td>0.739457</td>\n",
       "      <td>0.916908</td>\n",
       "      <td>0.925732</td>\n",
       "      <td>0.930419</td>\n",
       "      <td>...</td>\n",
       "      <td>0.905052</td>\n",
       "      <td>0.912562</td>\n",
       "      <td>0.919728</td>\n",
       "      <td>0.926556</td>\n",
       "      <td>0.933003</td>\n",
       "      <td>0.783709</td>\n",
       "      <td>0.762566</td>\n",
       "      <td>0.739482</td>\n",
       "      <td>0.710418</td>\n",
       "      <td>0.681611</td>\n",
       "    </tr>\n",
       "    <tr>\n",
       "      <th>XX_sm1_log</th>\n",
       "      <td>0.937268</td>\n",
       "      <td>0.654099</td>\n",
       "      <td>-0.030500</td>\n",
       "      <td>0.982581</td>\n",
       "      <td>0.821993</td>\n",
       "      <td>0.999751</td>\n",
       "      <td>0.744524</td>\n",
       "      <td>0.914532</td>\n",
       "      <td>0.923588</td>\n",
       "      <td>0.928408</td>\n",
       "      <td>...</td>\n",
       "      <td>0.902398</td>\n",
       "      <td>0.910096</td>\n",
       "      <td>0.917450</td>\n",
       "      <td>0.924461</td>\n",
       "      <td>0.931082</td>\n",
       "      <td>0.788222</td>\n",
       "      <td>0.767564</td>\n",
       "      <td>0.744808</td>\n",
       "      <td>0.715937</td>\n",
       "      <td>0.687111</td>\n",
       "    </tr>\n",
       "    <tr>\n",
       "      <th>XX_sm2_log</th>\n",
       "      <td>0.936474</td>\n",
       "      <td>0.657287</td>\n",
       "      <td>-0.030249</td>\n",
       "      <td>0.981972</td>\n",
       "      <td>0.822809</td>\n",
       "      <td>0.999865</td>\n",
       "      <td>0.747497</td>\n",
       "      <td>0.913410</td>\n",
       "      <td>0.922582</td>\n",
       "      <td>0.927473</td>\n",
       "      <td>...</td>\n",
       "      <td>0.901105</td>\n",
       "      <td>0.908902</td>\n",
       "      <td>0.916359</td>\n",
       "      <td>0.923473</td>\n",
       "      <td>0.930194</td>\n",
       "      <td>0.790510</td>\n",
       "      <td>0.770245</td>\n",
       "      <td>0.747794</td>\n",
       "      <td>0.719144</td>\n",
       "      <td>0.690404</td>\n",
       "    </tr>\n",
       "    <tr>\n",
       "      <th>XX_sm3_log</th>\n",
       "      <td>0.936093</td>\n",
       "      <td>0.659400</td>\n",
       "      <td>-0.030017</td>\n",
       "      <td>0.981659</td>\n",
       "      <td>0.823115</td>\n",
       "      <td>0.999927</td>\n",
       "      <td>0.749416</td>\n",
       "      <td>0.912837</td>\n",
       "      <td>0.922074</td>\n",
       "      <td>0.927005</td>\n",
       "      <td>...</td>\n",
       "      <td>0.900423</td>\n",
       "      <td>0.908275</td>\n",
       "      <td>0.915791</td>\n",
       "      <td>0.922968</td>\n",
       "      <td>0.929753</td>\n",
       "      <td>0.791736</td>\n",
       "      <td>0.771770</td>\n",
       "      <td>0.749575</td>\n",
       "      <td>0.721137</td>\n",
       "      <td>0.692535</td>\n",
       "    </tr>\n",
       "    <tr>\n",
       "      <th>XX_sm4_log</th>\n",
       "      <td>0.935907</td>\n",
       "      <td>0.660886</td>\n",
       "      <td>-0.029800</td>\n",
       "      <td>0.981489</td>\n",
       "      <td>0.823178</td>\n",
       "      <td>0.999961</td>\n",
       "      <td>0.750737</td>\n",
       "      <td>0.912532</td>\n",
       "      <td>0.921806</td>\n",
       "      <td>0.926763</td>\n",
       "      <td>...</td>\n",
       "      <td>0.900044</td>\n",
       "      <td>0.907929</td>\n",
       "      <td>0.915482</td>\n",
       "      <td>0.922699</td>\n",
       "      <td>0.929526</td>\n",
       "      <td>0.792426</td>\n",
       "      <td>0.772682</td>\n",
       "      <td>0.750690</td>\n",
       "      <td>0.722435</td>\n",
       "      <td>0.693988</td>\n",
       "    </tr>\n",
       "    <tr>\n",
       "      <th>XX_sm5_log</th>\n",
       "      <td>0.935821</td>\n",
       "      <td>0.661978</td>\n",
       "      <td>-0.029605</td>\n",
       "      <td>0.981395</td>\n",
       "      <td>0.823116</td>\n",
       "      <td>0.999980</td>\n",
       "      <td>0.751694</td>\n",
       "      <td>0.912368</td>\n",
       "      <td>0.921665</td>\n",
       "      <td>0.926638</td>\n",
       "      <td>...</td>\n",
       "      <td>0.899829</td>\n",
       "      <td>0.907734</td>\n",
       "      <td>0.915311</td>\n",
       "      <td>0.922554</td>\n",
       "      <td>0.929411</td>\n",
       "      <td>0.792833</td>\n",
       "      <td>0.773255</td>\n",
       "      <td>0.751415</td>\n",
       "      <td>0.723309</td>\n",
       "      <td>0.695016</td>\n",
       "    </tr>\n",
       "    <tr>\n",
       "      <th>XX_sm6_log</th>\n",
       "      <td>0.935789</td>\n",
       "      <td>0.662811</td>\n",
       "      <td>-0.029441</td>\n",
       "      <td>0.981343</td>\n",
       "      <td>0.822988</td>\n",
       "      <td>0.999991</td>\n",
       "      <td>0.752413</td>\n",
       "      <td>0.912282</td>\n",
       "      <td>0.921595</td>\n",
       "      <td>0.926578</td>\n",
       "      <td>...</td>\n",
       "      <td>0.899708</td>\n",
       "      <td>0.907626</td>\n",
       "      <td>0.915218</td>\n",
       "      <td>0.922479</td>\n",
       "      <td>0.929356</td>\n",
       "      <td>0.793083</td>\n",
       "      <td>0.773630</td>\n",
       "      <td>0.751905</td>\n",
       "      <td>0.723914</td>\n",
       "      <td>0.695763</td>\n",
       "    </tr>\n",
       "    <tr>\n",
       "      <th>t5</th>\n",
       "      <td>0.993245</td>\n",
       "      <td>0.355089</td>\n",
       "      <td>-0.033484</td>\n",
       "      <td>0.959984</td>\n",
       "      <td>0.602044</td>\n",
       "      <td>0.898958</td>\n",
       "      <td>0.428953</td>\n",
       "      <td>0.999244</td>\n",
       "      <td>0.997788</td>\n",
       "      <td>0.996525</td>\n",
       "      <td>...</td>\n",
       "      <td>1.000000</td>\n",
       "      <td>0.999704</td>\n",
       "      <td>0.998844</td>\n",
       "      <td>0.997453</td>\n",
       "      <td>0.995571</td>\n",
       "      <td>0.592259</td>\n",
       "      <td>0.547082</td>\n",
       "      <td>0.501885</td>\n",
       "      <td>0.451305</td>\n",
       "      <td>0.404028</td>\n",
       "    </tr>\n",
       "    <tr>\n",
       "      <th>t4</th>\n",
       "      <td>0.995657</td>\n",
       "      <td>0.374560</td>\n",
       "      <td>-0.033455</td>\n",
       "      <td>0.964012</td>\n",
       "      <td>0.611299</td>\n",
       "      <td>0.906905</td>\n",
       "      <td>0.447182</td>\n",
       "      <td>0.999782</td>\n",
       "      <td>0.999047</td>\n",
       "      <td>0.998190</td>\n",
       "      <td>...</td>\n",
       "      <td>0.999704</td>\n",
       "      <td>1.000000</td>\n",
       "      <td>0.999709</td>\n",
       "      <td>0.998863</td>\n",
       "      <td>0.997499</td>\n",
       "      <td>0.611111</td>\n",
       "      <td>0.567299</td>\n",
       "      <td>0.522184</td>\n",
       "      <td>0.471534</td>\n",
       "      <td>0.424064</td>\n",
       "    </tr>\n",
       "    <tr>\n",
       "      <th>t3</th>\n",
       "      <td>0.997548</td>\n",
       "      <td>0.394682</td>\n",
       "      <td>-0.034342</td>\n",
       "      <td>0.967744</td>\n",
       "      <td>0.620429</td>\n",
       "      <td>0.914530</td>\n",
       "      <td>0.465880</td>\n",
       "      <td>0.999796</td>\n",
       "      <td>0.999768</td>\n",
       "      <td>0.999314</td>\n",
       "      <td>...</td>\n",
       "      <td>0.998844</td>\n",
       "      <td>0.999709</td>\n",
       "      <td>1.000000</td>\n",
       "      <td>0.999713</td>\n",
       "      <td>0.998883</td>\n",
       "      <td>0.628725</td>\n",
       "      <td>0.586392</td>\n",
       "      <td>0.542588</td>\n",
       "      <td>0.492043</td>\n",
       "      <td>0.444404</td>\n",
       "    </tr>\n",
       "    <tr>\n",
       "      <th>t2</th>\n",
       "      <td>0.998908</td>\n",
       "      <td>0.415187</td>\n",
       "      <td>-0.033515</td>\n",
       "      <td>0.971182</td>\n",
       "      <td>0.629482</td>\n",
       "      <td>0.921829</td>\n",
       "      <td>0.484883</td>\n",
       "      <td>0.999292</td>\n",
       "      <td>0.999951</td>\n",
       "      <td>0.999896</td>\n",
       "      <td>...</td>\n",
       "      <td>0.997453</td>\n",
       "      <td>0.998863</td>\n",
       "      <td>0.999713</td>\n",
       "      <td>1.000000</td>\n",
       "      <td>0.999719</td>\n",
       "      <td>0.645238</td>\n",
       "      <td>0.604333</td>\n",
       "      <td>0.561951</td>\n",
       "      <td>0.512744</td>\n",
       "      <td>0.465104</td>\n",
       "    </tr>\n",
       "    <tr>\n",
       "      <th>t1</th>\n",
       "      <td>0.999726</td>\n",
       "      <td>0.435998</td>\n",
       "      <td>-0.032169</td>\n",
       "      <td>0.974324</td>\n",
       "      <td>0.638213</td>\n",
       "      <td>0.928751</td>\n",
       "      <td>0.504197</td>\n",
       "      <td>0.998288</td>\n",
       "      <td>0.999606</td>\n",
       "      <td>0.999937</td>\n",
       "      <td>...</td>\n",
       "      <td>0.995571</td>\n",
       "      <td>0.997499</td>\n",
       "      <td>0.998883</td>\n",
       "      <td>0.999719</td>\n",
       "      <td>1.000000</td>\n",
       "      <td>0.660333</td>\n",
       "      <td>0.621099</td>\n",
       "      <td>0.580099</td>\n",
       "      <td>0.532334</td>\n",
       "      <td>0.485942</td>\n",
       "    </tr>\n",
       "    <tr>\n",
       "      <th>d5</th>\n",
       "      <td>0.673925</td>\n",
       "      <td>0.817689</td>\n",
       "      <td>-0.013072</td>\n",
       "      <td>0.700836</td>\n",
       "      <td>0.658721</td>\n",
       "      <td>0.793389</td>\n",
       "      <td>0.826496</td>\n",
       "      <td>0.616869</td>\n",
       "      <td>0.639878</td>\n",
       "      <td>0.652293</td>\n",
       "      <td>...</td>\n",
       "      <td>0.592259</td>\n",
       "      <td>0.611111</td>\n",
       "      <td>0.628725</td>\n",
       "      <td>0.645238</td>\n",
       "      <td>0.660333</td>\n",
       "      <td>1.000000</td>\n",
       "      <td>0.978217</td>\n",
       "      <td>0.948676</td>\n",
       "      <td>0.916356</td>\n",
       "      <td>0.871062</td>\n",
       "    </tr>\n",
       "    <tr>\n",
       "      <th>d4</th>\n",
       "      <td>0.636437</td>\n",
       "      <td>0.867328</td>\n",
       "      <td>-0.017667</td>\n",
       "      <td>0.673453</td>\n",
       "      <td>0.653723</td>\n",
       "      <td>0.774189</td>\n",
       "      <td>0.865826</td>\n",
       "      <td>0.575354</td>\n",
       "      <td>0.599349</td>\n",
       "      <td>0.612581</td>\n",
       "      <td>...</td>\n",
       "      <td>0.547082</td>\n",
       "      <td>0.567299</td>\n",
       "      <td>0.586392</td>\n",
       "      <td>0.604333</td>\n",
       "      <td>0.621099</td>\n",
       "      <td>0.978217</td>\n",
       "      <td>1.000000</td>\n",
       "      <td>0.977641</td>\n",
       "      <td>0.947052</td>\n",
       "      <td>0.914040</td>\n",
       "    </tr>\n",
       "    <tr>\n",
       "      <th>d3</th>\n",
       "      <td>0.597058</td>\n",
       "      <td>0.911434</td>\n",
       "      <td>-0.049223</td>\n",
       "      <td>0.645363</td>\n",
       "      <td>0.648538</td>\n",
       "      <td>0.752703</td>\n",
       "      <td>0.899712</td>\n",
       "      <td>0.532839</td>\n",
       "      <td>0.557452</td>\n",
       "      <td>0.571287</td>\n",
       "      <td>...</td>\n",
       "      <td>0.501885</td>\n",
       "      <td>0.522184</td>\n",
       "      <td>0.542588</td>\n",
       "      <td>0.561951</td>\n",
       "      <td>0.580099</td>\n",
       "      <td>0.948676</td>\n",
       "      <td>0.977641</td>\n",
       "      <td>1.000000</td>\n",
       "      <td>0.976752</td>\n",
       "      <td>0.945519</td>\n",
       "    </tr>\n",
       "    <tr>\n",
       "      <th>d2</th>\n",
       "      <td>0.550693</td>\n",
       "      <td>0.943957</td>\n",
       "      <td>0.012841</td>\n",
       "      <td>0.611261</td>\n",
       "      <td>0.640930</td>\n",
       "      <td>0.724940</td>\n",
       "      <td>0.925093</td>\n",
       "      <td>0.484027</td>\n",
       "      <td>0.509023</td>\n",
       "      <td>0.523293</td>\n",
       "      <td>...</td>\n",
       "      <td>0.451305</td>\n",
       "      <td>0.471534</td>\n",
       "      <td>0.492043</td>\n",
       "      <td>0.512744</td>\n",
       "      <td>0.532334</td>\n",
       "      <td>0.916356</td>\n",
       "      <td>0.947052</td>\n",
       "      <td>0.976752</td>\n",
       "      <td>1.000000</td>\n",
       "      <td>0.976007</td>\n",
       "    </tr>\n",
       "    <tr>\n",
       "      <th>d1</th>\n",
       "      <td>0.505652</td>\n",
       "      <td>0.975257</td>\n",
       "      <td>0.034360</td>\n",
       "      <td>0.579321</td>\n",
       "      <td>0.625714</td>\n",
       "      <td>0.697111</td>\n",
       "      <td>0.952464</td>\n",
       "      <td>0.437727</td>\n",
       "      <td>0.462657</td>\n",
       "      <td>0.477073</td>\n",
       "      <td>...</td>\n",
       "      <td>0.404028</td>\n",
       "      <td>0.424064</td>\n",
       "      <td>0.444404</td>\n",
       "      <td>0.465104</td>\n",
       "      <td>0.485942</td>\n",
       "      <td>0.871062</td>\n",
       "      <td>0.914040</td>\n",
       "      <td>0.945519</td>\n",
       "      <td>0.976007</td>\n",
       "      <td>1.000000</td>\n",
       "    </tr>\n",
       "  </tbody>\n",
       "</table>\n",
       "<p>31 rows × 31 columns</p>\n",
       "</div>"
      ],
      "text/plain": [
       "                 conf  fst_dif_c  dayofweek  dayofyear   fst_div  conf_log  \\\n",
       "conf         1.000000   0.456930  -0.031536   0.977154  0.646447  0.935233   \n",
       "fst_dif_c    0.456930   1.000000   0.008965   0.544230  0.602148  0.664460   \n",
       "dayofweek   -0.031536   0.008965   1.000000  -0.036274 -0.023248 -0.029157   \n",
       "dayofyear    0.977154   0.544230  -0.036274   1.000000  0.763822  0.981089   \n",
       "fst_div      0.646447   0.602148  -0.023248   0.763822  1.000000  0.823724   \n",
       "conf_log     0.935233   0.664460  -0.029157   0.981089  0.823724  1.000000   \n",
       "fst_dif_log  0.523671   0.974707   0.002210   0.633265  0.724583  0.754104   \n",
       "XX_sm0       0.996810   0.388897  -0.033599   0.967194  0.616827  0.911604   \n",
       "XX_sm1       0.998751   0.413456  -0.032890   0.971270  0.628197  0.920953   \n",
       "XX_sm2       0.999451   0.427775  -0.032508   0.973357  0.634497  0.925961   \n",
       "XX_sm3       0.999747   0.437047  -0.032241   0.974618  0.638428  0.929035   \n",
       "XX_sm4       0.999885   0.443496  -0.032029   0.975461  0.641092  0.931101   \n",
       "XX_sm5       0.999952   0.448220  -0.031856   0.976065  0.643006  0.932579   \n",
       "XX_sm6       0.999984   0.451820  -0.031717   0.976519  0.644443  0.933686   \n",
       "XX_sm0_log   0.939030   0.648842  -0.030827   0.983854  0.820004  0.999512   \n",
       "XX_sm1_log   0.937268   0.654099  -0.030500   0.982581  0.821993  0.999751   \n",
       "XX_sm2_log   0.936474   0.657287  -0.030249   0.981972  0.822809  0.999865   \n",
       "XX_sm3_log   0.936093   0.659400  -0.030017   0.981659  0.823115  0.999927   \n",
       "XX_sm4_log   0.935907   0.660886  -0.029800   0.981489  0.823178  0.999961   \n",
       "XX_sm5_log   0.935821   0.661978  -0.029605   0.981395  0.823116  0.999980   \n",
       "XX_sm6_log   0.935789   0.662811  -0.029441   0.981343  0.822988  0.999991   \n",
       "t5           0.993245   0.355089  -0.033484   0.959984  0.602044  0.898958   \n",
       "t4           0.995657   0.374560  -0.033455   0.964012  0.611299  0.906905   \n",
       "t3           0.997548   0.394682  -0.034342   0.967744  0.620429  0.914530   \n",
       "t2           0.998908   0.415187  -0.033515   0.971182  0.629482  0.921829   \n",
       "t1           0.999726   0.435998  -0.032169   0.974324  0.638213  0.928751   \n",
       "d5           0.673925   0.817689  -0.013072   0.700836  0.658721  0.793389   \n",
       "d4           0.636437   0.867328  -0.017667   0.673453  0.653723  0.774189   \n",
       "d3           0.597058   0.911434  -0.049223   0.645363  0.648538  0.752703   \n",
       "d2           0.550693   0.943957   0.012841   0.611261  0.640930  0.724940   \n",
       "d1           0.505652   0.975257   0.034360   0.579321  0.625714  0.697111   \n",
       "\n",
       "             fst_dif_log    XX_sm0    XX_sm1    XX_sm2  ...        t5  \\\n",
       "conf            0.523671  0.996810  0.998751  0.999451  ...  0.993245   \n",
       "fst_dif_c       0.974707  0.388897  0.413456  0.427775  ...  0.355089   \n",
       "dayofweek       0.002210 -0.033599 -0.032890 -0.032508  ... -0.033484   \n",
       "dayofyear       0.633265  0.967194  0.971270  0.973357  ...  0.959984   \n",
       "fst_div         0.724583  0.616827  0.628197  0.634497  ...  0.602044   \n",
       "conf_log        0.754104  0.911604  0.920953  0.925961  ...  0.898958   \n",
       "fst_dif_log     1.000000  0.460200  0.483265  0.496617  ...  0.428953   \n",
       "XX_sm0          0.460200  1.000000  0.999529  0.998864  ...  0.999244   \n",
       "XX_sm1          0.483265  0.999529  1.000000  0.999854  ...  0.997788   \n",
       "XX_sm2          0.496617  0.998864  0.999854  1.000000  ...  0.996525   \n",
       "XX_sm3          0.505228  0.998304  0.999612  0.999942  ...  0.995571   \n",
       "XX_sm4          0.511208  0.997860  0.999382  0.999835  ...  0.994855   \n",
       "XX_sm5          0.515587  0.997510  0.999183  0.999725  ...  0.994305   \n",
       "XX_sm6          0.518926  0.997229  0.999014  0.999622  ...  0.993874   \n",
       "XX_sm0_log      0.739457  0.916908  0.925732  0.930419  ...  0.905052   \n",
       "XX_sm1_log      0.744524  0.914532  0.923588  0.928408  ...  0.902398   \n",
       "XX_sm2_log      0.747497  0.913410  0.922582  0.927473  ...  0.901105   \n",
       "XX_sm3_log      0.749416  0.912837  0.922074  0.927005  ...  0.900423   \n",
       "XX_sm4_log      0.750737  0.912532  0.921806  0.926763  ...  0.900044   \n",
       "XX_sm5_log      0.751694  0.912368  0.921665  0.926638  ...  0.899829   \n",
       "XX_sm6_log      0.752413  0.912282  0.921595  0.926578  ...  0.899708   \n",
       "t5              0.428953  0.999244  0.997788  0.996525  ...  1.000000   \n",
       "t4              0.447182  0.999782  0.999047  0.998190  ...  0.999704   \n",
       "t3              0.465880  0.999796  0.999768  0.999314  ...  0.998844   \n",
       "t2              0.484883  0.999292  0.999951  0.999896  ...  0.997453   \n",
       "t1              0.504197  0.998288  0.999606  0.999937  ...  0.995571   \n",
       "d5              0.826496  0.616869  0.639878  0.652293  ...  0.592259   \n",
       "d4              0.865826  0.575354  0.599349  0.612581  ...  0.547082   \n",
       "d3              0.899712  0.532839  0.557452  0.571287  ...  0.501885   \n",
       "d2              0.925093  0.484027  0.509023  0.523293  ...  0.451305   \n",
       "d1              0.952464  0.437727  0.462657  0.477073  ...  0.404028   \n",
       "\n",
       "                   t4        t3        t2        t1        d5        d4  \\\n",
       "conf         0.995657  0.997548  0.998908  0.999726  0.673925  0.636437   \n",
       "fst_dif_c    0.374560  0.394682  0.415187  0.435998  0.817689  0.867328   \n",
       "dayofweek   -0.033455 -0.034342 -0.033515 -0.032169 -0.013072 -0.017667   \n",
       "dayofyear    0.964012  0.967744  0.971182  0.974324  0.700836  0.673453   \n",
       "fst_div      0.611299  0.620429  0.629482  0.638213  0.658721  0.653723   \n",
       "conf_log     0.906905  0.914530  0.921829  0.928751  0.793389  0.774189   \n",
       "fst_dif_log  0.447182  0.465880  0.484883  0.504197  0.826496  0.865826   \n",
       "XX_sm0       0.999782  0.999796  0.999292  0.998288  0.616869  0.575354   \n",
       "XX_sm1       0.999047  0.999768  0.999951  0.999606  0.639878  0.599349   \n",
       "XX_sm2       0.998190  0.999314  0.999896  0.999937  0.652293  0.612581   \n",
       "XX_sm3       0.997488  0.998866  0.999703  0.999994  0.659766  0.620691   \n",
       "XX_sm4       0.996939  0.998489  0.999500  0.999964  0.664651  0.626064   \n",
       "XX_sm5       0.996508  0.998181  0.999317  0.999907  0.668053  0.629843   \n",
       "XX_sm6       0.996165  0.997929  0.999159  0.999844  0.670543  0.632627   \n",
       "XX_sm0_log   0.912562  0.919728  0.926556  0.933003  0.783709  0.762566   \n",
       "XX_sm1_log   0.910096  0.917450  0.924461  0.931082  0.788222  0.767564   \n",
       "XX_sm2_log   0.908902  0.916359  0.923473  0.930194  0.790510  0.770245   \n",
       "XX_sm3_log   0.908275  0.915791  0.922968  0.929753  0.791736  0.771770   \n",
       "XX_sm4_log   0.907929  0.915482  0.922699  0.929526  0.792426  0.772682   \n",
       "XX_sm5_log   0.907734  0.915311  0.922554  0.929411  0.792833  0.773255   \n",
       "XX_sm6_log   0.907626  0.915218  0.922479  0.929356  0.793083  0.773630   \n",
       "t5           0.999704  0.998844  0.997453  0.995571  0.592259  0.547082   \n",
       "t4           1.000000  0.999709  0.998863  0.997499  0.611111  0.567299   \n",
       "t3           0.999709  1.000000  0.999713  0.998883  0.628725  0.586392   \n",
       "t2           0.998863  0.999713  1.000000  0.999719  0.645238  0.604333   \n",
       "t1           0.997499  0.998883  0.999719  1.000000  0.660333  0.621099   \n",
       "d5           0.611111  0.628725  0.645238  0.660333  1.000000  0.978217   \n",
       "d4           0.567299  0.586392  0.604333  0.621099  0.978217  1.000000   \n",
       "d3           0.522184  0.542588  0.561951  0.580099  0.948676  0.977641   \n",
       "d2           0.471534  0.492043  0.512744  0.532334  0.916356  0.947052   \n",
       "d1           0.424064  0.444404  0.465104  0.485942  0.871062  0.914040   \n",
       "\n",
       "                   d3        d2        d1  \n",
       "conf         0.597058  0.550693  0.505652  \n",
       "fst_dif_c    0.911434  0.943957  0.975257  \n",
       "dayofweek   -0.049223  0.012841  0.034360  \n",
       "dayofyear    0.645363  0.611261  0.579321  \n",
       "fst_div      0.648538  0.640930  0.625714  \n",
       "conf_log     0.752703  0.724940  0.697111  \n",
       "fst_dif_log  0.899712  0.925093  0.952464  \n",
       "XX_sm0       0.532839  0.484027  0.437727  \n",
       "XX_sm1       0.557452  0.509023  0.462657  \n",
       "XX_sm2       0.571287  0.523293  0.477073  \n",
       "XX_sm3       0.579909  0.532320  0.486318  \n",
       "XX_sm4       0.585698  0.538457  0.492684  \n",
       "XX_sm5       0.589808  0.542858  0.497302  \n",
       "XX_sm6       0.592858  0.546145  0.500785  \n",
       "XX_sm0_log   0.739482  0.710418  0.681611  \n",
       "XX_sm1_log   0.744808  0.715937  0.687111  \n",
       "XX_sm2_log   0.747794  0.719144  0.690404  \n",
       "XX_sm3_log   0.749575  0.721137  0.692535  \n",
       "XX_sm4_log   0.750690  0.722435  0.693988  \n",
       "XX_sm5_log   0.751415  0.723309  0.695016  \n",
       "XX_sm6_log   0.751905  0.723914  0.695763  \n",
       "t5           0.501885  0.451305  0.404028  \n",
       "t4           0.522184  0.471534  0.424064  \n",
       "t3           0.542588  0.492043  0.444404  \n",
       "t2           0.561951  0.512744  0.465104  \n",
       "t1           0.580099  0.532334  0.485942  \n",
       "d5           0.948676  0.916356  0.871062  \n",
       "d4           0.977641  0.947052  0.914040  \n",
       "d3           1.000000  0.976752  0.945519  \n",
       "d2           0.976752  1.000000  0.976007  \n",
       "d1           0.945519  0.976007  1.000000  \n",
       "\n",
       "[31 rows x 31 columns]"
      ]
     },
     "execution_count": 30,
     "metadata": {},
     "output_type": "execute_result"
    }
   ],
   "source": [
    "COVID_Data.corr()"
   ]
  },
  {
   "cell_type": "code",
   "execution_count": 31,
   "metadata": {},
   "outputs": [
    {
     "data": {
      "text/plain": [
       "(71, 31)"
      ]
     },
     "execution_count": 31,
     "metadata": {},
     "output_type": "execute_result"
    }
   ],
   "source": [
    "COVID_Data.shape"
   ]
  },
  {
   "cell_type": "code",
   "execution_count": 328,
   "metadata": {},
   "outputs": [
    {
     "data": {
      "text/html": [
       "<div>\n",
       "<style scoped>\n",
       "    .dataframe tbody tr th:only-of-type {\n",
       "        vertical-align: middle;\n",
       "    }\n",
       "\n",
       "    .dataframe tbody tr th {\n",
       "        vertical-align: top;\n",
       "    }\n",
       "\n",
       "    .dataframe thead th {\n",
       "        text-align: right;\n",
       "    }\n",
       "</style>\n",
       "<table border=\"1\" class=\"dataframe\">\n",
       "  <thead>\n",
       "    <tr style=\"text-align: right;\">\n",
       "      <th></th>\n",
       "      <th>conf</th>\n",
       "      <th>fst_dif_c</th>\n",
       "      <th>dayofweek</th>\n",
       "      <th>dayofyear</th>\n",
       "      <th>fst_div</th>\n",
       "      <th>conf_log</th>\n",
       "      <th>fst_dif_log</th>\n",
       "      <th>XX_sm0</th>\n",
       "      <th>XX_sm1</th>\n",
       "      <th>XX_sm2</th>\n",
       "      <th>...</th>\n",
       "      <th>XX_sm4</th>\n",
       "      <th>XX_sm5</th>\n",
       "      <th>XX_sm6</th>\n",
       "      <th>XX_sm0_log</th>\n",
       "      <th>XX_sm1_log</th>\n",
       "      <th>XX_sm2_log</th>\n",
       "      <th>XX_sm3_log</th>\n",
       "      <th>XX_sm4_log</th>\n",
       "      <th>XX_sm5_log</th>\n",
       "      <th>XX_sm6_log</th>\n",
       "    </tr>\n",
       "    <tr>\n",
       "      <th>Data</th>\n",
       "      <th></th>\n",
       "      <th></th>\n",
       "      <th></th>\n",
       "      <th></th>\n",
       "      <th></th>\n",
       "      <th></th>\n",
       "      <th></th>\n",
       "      <th></th>\n",
       "      <th></th>\n",
       "      <th></th>\n",
       "      <th></th>\n",
       "      <th></th>\n",
       "      <th></th>\n",
       "      <th></th>\n",
       "      <th></th>\n",
       "      <th></th>\n",
       "      <th></th>\n",
       "      <th></th>\n",
       "      <th></th>\n",
       "      <th></th>\n",
       "      <th></th>\n",
       "    </tr>\n",
       "  </thead>\n",
       "  <tbody>\n",
       "    <tr>\n",
       "      <th>2020-02-19</th>\n",
       "      <td>2.0</td>\n",
       "      <td>0.0</td>\n",
       "      <td>2.0</td>\n",
       "      <td>0.0</td>\n",
       "      <td>0.000000</td>\n",
       "      <td>0.783314</td>\n",
       "      <td>0.000000</td>\n",
       "      <td>2.000000</td>\n",
       "      <td>2.000000</td>\n",
       "      <td>2.000000</td>\n",
       "      <td>...</td>\n",
       "      <td>2.000000</td>\n",
       "      <td>2.000000</td>\n",
       "      <td>2.000000</td>\n",
       "      <td>1.302381</td>\n",
       "      <td>1.313922</td>\n",
       "      <td>1.321110</td>\n",
       "      <td>1.326001</td>\n",
       "      <td>1.329543</td>\n",
       "      <td>1.332229</td>\n",
       "      <td>1.334336</td>\n",
       "    </tr>\n",
       "    <tr>\n",
       "      <th>2020-02-20</th>\n",
       "      <td>5.0</td>\n",
       "      <td>3.0</td>\n",
       "      <td>3.0</td>\n",
       "      <td>1.0</td>\n",
       "      <td>0.400000</td>\n",
       "      <td>2.153642</td>\n",
       "      <td>2.169940</td>\n",
       "      <td>2.600000</td>\n",
       "      <td>2.900000</td>\n",
       "      <td>3.200000</td>\n",
       "      <td>...</td>\n",
       "      <td>3.800000</td>\n",
       "      <td>4.100000</td>\n",
       "      <td>4.400000</td>\n",
       "      <td>1.563385</td>\n",
       "      <td>1.701309</td>\n",
       "      <td>1.829900</td>\n",
       "      <td>1.951352</td>\n",
       "      <td>2.066947</td>\n",
       "      <td>2.177539</td>\n",
       "      <td>2.283747</td>\n",
       "    </tr>\n",
       "    <tr>\n",
       "      <th>2020-02-21</th>\n",
       "      <td>18.0</td>\n",
       "      <td>13.0</td>\n",
       "      <td>4.0</td>\n",
       "      <td>2.0</td>\n",
       "      <td>0.277778</td>\n",
       "      <td>4.966245</td>\n",
       "      <td>6.500543</td>\n",
       "      <td>5.680000</td>\n",
       "      <td>7.430000</td>\n",
       "      <td>9.120000</td>\n",
       "      <td>...</td>\n",
       "      <td>12.320000</td>\n",
       "      <td>13.830000</td>\n",
       "      <td>15.280000</td>\n",
       "      <td>2.563154</td>\n",
       "      <td>3.044644</td>\n",
       "      <td>3.455965</td>\n",
       "      <td>3.815087</td>\n",
       "      <td>4.133428</td>\n",
       "      <td>4.418719</td>\n",
       "      <td>4.676458</td>\n",
       "    </tr>\n",
       "    <tr>\n",
       "      <th>2020-02-22</th>\n",
       "      <td>28.0</td>\n",
       "      <td>10.0</td>\n",
       "      <td>5.0</td>\n",
       "      <td>3.0</td>\n",
       "      <td>0.642857</td>\n",
       "      <td>6.263819</td>\n",
       "      <td>5.394366</td>\n",
       "      <td>10.144000</td>\n",
       "      <td>13.601000</td>\n",
       "      <td>16.672000</td>\n",
       "      <td>...</td>\n",
       "      <td>21.728000</td>\n",
       "      <td>23.749000</td>\n",
       "      <td>25.456000</td>\n",
       "      <td>3.544073</td>\n",
       "      <td>4.222990</td>\n",
       "      <td>4.756112</td>\n",
       "      <td>5.185018</td>\n",
       "      <td>5.534256</td>\n",
       "      <td>5.819747</td>\n",
       "      <td>6.052524</td>\n",
       "    </tr>\n",
       "    <tr>\n",
       "      <th>2020-02-23</th>\n",
       "      <td>43.0</td>\n",
       "      <td>15.0</td>\n",
       "      <td>6.0</td>\n",
       "      <td>4.0</td>\n",
       "      <td>0.651163</td>\n",
       "      <td>7.728426</td>\n",
       "      <td>7.186052</td>\n",
       "      <td>16.715200</td>\n",
       "      <td>22.420700</td>\n",
       "      <td>27.203200</td>\n",
       "      <td>...</td>\n",
       "      <td>34.491200</td>\n",
       "      <td>37.224700</td>\n",
       "      <td>39.491200</td>\n",
       "      <td>4.572988</td>\n",
       "      <td>5.414271</td>\n",
       "      <td>6.044043</td>\n",
       "      <td>6.529922</td>\n",
       "      <td>6.911878</td>\n",
       "      <td>7.216385</td>\n",
       "      <td>7.462403</td>\n",
       "    </tr>\n",
       "    <tr>\n",
       "      <th>2020-02-24</th>\n",
       "      <td>61.0</td>\n",
       "      <td>18.0</td>\n",
       "      <td>0.0</td>\n",
       "      <td>5.0</td>\n",
       "      <td>0.704918</td>\n",
       "      <td>9.093928</td>\n",
       "      <td>8.153752</td>\n",
       "      <td>25.572160</td>\n",
       "      <td>33.994490</td>\n",
       "      <td>40.721920</td>\n",
       "      <td>...</td>\n",
       "      <td>50.396480</td>\n",
       "      <td>53.867410</td>\n",
       "      <td>56.698240</td>\n",
       "      <td>5.598718</td>\n",
       "      <td>6.576614</td>\n",
       "      <td>7.284773</td>\n",
       "      <td>7.816050</td>\n",
       "      <td>8.224717</td>\n",
       "      <td>8.545788</td>\n",
       "      <td>8.803105</td>\n",
       "    </tr>\n",
       "    <tr>\n",
       "      <th>2020-02-25</th>\n",
       "      <td>95.0</td>\n",
       "      <td>34.0</td>\n",
       "      <td>1.0</td>\n",
       "      <td>6.0</td>\n",
       "      <td>0.642105</td>\n",
       "      <td>11.078852</td>\n",
       "      <td>12.534805</td>\n",
       "      <td>39.457728</td>\n",
       "      <td>52.296143</td>\n",
       "      <td>62.433152</td>\n",
       "      <td>...</td>\n",
       "      <td>77.158592</td>\n",
       "      <td>82.660223</td>\n",
       "      <td>87.339648</td>\n",
       "      <td>6.803303</td>\n",
       "      <td>7.963630</td>\n",
       "      <td>8.799875</td>\n",
       "      <td>9.430279</td>\n",
       "      <td>9.922595</td>\n",
       "      <td>10.319049</td>\n",
       "      <td>10.647133</td>\n",
       "    </tr>\n",
       "    <tr>\n",
       "      <th>2020-02-26</th>\n",
       "      <td>139.0</td>\n",
       "      <td>44.0</td>\n",
       "      <td>2.0</td>\n",
       "      <td>7.0</td>\n",
       "      <td>0.683453</td>\n",
       "      <td>13.044753</td>\n",
       "      <td>14.862598</td>\n",
       "      <td>59.366182</td>\n",
       "      <td>78.307300</td>\n",
       "      <td>93.059891</td>\n",
       "      <td>...</td>\n",
       "      <td>114.263437</td>\n",
       "      <td>122.098067</td>\n",
       "      <td>128.667930</td>\n",
       "      <td>8.100814</td>\n",
       "      <td>9.455240</td>\n",
       "      <td>10.426229</td>\n",
       "      <td>11.156277</td>\n",
       "      <td>11.725309</td>\n",
       "      <td>12.181660</td>\n",
       "      <td>12.555868</td>\n",
       "    </tr>\n",
       "    <tr>\n",
       "      <th>2020-02-27</th>\n",
       "      <td>245.0</td>\n",
       "      <td>106.0</td>\n",
       "      <td>3.0</td>\n",
       "      <td>8.0</td>\n",
       "      <td>0.567347</td>\n",
       "      <td>16.496705</td>\n",
       "      <td>26.226722</td>\n",
       "      <td>96.492946</td>\n",
       "      <td>128.315110</td>\n",
       "      <td>153.835935</td>\n",
       "      <td>...</td>\n",
       "      <td>192.705375</td>\n",
       "      <td>208.129420</td>\n",
       "      <td>221.733586</td>\n",
       "      <td>9.875834</td>\n",
       "      <td>11.567209</td>\n",
       "      <td>12.807135</td>\n",
       "      <td>13.764700</td>\n",
       "      <td>14.533798</td>\n",
       "      <td>15.170765</td>\n",
       "      <td>15.711328</td>\n",
       "    </tr>\n",
       "    <tr>\n",
       "      <th>2020-02-28</th>\n",
       "      <td>388.0</td>\n",
       "      <td>143.0</td>\n",
       "      <td>4.0</td>\n",
       "      <td>9.0</td>\n",
       "      <td>0.631443</td>\n",
       "      <td>19.838988</td>\n",
       "      <td>31.709152</td>\n",
       "      <td>154.794357</td>\n",
       "      <td>206.220577</td>\n",
       "      <td>247.501561</td>\n",
       "      <td>...</td>\n",
       "      <td>309.882150</td>\n",
       "      <td>334.038826</td>\n",
       "      <td>354.746717</td>\n",
       "      <td>11.878184</td>\n",
       "      <td>13.938401</td>\n",
       "      <td>15.454429</td>\n",
       "      <td>16.624372</td>\n",
       "      <td>17.558192</td>\n",
       "      <td>18.321902</td>\n",
       "      <td>18.957522</td>\n",
       "    </tr>\n",
       "  </tbody>\n",
       "</table>\n",
       "<p>10 rows × 21 columns</p>\n",
       "</div>"
      ],
      "text/plain": [
       "             conf  fst_dif_c  dayofweek  dayofyear   fst_div   conf_log  \\\n",
       "Data                                                                      \n",
       "2020-02-19    2.0        0.0        2.0        0.0  0.000000   0.783314   \n",
       "2020-02-20    5.0        3.0        3.0        1.0  0.400000   2.153642   \n",
       "2020-02-21   18.0       13.0        4.0        2.0  0.277778   4.966245   \n",
       "2020-02-22   28.0       10.0        5.0        3.0  0.642857   6.263819   \n",
       "2020-02-23   43.0       15.0        6.0        4.0  0.651163   7.728426   \n",
       "2020-02-24   61.0       18.0        0.0        5.0  0.704918   9.093928   \n",
       "2020-02-25   95.0       34.0        1.0        6.0  0.642105  11.078852   \n",
       "2020-02-26  139.0       44.0        2.0        7.0  0.683453  13.044753   \n",
       "2020-02-27  245.0      106.0        3.0        8.0  0.567347  16.496705   \n",
       "2020-02-28  388.0      143.0        4.0        9.0  0.631443  19.838988   \n",
       "\n",
       "            fst_dif_log      XX_sm0      XX_sm1      XX_sm2  ...      XX_sm4  \\\n",
       "Data                                                         ...               \n",
       "2020-02-19     0.000000    2.000000    2.000000    2.000000  ...    2.000000   \n",
       "2020-02-20     2.169940    2.600000    2.900000    3.200000  ...    3.800000   \n",
       "2020-02-21     6.500543    5.680000    7.430000    9.120000  ...   12.320000   \n",
       "2020-02-22     5.394366   10.144000   13.601000   16.672000  ...   21.728000   \n",
       "2020-02-23     7.186052   16.715200   22.420700   27.203200  ...   34.491200   \n",
       "2020-02-24     8.153752   25.572160   33.994490   40.721920  ...   50.396480   \n",
       "2020-02-25    12.534805   39.457728   52.296143   62.433152  ...   77.158592   \n",
       "2020-02-26    14.862598   59.366182   78.307300   93.059891  ...  114.263437   \n",
       "2020-02-27    26.226722   96.492946  128.315110  153.835935  ...  192.705375   \n",
       "2020-02-28    31.709152  154.794357  206.220577  247.501561  ...  309.882150   \n",
       "\n",
       "                XX_sm5      XX_sm6  XX_sm0_log  XX_sm1_log  XX_sm2_log  \\\n",
       "Data                                                                     \n",
       "2020-02-19    2.000000    2.000000    1.302381    1.313922    1.321110   \n",
       "2020-02-20    4.100000    4.400000    1.563385    1.701309    1.829900   \n",
       "2020-02-21   13.830000   15.280000    2.563154    3.044644    3.455965   \n",
       "2020-02-22   23.749000   25.456000    3.544073    4.222990    4.756112   \n",
       "2020-02-23   37.224700   39.491200    4.572988    5.414271    6.044043   \n",
       "2020-02-24   53.867410   56.698240    5.598718    6.576614    7.284773   \n",
       "2020-02-25   82.660223   87.339648    6.803303    7.963630    8.799875   \n",
       "2020-02-26  122.098067  128.667930    8.100814    9.455240   10.426229   \n",
       "2020-02-27  208.129420  221.733586    9.875834   11.567209   12.807135   \n",
       "2020-02-28  334.038826  354.746717   11.878184   13.938401   15.454429   \n",
       "\n",
       "            XX_sm3_log  XX_sm4_log  XX_sm5_log  XX_sm6_log  \n",
       "Data                                                        \n",
       "2020-02-19    1.326001    1.329543    1.332229    1.334336  \n",
       "2020-02-20    1.951352    2.066947    2.177539    2.283747  \n",
       "2020-02-21    3.815087    4.133428    4.418719    4.676458  \n",
       "2020-02-22    5.185018    5.534256    5.819747    6.052524  \n",
       "2020-02-23    6.529922    6.911878    7.216385    7.462403  \n",
       "2020-02-24    7.816050    8.224717    8.545788    8.803105  \n",
       "2020-02-25    9.430279    9.922595   10.319049   10.647133  \n",
       "2020-02-26   11.156277   11.725309   12.181660   12.555868  \n",
       "2020-02-27   13.764700   14.533798   15.170765   15.711328  \n",
       "2020-02-28   16.624372   17.558192   18.321902   18.957522  \n",
       "\n",
       "[10 rows x 21 columns]"
      ]
     },
     "execution_count": 328,
     "metadata": {},
     "output_type": "execute_result"
    }
   ],
   "source": [
    "COVID_Data.head(10)"
   ]
  },
  {
   "cell_type": "code",
   "execution_count": 588,
   "metadata": {},
   "outputs": [
    {
     "data": {
      "text/plain": [
       "(65, 1)"
      ]
     },
     "execution_count": 588,
     "metadata": {},
     "output_type": "execute_result"
    }
   ],
   "source": [
    "p = 5\n",
    "h=1 \n",
    "scl_target=StandardScaler() \n",
    "\n",
    "# y - начиная с 6го элемента\n",
    "target = COVID_Data.iloc[h+p:,0].to_numpy().reshape((COVID_Data.shape[0]-h-p,1))\n",
    "y = scl_target.fit_transform(target)\n",
    "y.shape"
   ]
  },
  {
   "cell_type": "code",
   "execution_count": 587,
   "metadata": {},
   "outputs": [
    {
     "data": {
      "text/plain": [
       "(65, 21)"
      ]
     },
     "execution_count": 587,
     "metadata": {},
     "output_type": "execute_result"
    }
   ],
   "source": [
    "# x - с 5го \n",
    "scl_x=StandardScaler() \n",
    "X = scl_x.fit_transform(COVID_Data.iloc[p:-h,:].values)\n",
    "X.shape"
   ]
  },
  {
   "cell_type": "code",
   "execution_count": 563,
   "metadata": {},
   "outputs": [
    {
     "data": {
      "text/plain": [
       "(65, 5)"
      ]
     },
     "execution_count": 563,
     "metadata": {},
     "output_type": "execute_result"
    }
   ],
   "source": [
    "sfk =SelectKBest(f_regression, k=5)\n",
    "X_new1 =sfk.fit_transform(X, y.ravel())\n",
    "X_new1.shape"
   ]
  },
  {
   "cell_type": "code",
   "execution_count": 564,
   "metadata": {},
   "outputs": [
    {
     "data": {
      "text/plain": [
       "Index(['conf', 'XX_sm3', 'XX_sm4', 'XX_sm5', 'XX_sm6'], dtype='object')"
      ]
     },
     "execution_count": 564,
     "metadata": {},
     "output_type": "execute_result"
    }
   ],
   "source": [
    "column_names = COVID_Data.columns[sfk.get_support()]\n",
    "column_names"
   ]
  },
  {
   "cell_type": "code",
   "execution_count": 565,
   "metadata": {},
   "outputs": [
    {
     "data": {
      "text/plain": [
       "(65, 2)"
      ]
     },
     "execution_count": 565,
     "metadata": {},
     "output_type": "execute_result"
    }
   ],
   "source": [
    "sfp=SelectPercentile(f_regression, percentile=10)\n",
    "X_new2 = sfp.fit_transform(X, y.ravel())\n",
    "X_new2.shape"
   ]
  },
  {
   "cell_type": "code",
   "execution_count": 566,
   "metadata": {},
   "outputs": [
    {
     "data": {
      "text/plain": [
       "Index(['conf', 'XX_sm6'], dtype='object')"
      ]
     },
     "execution_count": 566,
     "metadata": {},
     "output_type": "execute_result"
    }
   ],
   "source": [
    "column_namesp = COVID_Data.columns[sfp.get_support()]\n",
    "column_namesp"
   ]
  },
  {
   "cell_type": "code",
   "execution_count": 567,
   "metadata": {},
   "outputs": [
    {
     "data": {
      "text/plain": [
       "(65, 5)"
      ]
     },
     "execution_count": 567,
     "metadata": {},
     "output_type": "execute_result"
    }
   ],
   "source": [
    "gr_model = GradientBoostingRegressor(max_depth=4, random_state=7, n_estimators=100).fit(X, y.ravel())\n",
    "sfm = SelectFromModel(gr_model,  max_features = 5)\n",
    "\n",
    "sfm.fit(X, y.ravel())\n",
    "X_new3 = sfm.transform(X)\n",
    "X_new3.shape"
   ]
  },
  {
   "cell_type": "code",
   "execution_count": 589,
   "metadata": {},
   "outputs": [
    {
     "data": {
      "text/plain": [
       "Index(['XX_sm0', 'XX_sm2', 'XX_sm5', 'XX_sm0_log', 'XX_sm6_log'], dtype='object')"
      ]
     },
     "execution_count": 589,
     "metadata": {},
     "output_type": "execute_result"
    }
   ],
   "source": [
    "column_namesm = COVID_Data.columns[sfm.get_support()]\n",
    "column_namesm"
   ]
  },
  {
   "cell_type": "code",
   "execution_count": 568,
   "metadata": {},
   "outputs": [
    {
     "name": "stdout",
     "output_type": "stream",
     "text": [
      "Номера признаков k лучших признаков :  [ 0 10 11 12 13]\n",
      "Номера признаков лучших признаков по процентной форме:  [ 0 13]\n",
      "Номера признаков для выбора по модели :  [ 7  9 12 14 20]\n"
     ]
    }
   ],
   "source": [
    "list_param_k =np.where(sfk.get_support())[0]\n",
    "list_param_p =np.where(sfp.get_support())[0]\n",
    "list_param_m =np.where(sfm.get_support())[0]\n",
    "\n",
    "print('Номера признаков k лучших признаков : ',list_param_k)\n",
    "print('Номера признаков лучших признаков по процентной форме: ',list_param_p)\n",
    "print('Номера признаков для выбора по модели : ',list_param_m)"
   ]
  },
  {
   "cell_type": "code",
   "execution_count": 569,
   "metadata": {},
   "outputs": [],
   "source": [
    "list_par = list(set(np.concatenate((np.concatenate((list_param_k,list_param_p)),list_param_m))))"
   ]
  },
  {
   "cell_type": "code",
   "execution_count": 590,
   "metadata": {},
   "outputs": [
    {
     "data": {
      "text/plain": [
       "[0, 7, 9, 10, 11, 12, 13, 14, 20]"
      ]
     },
     "execution_count": 590,
     "metadata": {},
     "output_type": "execute_result"
    }
   ],
   "source": [
    "list_par"
   ]
  },
  {
   "cell_type": "code",
   "execution_count": 591,
   "metadata": {},
   "outputs": [
    {
     "data": {
      "text/plain": [
       "Index(['conf', 'XX_sm0', 'XX_sm2', 'XX_sm3', 'XX_sm4', 'XX_sm5', 'XX_sm6',\n",
       "       'XX_sm0_log', 'XX_sm6_log'],\n",
       "      dtype='object')"
      ]
     },
     "execution_count": 591,
     "metadata": {},
     "output_type": "execute_result"
    }
   ],
   "source": [
    "COVID_Data.columns[list_par]"
   ]
  },
  {
   "cell_type": "code",
   "execution_count": 592,
   "metadata": {},
   "outputs": [],
   "source": [
    "X_new = X[:,list_par]"
   ]
  },
  {
   "cell_type": "code",
   "execution_count": 593,
   "metadata": {},
   "outputs": [],
   "source": [
    "N=-10 # это доля тестовой выборки\n",
    "x_train,y_train,x_test,y_test=X_new[:N,:],y[:N,:],X_new[N:,:],y[N:,:]"
   ]
  },
  {
   "cell_type": "code",
   "execution_count": 594,
   "metadata": {},
   "outputs": [
    {
     "data": {
      "text/plain": [
       "((55, 9), (55, 1), (10, 9), (10, 1))"
      ]
     },
     "execution_count": 594,
     "metadata": {},
     "output_type": "execute_result"
    }
   ],
   "source": [
    "x_train.shape,y_train.shape,x_test.shape,y_test.shape"
   ]
  },
  {
   "cell_type": "code",
   "execution_count": 595,
   "metadata": {},
   "outputs": [],
   "source": [
    "model_lb = LinearRegression()\n",
    "model_gb = GradientBoostingRegressor(n_estimators=100)"
   ]
  },
  {
   "cell_type": "code",
   "execution_count": 596,
   "metadata": {},
   "outputs": [
    {
     "data": {
      "text/plain": [
       "GradientBoostingRegressor(alpha=0.9, ccp_alpha=0.0, criterion='friedman_mse',\n",
       "                          init=None, learning_rate=0.1, loss='ls', max_depth=3,\n",
       "                          max_features=None, max_leaf_nodes=None,\n",
       "                          min_impurity_decrease=0.0, min_impurity_split=None,\n",
       "                          min_samples_leaf=1, min_samples_split=2,\n",
       "                          min_weight_fraction_leaf=0.0, n_estimators=100,\n",
       "                          n_iter_no_change=None, presort='deprecated',\n",
       "                          random_state=None, subsample=1.0, tol=0.0001,\n",
       "                          validation_fraction=0.1, verbose=0, warm_start=False)"
      ]
     },
     "execution_count": 596,
     "metadata": {},
     "output_type": "execute_result"
    }
   ],
   "source": [
    "model_lb.fit(x_train,y_train.ravel())\n",
    "model_gb.fit(x_train,y_train.ravel())"
   ]
  },
  {
   "cell_type": "code",
   "execution_count": 597,
   "metadata": {},
   "outputs": [],
   "source": [
    "y_pred_train_lb = model_lb.predict(x_train)\n",
    "y_pred_test_lb = model_lb.predict(x_test)\n",
    "\n",
    "y_pred_train_gb = model_gb.predict(x_train)\n",
    "y_pred_test_gb = model_gb.predict(x_test)"
   ]
  },
  {
   "cell_type": "code",
   "execution_count": 598,
   "metadata": {},
   "outputs": [],
   "source": [
    "def mean_absolute_percentage_error(y_true, y_pred): \n",
    "    y_true, y_pred = np.array(y_true), np.array(y_pred)\n",
    "    return np.mean(np.abs((y_true - y_pred) / y_true)) * 100"
   ]
  },
  {
   "cell_type": "code",
   "execution_count": 599,
   "metadata": {},
   "outputs": [
    {
     "name": "stdout",
     "output_type": "stream",
     "text": [
      "ошибка градиентного бустинга MAPE :   7.235670826470594 %\n",
      "ошибка линейной регрессии MAPE :   4.178294195348058 %\n"
     ]
    }
   ],
   "source": [
    "er_g = mean_absolute_percentage_error(y_true=scl_target.inverse_transform(y_test),y_pred = scl_target.inverse_transform(y_pred_test_gb))\n",
    "print('ошибка градиентного бустинга MAPE :  ', er_g,'%')\n",
    "er_l = mean_absolute_percentage_error(y_true=scl_target.inverse_transform(y_test),y_pred = scl_target.inverse_transform(y_pred_test_lb))\n",
    "print('ошибка линейной регрессии MAPE :  ', er_l,'%')"
   ]
  },
  {
   "cell_type": "code",
   "execution_count": 607,
   "metadata": {},
   "outputs": [
    {
     "data": {
      "image/png": "[encoded data removed]",
      "text/plain": [
       "<Figure size 432x288 with 1 Axes>"
      ]
     },
     "metadata": {
      "needs_background": "light"
     },
     "output_type": "display_data"
    },
    {
     "data": {
      "image/png": "[encoded data removed]",
      "text/plain": [
       "<Figure size 432x288 with 1 Axes>"
      ]
     },
     "metadata": {
      "needs_background": "light"
     },
     "output_type": "display_data"
    }
   ],
   "source": [
    "plt.plot(scl_target.inverse_transform(y_pred_train_lb), label='predict train')\n",
    "plt.plot(scl_target.inverse_transform(y_pred_train_gb), label='predict train grad')\n",
    "plt.plot(scl_target.inverse_transform(y_train),'--g', label='train')\n",
    "plt.legend()\n",
    "plt.title('Предсказание train')\n",
    "plt.show()\n",
    "plt.plot(scl_target.inverse_transform(y_pred_test_lb), label='predict')\n",
    "plt.plot(scl_target.inverse_transform(y_pred_test_gb), label='predict grad')\n",
    "plt.plot(scl_target.inverse_transform(y_test), '--g',label='test')\n",
    "plt.legend()\n",
    "plt.title('Предсказание test')\n",
    "plt.show()"
   ]
  },
  {
   "cell_type": "markdown",
   "metadata": {},
   "source": [
    "#### Примените авторекурсию и сравните результат в 4-й точке путем прямого моделирования и путем рекурсивного моделирования на длине выборки из 4-х точек."
   ]
  },
  {
   "cell_type": "code",
   "execution_count": 608,
   "metadata": {},
   "outputs": [
    {
     "data": {
      "text/plain": [
       "Index(['conf', 'XX_sm0', 'XX_sm2', 'XX_sm3', 'XX_sm4', 'XX_sm5', 'XX_sm6',\n",
       "       'XX_sm0_log', 'XX_sm6_log'],\n",
       "      dtype='object')"
      ]
     },
     "execution_count": 608,
     "metadata": {},
     "output_type": "execute_result"
    }
   ],
   "source": [
    "COVID_Data.columns[list_par]"
   ]
  },
  {
   "cell_type": "code",
   "execution_count": 612,
   "metadata": {},
   "outputs": [],
   "source": [
    "# 'conf', 'XX_sm0', 'XX_sm2', 'XX_sm3', 'XX_sm4', 'XX_sm5', 'XX_sm6',\n",
    "#        'XX_sm0_log', 'XX_sm6_log'\n",
    "p = 5\n",
    "X_test_100 = x_test.copy()\n",
    "X_test_100 = np.vstack([x_train[-p:,:],X_test_100])\n",
    "y_test_100 = y_pred_test_lb.copy()\n",
    "y_test_100 = np.hstack([y_train[-p:,0],y_test_100])\n",
    "N10 = 10\n",
    "\n",
    "for ip in range(N10):\n",
    "    i=ip+p\n",
    "    y_test_100[i] = model_lb.predict(X_test_100[i,:].reshape((1,9)))\n",
    "    y_i=scl_target.inverse_transform(y_test_100[i:i+1])\n",
    "    \n",
    "    if ip != N10-1: \n",
    "        X_test_100[i+1,0] = (y_i-scl_x.mean_[0])/scl_x.scale_[0] #conf масштабированный\n",
    "        X_test_100[i+1,1] = X_test_100[i+1,0]*(1-0.02)+ 0.02 * X_test_100[i,1] #XX_sm0\n",
    "        X_test_100[i+1,2] = X_test_100[i+1,0]*(1-0.04)+ 0.04 * X_test_100[i,2] #XX_sm2\n",
    "        X_test_100[i+1,3] = X_test_100[i+1,0]*(1-0.05)+ 0.05 * X_test_100[i,3] #XX_sm3\n",
    "        X_test_100[i+1,4] = X_test_100[i+1,0]*(1-0.06)+ 0.06 * X_test_100[i,4] #XX_sm4\n",
    "        X_test_100[i+1,5] = X_test_100[i+1,0]*(1-0.07)+ 0.07 * X_test_100[i,5] #XX_sm5\n",
    "        X_test_100[i+1,6] = X_test_100[i+1,0]*(1-0.08)+ 0.08 * X_test_100[i,6] #XX_sm6\n",
    "        \n",
    "        X_test_100[i+1,7] = np.log(X_test_100[i+1,1]) #XX_sm0_log\n",
    "        X_test_100[i+1,8] = np.log(X_test_100[i+1,6]) #XX_sm6_log"
   ]
  },
  {
   "cell_type": "code",
   "execution_count": 613,
   "metadata": {},
   "outputs": [
    {
     "data": {
      "image/png": "[encoded data removed]",
      "text/plain": [
       "<Figure size 1080x504 with 1 Axes>"
      ]
     },
     "metadata": {
      "needs_background": "light"
     },
     "output_type": "display_data"
    }
   ],
   "source": [
    "plt.figure( figsize=( 15, 7 ))\n",
    "\n",
    "\n",
    "plt.xlabel('Время')\n",
    "plt.ylabel('Потребление энергии, МВт')\n",
    "plt.plot(COVID_Data.index[-N10:],scl_target.inverse_transform(y_pred_test_lb[:N10]), 'r',label='predict data' )\n",
    "plt.plot(COVID_Data.index[-N10:],scl_target.inverse_transform(y_test[:N10]), 'g',label='test data', alpha=0.5)\n",
    "plt.plot(COVID_Data.index[-N10:],scl_target.inverse_transform(y_test_100[p:]), '--r',label='recursive predict data')\n",
    "\n",
    "plt.legend()\n",
    "plt.show()   "
   ]
  },
  {
   "cell_type": "code",
   "execution_count": 615,
   "metadata": {},
   "outputs": [
    {
     "name": "stdout",
     "output_type": "stream",
     "text": [
      "ошибка линейной регрессии MAPE :   191411.68338067914 %\n"
     ]
    }
   ],
   "source": [
    "er_100 = mean_absolute_percentage_error(y_true=scl_target.inverse_transform(y_test),y_pred = scl_target.inverse_transform(y_test_100[p:]))\n",
    "print('ошибка линейной регрессии MAPE :  ', er_100,'%')"
   ]
  },
  {
   "cell_type": "markdown",
   "metadata": {},
   "source": [
    "у меня ошибка получается чудовищная. и растет в геометрической прогрессии. с самого начала предсказанная точка получается чуть больше, и потом становится все больше и больше. или я где-то ошиблась, или я не знаю. "
   ]
  },
  {
   "cell_type": "code",
   "execution_count": 616,
   "metadata": {},
   "outputs": [
    {
     "name": "stdout",
     "output_type": "stream",
     "text": [
      "ошибка рекурсивной модели в точке 0   MAPE :   0.05933548017031788 %\n",
      "ошибка рекурсивной модели в точке 1   MAPE :   13.866816925634886 %\n",
      "ошибка рекурсивной модели в точке 2   MAPE :   85.55208310407455 %\n",
      "ошибка рекурсивной модели в точке 3   MAPE :   403.11174121334085 %\n",
      "ошибка рекурсивной модели в точке 4   MAPE :   1760.6528912536633 %\n",
      "ошибка рекурсивной модели в точке 5   MAPE :   7546.6818066985215 %\n",
      "ошибка рекурсивной модели в точке 6   MAPE :   32167.09985456837 %\n",
      "ошибка рекурсивной модели в точке 7   MAPE :   137410.3882726586 %\n",
      "ошибка рекурсивной модели в точке 8   MAPE :   585573.7298301925 %\n",
      "ошибка рекурсивной модели в точке 9   MAPE :   2498176.9645821014 %\n"
     ]
    }
   ],
   "source": [
    "for j in range(10):\n",
    "    error_p=mean_absolute_percentage_error(y_true=y_test[j],y_pred = y_test_100[p+j:p+j+1])\n",
    "\n",
    "    print('ошибка рекурсивной модели в точке',j,'  MAPE :  ', error_p,'%')"
   ]
  },
  {
   "cell_type": "markdown",
   "metadata": {},
   "source": [
    "#### Постройте модель предсказания 4-й точки от текущей (h = 4), используя результаты автокорреляционного анализа из предшествующих уроков ."
   ]
  },
  {
   "cell_type": "code",
   "execution_count": 617,
   "metadata": {},
   "outputs": [
    {
     "data": {
      "text/plain": [
       "(62, 1)"
      ]
     },
     "execution_count": 617,
     "metadata": {},
     "output_type": "execute_result"
    }
   ],
   "source": [
    "p = 5\n",
    "h=4\n",
    "scl_target=StandardScaler() \n",
    "\n",
    "# y - начиная с 6го элемента\n",
    "target = COVID_Data.iloc[h+p:,0].to_numpy().reshape((COVID_Data.shape[0]-h-p,1))\n",
    "y = scl_target.fit_transform(target)\n",
    "y.shape"
   ]
  },
  {
   "cell_type": "code",
   "execution_count": 619,
   "metadata": {},
   "outputs": [
    {
     "data": {
      "text/plain": [
       "(62, 21)"
      ]
     },
     "execution_count": 619,
     "metadata": {},
     "output_type": "execute_result"
    }
   ],
   "source": [
    "# x - с 5го \n",
    "scl_x=StandardScaler() \n",
    "X = scl_x.fit_transform(COVID_Data.iloc[p:-h,:].values)\n",
    "X.shape"
   ]
  },
  {
   "cell_type": "code",
   "execution_count": 620,
   "metadata": {},
   "outputs": [],
   "source": [
    "X_new = X[:,list_par]"
   ]
  },
  {
   "cell_type": "code",
   "execution_count": 621,
   "metadata": {},
   "outputs": [],
   "source": [
    "N=-10\n",
    "x_train,y_train,x_test,y_test=X_new[:N,:],y[:N,:],X_new[N:,:],y[N:,:]"
   ]
  },
  {
   "cell_type": "code",
   "execution_count": 622,
   "metadata": {},
   "outputs": [],
   "source": [
    "model_lb = LinearRegression()\n",
    "model_gb = GradientBoostingRegressor(n_estimators=100)"
   ]
  },
  {
   "cell_type": "code",
   "execution_count": 623,
   "metadata": {},
   "outputs": [
    {
     "data": {
      "text/plain": [
       "GradientBoostingRegressor(alpha=0.9, ccp_alpha=0.0, criterion='friedman_mse',\n",
       "                          init=None, learning_rate=0.1, loss='ls', max_depth=3,\n",
       "                          max_features=None, max_leaf_nodes=None,\n",
       "                          min_impurity_decrease=0.0, min_impurity_split=None,\n",
       "                          min_samples_leaf=1, min_samples_split=2,\n",
       "                          min_weight_fraction_leaf=0.0, n_estimators=100,\n",
       "                          n_iter_no_change=None, presort='deprecated',\n",
       "                          random_state=None, subsample=1.0, tol=0.0001,\n",
       "                          validation_fraction=0.1, verbose=0, warm_start=False)"
      ]
     },
     "execution_count": 623,
     "metadata": {},
     "output_type": "execute_result"
    }
   ],
   "source": [
    "model_lb.fit(x_train,y_train.ravel())\n",
    "model_gb.fit(x_train,y_train.ravel())"
   ]
  },
  {
   "cell_type": "code",
   "execution_count": 624,
   "metadata": {},
   "outputs": [],
   "source": [
    "y_pred_train_lb = model_lb.predict(x_train)\n",
    "y_pred_test_lb = model_lb.predict(x_test)\n",
    "\n",
    "y_pred_train_gb = model_gb.predict(x_train)\n",
    "y_pred_test_gb = model_gb.predict(x_test)"
   ]
  },
  {
   "cell_type": "code",
   "execution_count": 627,
   "metadata": {},
   "outputs": [
    {
     "name": "stdout",
     "output_type": "stream",
     "text": [
      "ошибка градиентного бустинга MAPE :   7.218213015706551 %\n",
      "ошибка линейной регрессии MAPE :   4.15026499104923 %\n"
     ]
    }
   ],
   "source": [
    "er_g = mean_absolute_percentage_error(y_true=scl_target.inverse_transform(y_test),y_pred = scl_target.inverse_transform(y_pred_test_gb))\n",
    "print('ошибка градиентного бустинга MAPE :  ', er_g,'%')\n",
    "er_l = mean_absolute_percentage_error(y_true=scl_target.inverse_transform(y_test),y_pred = scl_target.inverse_transform(y_pred_test_lb))\n",
    "print('ошибка линейной регрессии MAPE :  ', er_l,'%')"
   ]
  },
  {
   "cell_type": "code",
   "execution_count": 629,
   "metadata": {
    "scrolled": false
   },
   "outputs": [
    {
     "data": {
      "image/png": "[encoded data removed]",
      "text/plain": [
       "<Figure size 432x288 with 1 Axes>"
      ]
     },
     "metadata": {
      "needs_background": "light"
     },
     "output_type": "display_data"
    },
    {
     "data": {
      "image/png": "[encoded data removed]",
      "text/plain": [
       "<Figure size 432x288 with 1 Axes>"
      ]
     },
     "metadata": {
      "needs_background": "light"
     },
     "output_type": "display_data"
    }
   ],
   "source": [
    "plt.plot(scl_target.inverse_transform(y_pred_train_lb), label='predict train')\n",
    "plt.plot(scl_target.inverse_transform(y_pred_train_gb), label='predict train grad')\n",
    "plt.plot(scl_target.inverse_transform(y_train),'--g', label='train')\n",
    "plt.legend()\n",
    "plt.title('Предсказание train')\n",
    "plt.show()\n",
    "plt.plot(scl_target.inverse_transform(y_pred_test_lb), label='predict')\n",
    "plt.plot(scl_target.inverse_transform(y_pred_test_gb), label='predict grad')\n",
    "plt.plot(scl_target.inverse_transform(y_test), '--g',label='test')\n",
    "plt.legend()\n",
    "plt.title('Предсказание test')\n",
    "plt.show()"
   ]
  },
  {
   "cell_type": "code",
   "execution_count": null,
   "metadata": {},
   "outputs": [],
   "source": []
  }
 ],
 "metadata": {
  "kernelspec": {
   "display_name": "Python 3",
   "language": "python",
   "name": "python3"
  },
  "language_info": {
   "codemirror_mode": {
    "name": "ipython",
    "version": 3
   },
   "file_extension": ".py",
   "mimetype": "text/x-python",
   "name": "python",
   "nbconvert_exporter": "python",
   "pygments_lexer": "ipython3",
   "version": "3.7.3"
  }
 },
 "nbformat": 4,
 "nbformat_minor": 2
}
