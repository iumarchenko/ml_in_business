{
 "cells": [
  {
   "cell_type": "markdown",
   "metadata": {},
   "source": [
    "1. Прочитайте базу my_BRENT2019.csv. Сделайте ее перерасчет (ресемплинг) в представление по неделям и перейдите к представлению ряда первыми разностями.\n",
    "2. Добавьте первые разности по стоимости доллара и евро к рублю (недельные).\n",
    "\n",
    "3. Постройте модель предсказания 1-й точки от текущей (h=1).\n",
    "\n",
    "4. Сделайте вывод о поведении ошибки предсказания ряда в сравнении с прямым прогнозированием."
   ]
  },
  {
   "cell_type": "code",
   "execution_count": 211,
   "metadata": {},
   "outputs": [],
   "source": [
    "import numpy as np\n",
    "import pandas as pd\n",
    "import matplotlib.pyplot as plt\n",
    "import seaborn as sns\n",
    "\n",
    "from itertools import product\n",
    "\n",
    "%matplotlib inline\n",
    "import warnings \n",
    "\n",
    "from statsmodels.tsa.stattools import adfuller\n",
    "from statsmodels.graphics.tsaplots import plot_acf, plot_pacf\n",
    "from statsmodels.tsa.statespace.sarimax import SARIMAX\n",
    "\n",
    "from sklearn.ensemble import GradientBoostingRegressor\n",
    "from sklearn.preprocessing import StandardScaler\n",
    "\n",
    "from sklearn.feature_selection import SelectKBest, SelectPercentile\n",
    "from sklearn.feature_selection import SelectFromModel\n",
    "\n",
    "from sklearn.feature_selection import f_regression, mutual_info_regression"
   ]
  },
  {
   "cell_type": "code",
   "execution_count": 180,
   "metadata": {},
   "outputs": [
    {
     "data": {
      "text/html": [
       "<div>\n",
       "<style scoped>\n",
       "    .dataframe tbody tr th:only-of-type {\n",
       "        vertical-align: middle;\n",
       "    }\n",
       "\n",
       "    .dataframe tbody tr th {\n",
       "        vertical-align: top;\n",
       "    }\n",
       "\n",
       "    .dataframe thead th {\n",
       "        text-align: right;\n",
       "    }\n",
       "</style>\n",
       "<table border=\"1\" class=\"dataframe\">\n",
       "  <thead>\n",
       "    <tr style=\"text-align: right;\">\n",
       "      <th></th>\n",
       "      <th>Значение</th>\n",
       "      <th>year</th>\n",
       "      <th>month</th>\n",
       "      <th>dayofmonth</th>\n",
       "      <th>quarter</th>\n",
       "      <th>dayofyear</th>\n",
       "      <th>weekofyear</th>\n",
       "      <th>dayofweek</th>\n",
       "      <th>is_holiday</th>\n",
       "      <th>is_prev_holiday</th>\n",
       "      <th>is_next_holiday</th>\n",
       "    </tr>\n",
       "    <tr>\n",
       "      <th>Дата</th>\n",
       "      <th></th>\n",
       "      <th></th>\n",
       "      <th></th>\n",
       "      <th></th>\n",
       "      <th></th>\n",
       "      <th></th>\n",
       "      <th></th>\n",
       "      <th></th>\n",
       "      <th></th>\n",
       "      <th></th>\n",
       "      <th></th>\n",
       "    </tr>\n",
       "  </thead>\n",
       "  <tbody>\n",
       "    <tr>\n",
       "      <th>2010-09-01</th>\n",
       "      <td>76.37</td>\n",
       "      <td>2010</td>\n",
       "      <td>9</td>\n",
       "      <td>1</td>\n",
       "      <td>3</td>\n",
       "      <td>244</td>\n",
       "      <td>35</td>\n",
       "      <td>2</td>\n",
       "      <td>0</td>\n",
       "      <td>0</td>\n",
       "      <td>0</td>\n",
       "    </tr>\n",
       "    <tr>\n",
       "      <th>2010-09-02</th>\n",
       "      <td>76.89</td>\n",
       "      <td>2010</td>\n",
       "      <td>9</td>\n",
       "      <td>2</td>\n",
       "      <td>3</td>\n",
       "      <td>245</td>\n",
       "      <td>35</td>\n",
       "      <td>3</td>\n",
       "      <td>0</td>\n",
       "      <td>0</td>\n",
       "      <td>0</td>\n",
       "    </tr>\n",
       "    <tr>\n",
       "      <th>2010-09-03</th>\n",
       "      <td>76.57</td>\n",
       "      <td>2010</td>\n",
       "      <td>9</td>\n",
       "      <td>3</td>\n",
       "      <td>3</td>\n",
       "      <td>246</td>\n",
       "      <td>35</td>\n",
       "      <td>4</td>\n",
       "      <td>0</td>\n",
       "      <td>0</td>\n",
       "      <td>0</td>\n",
       "    </tr>\n",
       "    <tr>\n",
       "      <th>2010-09-04</th>\n",
       "      <td>76.62</td>\n",
       "      <td>2010</td>\n",
       "      <td>9</td>\n",
       "      <td>4</td>\n",
       "      <td>3</td>\n",
       "      <td>247</td>\n",
       "      <td>35</td>\n",
       "      <td>5</td>\n",
       "      <td>0</td>\n",
       "      <td>0</td>\n",
       "      <td>0</td>\n",
       "    </tr>\n",
       "    <tr>\n",
       "      <th>2010-09-05</th>\n",
       "      <td>76.63</td>\n",
       "      <td>2010</td>\n",
       "      <td>9</td>\n",
       "      <td>5</td>\n",
       "      <td>3</td>\n",
       "      <td>248</td>\n",
       "      <td>35</td>\n",
       "      <td>6</td>\n",
       "      <td>0</td>\n",
       "      <td>1</td>\n",
       "      <td>0</td>\n",
       "    </tr>\n",
       "  </tbody>\n",
       "</table>\n",
       "</div>"
      ],
      "text/plain": [
       "            Значение  year  month  dayofmonth  quarter  dayofyear  weekofyear  \\\n",
       "Дата                                                                            \n",
       "2010-09-01     76.37  2010      9           1        3        244          35   \n",
       "2010-09-02     76.89  2010      9           2        3        245          35   \n",
       "2010-09-03     76.57  2010      9           3        3        246          35   \n",
       "2010-09-04     76.62  2010      9           4        3        247          35   \n",
       "2010-09-05     76.63  2010      9           5        3        248          35   \n",
       "\n",
       "            dayofweek  is_holiday  is_prev_holiday  is_next_holiday  \n",
       "Дата                                                                 \n",
       "2010-09-01          2           0                0                0  \n",
       "2010-09-02          3           0                0                0  \n",
       "2010-09-03          4           0                0                0  \n",
       "2010-09-04          5           0                0                0  \n",
       "2010-09-05          6           0                1                0  "
      ]
     },
     "execution_count": 180,
     "metadata": {},
     "output_type": "execute_result"
    }
   ],
   "source": [
    "df = pd.read_csv('my_BRENT2019.csv', index_col=[0])\n",
    "df.head()"
   ]
  },
  {
   "cell_type": "code",
   "execution_count": 181,
   "metadata": {},
   "outputs": [
    {
     "data": {
      "text/html": [
       "<div>\n",
       "<style scoped>\n",
       "    .dataframe tbody tr th:only-of-type {\n",
       "        vertical-align: middle;\n",
       "    }\n",
       "\n",
       "    .dataframe tbody tr th {\n",
       "        vertical-align: top;\n",
       "    }\n",
       "\n",
       "    .dataframe thead th {\n",
       "        text-align: right;\n",
       "    }\n",
       "</style>\n",
       "<table border=\"1\" class=\"dataframe\">\n",
       "  <thead>\n",
       "    <tr style=\"text-align: right;\">\n",
       "      <th></th>\n",
       "      <th>Значение</th>\n",
       "      <th>year</th>\n",
       "      <th>month</th>\n",
       "      <th>dayofmonth</th>\n",
       "      <th>quarter</th>\n",
       "      <th>dayofyear</th>\n",
       "      <th>weekofyear</th>\n",
       "      <th>dayofweek</th>\n",
       "      <th>is_holiday</th>\n",
       "      <th>is_prev_holiday</th>\n",
       "      <th>is_next_holiday</th>\n",
       "    </tr>\n",
       "    <tr>\n",
       "      <th>Дата</th>\n",
       "      <th></th>\n",
       "      <th></th>\n",
       "      <th></th>\n",
       "      <th></th>\n",
       "      <th></th>\n",
       "      <th></th>\n",
       "      <th></th>\n",
       "      <th></th>\n",
       "      <th></th>\n",
       "      <th></th>\n",
       "      <th></th>\n",
       "    </tr>\n",
       "  </thead>\n",
       "  <tbody>\n",
       "    <tr>\n",
       "      <th>2019-08-27</th>\n",
       "      <td>59.59</td>\n",
       "      <td>2019</td>\n",
       "      <td>8</td>\n",
       "      <td>27</td>\n",
       "      <td>3</td>\n",
       "      <td>239</td>\n",
       "      <td>35</td>\n",
       "      <td>1</td>\n",
       "      <td>0</td>\n",
       "      <td>0</td>\n",
       "      <td>0</td>\n",
       "    </tr>\n",
       "    <tr>\n",
       "      <th>2019-08-28</th>\n",
       "      <td>59.84</td>\n",
       "      <td>2019</td>\n",
       "      <td>8</td>\n",
       "      <td>28</td>\n",
       "      <td>3</td>\n",
       "      <td>240</td>\n",
       "      <td>35</td>\n",
       "      <td>2</td>\n",
       "      <td>0</td>\n",
       "      <td>0</td>\n",
       "      <td>0</td>\n",
       "    </tr>\n",
       "    <tr>\n",
       "      <th>2019-08-29</th>\n",
       "      <td>60.37</td>\n",
       "      <td>2019</td>\n",
       "      <td>8</td>\n",
       "      <td>29</td>\n",
       "      <td>3</td>\n",
       "      <td>241</td>\n",
       "      <td>35</td>\n",
       "      <td>3</td>\n",
       "      <td>0</td>\n",
       "      <td>0</td>\n",
       "      <td>0</td>\n",
       "    </tr>\n",
       "    <tr>\n",
       "      <th>2019-08-30</th>\n",
       "      <td>59.19</td>\n",
       "      <td>2019</td>\n",
       "      <td>8</td>\n",
       "      <td>30</td>\n",
       "      <td>3</td>\n",
       "      <td>242</td>\n",
       "      <td>35</td>\n",
       "      <td>4</td>\n",
       "      <td>0</td>\n",
       "      <td>0</td>\n",
       "      <td>0</td>\n",
       "    </tr>\n",
       "    <tr>\n",
       "      <th>2019-09-01</th>\n",
       "      <td>58.84</td>\n",
       "      <td>2019</td>\n",
       "      <td>9</td>\n",
       "      <td>1</td>\n",
       "      <td>3</td>\n",
       "      <td>244</td>\n",
       "      <td>35</td>\n",
       "      <td>6</td>\n",
       "      <td>0</td>\n",
       "      <td>1</td>\n",
       "      <td>0</td>\n",
       "    </tr>\n",
       "  </tbody>\n",
       "</table>\n",
       "</div>"
      ],
      "text/plain": [
       "            Значение  year  month  dayofmonth  quarter  dayofyear  weekofyear  \\\n",
       "Дата                                                                            \n",
       "2019-08-27     59.59  2019      8          27        3        239          35   \n",
       "2019-08-28     59.84  2019      8          28        3        240          35   \n",
       "2019-08-29     60.37  2019      8          29        3        241          35   \n",
       "2019-08-30     59.19  2019      8          30        3        242          35   \n",
       "2019-09-01     58.84  2019      9           1        3        244          35   \n",
       "\n",
       "            dayofweek  is_holiday  is_prev_holiday  is_next_holiday  \n",
       "Дата                                                                 \n",
       "2019-08-27          1           0                0                0  \n",
       "2019-08-28          2           0                0                0  \n",
       "2019-08-29          3           0                0                0  \n",
       "2019-08-30          4           0                0                0  \n",
       "2019-09-01          6           0                1                0  "
      ]
     },
     "execution_count": 181,
     "metadata": {},
     "output_type": "execute_result"
    }
   ],
   "source": [
    "df.tail()"
   ]
  },
  {
   "cell_type": "code",
   "execution_count": 182,
   "metadata": {},
   "outputs": [],
   "source": [
    "df.index = pd.to_datetime(df.index)"
   ]
  },
  {
   "cell_type": "code",
   "execution_count": 183,
   "metadata": {},
   "outputs": [
    {
     "data": {
      "text/html": [
       "<div>\n",
       "<style scoped>\n",
       "    .dataframe tbody tr th:only-of-type {\n",
       "        vertical-align: middle;\n",
       "    }\n",
       "\n",
       "    .dataframe tbody tr th {\n",
       "        vertical-align: top;\n",
       "    }\n",
       "\n",
       "    .dataframe thead th {\n",
       "        text-align: right;\n",
       "    }\n",
       "</style>\n",
       "<table border=\"1\" class=\"dataframe\">\n",
       "  <thead>\n",
       "    <tr style=\"text-align: right;\">\n",
       "      <th></th>\n",
       "      <th>nominal</th>\n",
       "      <th>curs</th>\n",
       "      <th>cdx</th>\n",
       "    </tr>\n",
       "    <tr>\n",
       "      <th>data</th>\n",
       "      <th></th>\n",
       "      <th></th>\n",
       "      <th></th>\n",
       "    </tr>\n",
       "  </thead>\n",
       "  <tbody>\n",
       "    <tr>\n",
       "      <th>2010-09-01</th>\n",
       "      <td>1</td>\n",
       "      <td>30.8669</td>\n",
       "      <td>Доллар США</td>\n",
       "    </tr>\n",
       "    <tr>\n",
       "      <th>2010-09-02</th>\n",
       "      <td>1</td>\n",
       "      <td>30.8001</td>\n",
       "      <td>Доллар США</td>\n",
       "    </tr>\n",
       "    <tr>\n",
       "      <th>2010-09-03</th>\n",
       "      <td>1</td>\n",
       "      <td>30.6858</td>\n",
       "      <td>Доллар США</td>\n",
       "    </tr>\n",
       "    <tr>\n",
       "      <th>2010-09-04</th>\n",
       "      <td>1</td>\n",
       "      <td>30.6922</td>\n",
       "      <td>Доллар США</td>\n",
       "    </tr>\n",
       "    <tr>\n",
       "      <th>2010-09-07</th>\n",
       "      <td>1</td>\n",
       "      <td>30.5771</td>\n",
       "      <td>Доллар США</td>\n",
       "    </tr>\n",
       "  </tbody>\n",
       "</table>\n",
       "</div>"
      ],
      "text/plain": [
       "            nominal     curs         cdx\n",
       "data                                    \n",
       "2010-09-01        1  30.8669  Доллар США\n",
       "2010-09-02        1  30.8001  Доллар США\n",
       "2010-09-03        1  30.6858  Доллар США\n",
       "2010-09-04        1  30.6922  Доллар США\n",
       "2010-09-07        1  30.5771  Доллар США"
      ]
     },
     "execution_count": 183,
     "metadata": {},
     "output_type": "execute_result"
    }
   ],
   "source": [
    "dol = pd.read_excel('RC_F01_09_2010_T01_09_2019_.xlsx', index_col=[1])\n",
    "dol.head()"
   ]
  },
  {
   "cell_type": "code",
   "execution_count": 184,
   "metadata": {},
   "outputs": [],
   "source": [
    "dol.drop(columns=['nominal', 'cdx'], inplace=True)"
   ]
  },
  {
   "cell_type": "code",
   "execution_count": 185,
   "metadata": {},
   "outputs": [],
   "source": [
    "dol.columns = ['dollar']"
   ]
  },
  {
   "cell_type": "code",
   "execution_count": 186,
   "metadata": {},
   "outputs": [],
   "source": [
    "dol.index = pd.to_datetime(dol.index)"
   ]
  },
  {
   "cell_type": "code",
   "execution_count": 187,
   "metadata": {},
   "outputs": [
    {
     "data": {
      "text/html": [
       "<div>\n",
       "<style scoped>\n",
       "    .dataframe tbody tr th:only-of-type {\n",
       "        vertical-align: middle;\n",
       "    }\n",
       "\n",
       "    .dataframe tbody tr th {\n",
       "        vertical-align: top;\n",
       "    }\n",
       "\n",
       "    .dataframe thead th {\n",
       "        text-align: right;\n",
       "    }\n",
       "</style>\n",
       "<table border=\"1\" class=\"dataframe\">\n",
       "  <thead>\n",
       "    <tr style=\"text-align: right;\">\n",
       "      <th></th>\n",
       "      <th>nominal</th>\n",
       "      <th>curs</th>\n",
       "      <th>cdx</th>\n",
       "    </tr>\n",
       "    <tr>\n",
       "      <th>data</th>\n",
       "      <th></th>\n",
       "      <th></th>\n",
       "      <th></th>\n",
       "    </tr>\n",
       "  </thead>\n",
       "  <tbody>\n",
       "    <tr>\n",
       "      <th>2010-09-01</th>\n",
       "      <td>1</td>\n",
       "      <td>39.0127</td>\n",
       "      <td>Евро</td>\n",
       "    </tr>\n",
       "    <tr>\n",
       "      <th>2010-09-02</th>\n",
       "      <td>1</td>\n",
       "      <td>39.1654</td>\n",
       "      <td>Евро</td>\n",
       "    </tr>\n",
       "    <tr>\n",
       "      <th>2010-09-03</th>\n",
       "      <td>1</td>\n",
       "      <td>39.2901</td>\n",
       "      <td>Евро</td>\n",
       "    </tr>\n",
       "    <tr>\n",
       "      <th>2010-09-04</th>\n",
       "      <td>1</td>\n",
       "      <td>39.3505</td>\n",
       "      <td>Евро</td>\n",
       "    </tr>\n",
       "    <tr>\n",
       "      <th>2010-09-07</th>\n",
       "      <td>1</td>\n",
       "      <td>39.4720</td>\n",
       "      <td>Евро</td>\n",
       "    </tr>\n",
       "  </tbody>\n",
       "</table>\n",
       "</div>"
      ],
      "text/plain": [
       "            nominal     curs   cdx\n",
       "data                              \n",
       "2010-09-01        1  39.0127  Евро\n",
       "2010-09-02        1  39.1654  Евро\n",
       "2010-09-03        1  39.2901  Евро\n",
       "2010-09-04        1  39.3505  Евро\n",
       "2010-09-07        1  39.4720  Евро"
      ]
     },
     "execution_count": 187,
     "metadata": {},
     "output_type": "execute_result"
    }
   ],
   "source": [
    "evr = pd.read_excel('RC_F01_09_2010_T01_09_2019.xlsx', index_col=[1])\n",
    "evr.head()"
   ]
  },
  {
   "cell_type": "code",
   "execution_count": 188,
   "metadata": {},
   "outputs": [],
   "source": [
    "evr.drop(columns=['nominal', 'cdx'], inplace=True)"
   ]
  },
  {
   "cell_type": "code",
   "execution_count": 189,
   "metadata": {},
   "outputs": [],
   "source": [
    "evr.columns = ['euro']"
   ]
  },
  {
   "cell_type": "code",
   "execution_count": 190,
   "metadata": {},
   "outputs": [],
   "source": [
    "evr.index = pd.to_datetime(evr.index)"
   ]
  },
  {
   "cell_type": "code",
   "execution_count": 191,
   "metadata": {},
   "outputs": [],
   "source": [
    "df = pd.concat([df, evr, dol], axis=1)"
   ]
  },
  {
   "cell_type": "code",
   "execution_count": 192,
   "metadata": {},
   "outputs": [
    {
     "data": {
      "text/html": [
       "<div>\n",
       "<style scoped>\n",
       "    .dataframe tbody tr th:only-of-type {\n",
       "        vertical-align: middle;\n",
       "    }\n",
       "\n",
       "    .dataframe tbody tr th {\n",
       "        vertical-align: top;\n",
       "    }\n",
       "\n",
       "    .dataframe thead th {\n",
       "        text-align: right;\n",
       "    }\n",
       "</style>\n",
       "<table border=\"1\" class=\"dataframe\">\n",
       "  <thead>\n",
       "    <tr style=\"text-align: right;\">\n",
       "      <th></th>\n",
       "      <th>Значение</th>\n",
       "      <th>year</th>\n",
       "      <th>month</th>\n",
       "      <th>dayofmonth</th>\n",
       "      <th>quarter</th>\n",
       "      <th>dayofyear</th>\n",
       "      <th>weekofyear</th>\n",
       "      <th>dayofweek</th>\n",
       "      <th>is_holiday</th>\n",
       "      <th>is_prev_holiday</th>\n",
       "      <th>is_next_holiday</th>\n",
       "      <th>euro</th>\n",
       "      <th>dollar</th>\n",
       "    </tr>\n",
       "  </thead>\n",
       "  <tbody>\n",
       "    <tr>\n",
       "      <th>2010-09-01</th>\n",
       "      <td>76.37</td>\n",
       "      <td>2010.0</td>\n",
       "      <td>9.0</td>\n",
       "      <td>1.0</td>\n",
       "      <td>3.0</td>\n",
       "      <td>244.0</td>\n",
       "      <td>35.0</td>\n",
       "      <td>2.0</td>\n",
       "      <td>0.0</td>\n",
       "      <td>0.0</td>\n",
       "      <td>0.0</td>\n",
       "      <td>39.0127</td>\n",
       "      <td>30.8669</td>\n",
       "    </tr>\n",
       "    <tr>\n",
       "      <th>2010-09-02</th>\n",
       "      <td>76.89</td>\n",
       "      <td>2010.0</td>\n",
       "      <td>9.0</td>\n",
       "      <td>2.0</td>\n",
       "      <td>3.0</td>\n",
       "      <td>245.0</td>\n",
       "      <td>35.0</td>\n",
       "      <td>3.0</td>\n",
       "      <td>0.0</td>\n",
       "      <td>0.0</td>\n",
       "      <td>0.0</td>\n",
       "      <td>39.1654</td>\n",
       "      <td>30.8001</td>\n",
       "    </tr>\n",
       "    <tr>\n",
       "      <th>2010-09-03</th>\n",
       "      <td>76.57</td>\n",
       "      <td>2010.0</td>\n",
       "      <td>9.0</td>\n",
       "      <td>3.0</td>\n",
       "      <td>3.0</td>\n",
       "      <td>246.0</td>\n",
       "      <td>35.0</td>\n",
       "      <td>4.0</td>\n",
       "      <td>0.0</td>\n",
       "      <td>0.0</td>\n",
       "      <td>0.0</td>\n",
       "      <td>39.2901</td>\n",
       "      <td>30.6858</td>\n",
       "    </tr>\n",
       "    <tr>\n",
       "      <th>2010-09-04</th>\n",
       "      <td>76.62</td>\n",
       "      <td>2010.0</td>\n",
       "      <td>9.0</td>\n",
       "      <td>4.0</td>\n",
       "      <td>3.0</td>\n",
       "      <td>247.0</td>\n",
       "      <td>35.0</td>\n",
       "      <td>5.0</td>\n",
       "      <td>0.0</td>\n",
       "      <td>0.0</td>\n",
       "      <td>0.0</td>\n",
       "      <td>39.3505</td>\n",
       "      <td>30.6922</td>\n",
       "    </tr>\n",
       "    <tr>\n",
       "      <th>2010-09-05</th>\n",
       "      <td>76.63</td>\n",
       "      <td>2010.0</td>\n",
       "      <td>9.0</td>\n",
       "      <td>5.0</td>\n",
       "      <td>3.0</td>\n",
       "      <td>248.0</td>\n",
       "      <td>35.0</td>\n",
       "      <td>6.0</td>\n",
       "      <td>0.0</td>\n",
       "      <td>1.0</td>\n",
       "      <td>0.0</td>\n",
       "      <td>NaN</td>\n",
       "      <td>NaN</td>\n",
       "    </tr>\n",
       "  </tbody>\n",
       "</table>\n",
       "</div>"
      ],
      "text/plain": [
       "            Значение    year  month  dayofmonth  quarter  dayofyear  \\\n",
       "2010-09-01     76.37  2010.0    9.0         1.0      3.0      244.0   \n",
       "2010-09-02     76.89  2010.0    9.0         2.0      3.0      245.0   \n",
       "2010-09-03     76.57  2010.0    9.0         3.0      3.0      246.0   \n",
       "2010-09-04     76.62  2010.0    9.0         4.0      3.0      247.0   \n",
       "2010-09-05     76.63  2010.0    9.0         5.0      3.0      248.0   \n",
       "\n",
       "            weekofyear  dayofweek  is_holiday  is_prev_holiday  \\\n",
       "2010-09-01        35.0        2.0         0.0              0.0   \n",
       "2010-09-02        35.0        3.0         0.0              0.0   \n",
       "2010-09-03        35.0        4.0         0.0              0.0   \n",
       "2010-09-04        35.0        5.0         0.0              0.0   \n",
       "2010-09-05        35.0        6.0         0.0              1.0   \n",
       "\n",
       "            is_next_holiday     euro   dollar  \n",
       "2010-09-01              0.0  39.0127  30.8669  \n",
       "2010-09-02              0.0  39.1654  30.8001  \n",
       "2010-09-03              0.0  39.2901  30.6858  \n",
       "2010-09-04              0.0  39.3505  30.6922  \n",
       "2010-09-05              0.0      NaN      NaN  "
      ]
     },
     "execution_count": 192,
     "metadata": {},
     "output_type": "execute_result"
    }
   ],
   "source": [
    "df.head()"
   ]
  },
  {
   "cell_type": "code",
   "execution_count": 193,
   "metadata": {},
   "outputs": [
    {
     "data": {
      "text/plain": [
       "(3137, 13)"
      ]
     },
     "execution_count": 193,
     "metadata": {},
     "output_type": "execute_result"
    }
   ],
   "source": [
    "df.shape"
   ]
  },
  {
   "cell_type": "code",
   "execution_count": 194,
   "metadata": {},
   "outputs": [
    {
     "name": "stdout",
     "output_type": "stream",
     "text": [
      "<class 'pandas.core.frame.DataFrame'>\n",
      "DatetimeIndex: 3137 entries, 2010-09-01 to 2019-09-01\n",
      "Data columns (total 13 columns):\n",
      "Значение           2667 non-null float64\n",
      "year               2667 non-null float64\n",
      "month              2667 non-null float64\n",
      "dayofmonth         2667 non-null float64\n",
      "quarter            2667 non-null float64\n",
      "dayofyear          2667 non-null float64\n",
      "weekofyear         2667 non-null float64\n",
      "dayofweek          2667 non-null float64\n",
      "is_holiday         2667 non-null float64\n",
      "is_prev_holiday    2667 non-null float64\n",
      "is_next_holiday    2667 non-null float64\n",
      "euro               2228 non-null float64\n",
      "dollar             2228 non-null float64\n",
      "dtypes: float64(13)\n",
      "memory usage: 343.1 KB\n"
     ]
    }
   ],
   "source": [
    "df.info()"
   ]
  },
  {
   "cell_type": "code",
   "execution_count": 195,
   "metadata": {},
   "outputs": [
    {
     "data": {
      "text/html": [
       "<div>\n",
       "<style scoped>\n",
       "    .dataframe tbody tr th:only-of-type {\n",
       "        vertical-align: middle;\n",
       "    }\n",
       "\n",
       "    .dataframe tbody tr th {\n",
       "        vertical-align: top;\n",
       "    }\n",
       "\n",
       "    .dataframe thead th {\n",
       "        text-align: right;\n",
       "    }\n",
       "</style>\n",
       "<table border=\"1\" class=\"dataframe\">\n",
       "  <thead>\n",
       "    <tr style=\"text-align: right;\">\n",
       "      <th></th>\n",
       "      <th>Значение</th>\n",
       "      <th>year</th>\n",
       "      <th>month</th>\n",
       "      <th>dayofmonth</th>\n",
       "      <th>quarter</th>\n",
       "      <th>dayofyear</th>\n",
       "      <th>weekofyear</th>\n",
       "      <th>dayofweek</th>\n",
       "      <th>is_holiday</th>\n",
       "      <th>is_prev_holiday</th>\n",
       "      <th>is_next_holiday</th>\n",
       "      <th>euro</th>\n",
       "      <th>dollar</th>\n",
       "    </tr>\n",
       "  </thead>\n",
       "  <tbody>\n",
       "    <tr>\n",
       "      <th>2010-09-05</th>\n",
       "      <td>76.63</td>\n",
       "      <td>2010.0</td>\n",
       "      <td>9.0</td>\n",
       "      <td>5.0</td>\n",
       "      <td>3.0</td>\n",
       "      <td>248.0</td>\n",
       "      <td>35.0</td>\n",
       "      <td>6.0</td>\n",
       "      <td>0.0</td>\n",
       "      <td>1.0</td>\n",
       "      <td>0.0</td>\n",
       "      <td>NaN</td>\n",
       "      <td>NaN</td>\n",
       "    </tr>\n",
       "    <tr>\n",
       "      <th>2010-09-06</th>\n",
       "      <td>76.87</td>\n",
       "      <td>2010.0</td>\n",
       "      <td>9.0</td>\n",
       "      <td>6.0</td>\n",
       "      <td>3.0</td>\n",
       "      <td>249.0</td>\n",
       "      <td>36.0</td>\n",
       "      <td>0.0</td>\n",
       "      <td>1.0</td>\n",
       "      <td>0.0</td>\n",
       "      <td>0.0</td>\n",
       "      <td>NaN</td>\n",
       "      <td>NaN</td>\n",
       "    </tr>\n",
       "    <tr>\n",
       "      <th>2010-09-13</th>\n",
       "      <td>79.19</td>\n",
       "      <td>2010.0</td>\n",
       "      <td>9.0</td>\n",
       "      <td>13.0</td>\n",
       "      <td>3.0</td>\n",
       "      <td>256.0</td>\n",
       "      <td>37.0</td>\n",
       "      <td>0.0</td>\n",
       "      <td>0.0</td>\n",
       "      <td>0.0</td>\n",
       "      <td>0.0</td>\n",
       "      <td>NaN</td>\n",
       "      <td>NaN</td>\n",
       "    </tr>\n",
       "    <tr>\n",
       "      <th>2010-09-19</th>\n",
       "      <td>78.23</td>\n",
       "      <td>2010.0</td>\n",
       "      <td>9.0</td>\n",
       "      <td>19.0</td>\n",
       "      <td>3.0</td>\n",
       "      <td>262.0</td>\n",
       "      <td>37.0</td>\n",
       "      <td>6.0</td>\n",
       "      <td>0.0</td>\n",
       "      <td>0.0</td>\n",
       "      <td>0.0</td>\n",
       "      <td>NaN</td>\n",
       "      <td>NaN</td>\n",
       "    </tr>\n",
       "    <tr>\n",
       "      <th>2010-09-20</th>\n",
       "      <td>79.36</td>\n",
       "      <td>2010.0</td>\n",
       "      <td>9.0</td>\n",
       "      <td>20.0</td>\n",
       "      <td>3.0</td>\n",
       "      <td>263.0</td>\n",
       "      <td>38.0</td>\n",
       "      <td>0.0</td>\n",
       "      <td>0.0</td>\n",
       "      <td>0.0</td>\n",
       "      <td>0.0</td>\n",
       "      <td>NaN</td>\n",
       "      <td>NaN</td>\n",
       "    </tr>\n",
       "    <tr>\n",
       "      <th>2010-09-26</th>\n",
       "      <td>78.94</td>\n",
       "      <td>2010.0</td>\n",
       "      <td>9.0</td>\n",
       "      <td>26.0</td>\n",
       "      <td>3.0</td>\n",
       "      <td>269.0</td>\n",
       "      <td>38.0</td>\n",
       "      <td>6.0</td>\n",
       "      <td>0.0</td>\n",
       "      <td>0.0</td>\n",
       "      <td>0.0</td>\n",
       "      <td>NaN</td>\n",
       "      <td>NaN</td>\n",
       "    </tr>\n",
       "    <tr>\n",
       "      <th>2010-09-27</th>\n",
       "      <td>78.14</td>\n",
       "      <td>2010.0</td>\n",
       "      <td>9.0</td>\n",
       "      <td>27.0</td>\n",
       "      <td>3.0</td>\n",
       "      <td>270.0</td>\n",
       "      <td>39.0</td>\n",
       "      <td>0.0</td>\n",
       "      <td>0.0</td>\n",
       "      <td>0.0</td>\n",
       "      <td>0.0</td>\n",
       "      <td>NaN</td>\n",
       "      <td>NaN</td>\n",
       "    </tr>\n",
       "    <tr>\n",
       "      <th>2010-10-03</th>\n",
       "      <td>83.69</td>\n",
       "      <td>2010.0</td>\n",
       "      <td>10.0</td>\n",
       "      <td>3.0</td>\n",
       "      <td>4.0</td>\n",
       "      <td>276.0</td>\n",
       "      <td>39.0</td>\n",
       "      <td>6.0</td>\n",
       "      <td>0.0</td>\n",
       "      <td>0.0</td>\n",
       "      <td>0.0</td>\n",
       "      <td>NaN</td>\n",
       "      <td>NaN</td>\n",
       "    </tr>\n",
       "    <tr>\n",
       "      <th>2010-10-04</th>\n",
       "      <td>83.30</td>\n",
       "      <td>2010.0</td>\n",
       "      <td>10.0</td>\n",
       "      <td>4.0</td>\n",
       "      <td>4.0</td>\n",
       "      <td>277.0</td>\n",
       "      <td>40.0</td>\n",
       "      <td>0.0</td>\n",
       "      <td>0.0</td>\n",
       "      <td>0.0</td>\n",
       "      <td>0.0</td>\n",
       "      <td>NaN</td>\n",
       "      <td>NaN</td>\n",
       "    </tr>\n",
       "    <tr>\n",
       "      <th>2010-10-10</th>\n",
       "      <td>84.33</td>\n",
       "      <td>2010.0</td>\n",
       "      <td>10.0</td>\n",
       "      <td>10.0</td>\n",
       "      <td>4.0</td>\n",
       "      <td>283.0</td>\n",
       "      <td>40.0</td>\n",
       "      <td>6.0</td>\n",
       "      <td>0.0</td>\n",
       "      <td>1.0</td>\n",
       "      <td>0.0</td>\n",
       "      <td>NaN</td>\n",
       "      <td>NaN</td>\n",
       "    </tr>\n",
       "  </tbody>\n",
       "</table>\n",
       "</div>"
      ],
      "text/plain": [
       "            Значение    year  month  dayofmonth  quarter  dayofyear  \\\n",
       "2010-09-05     76.63  2010.0    9.0         5.0      3.0      248.0   \n",
       "2010-09-06     76.87  2010.0    9.0         6.0      3.0      249.0   \n",
       "2010-09-13     79.19  2010.0    9.0        13.0      3.0      256.0   \n",
       "2010-09-19     78.23  2010.0    9.0        19.0      3.0      262.0   \n",
       "2010-09-20     79.36  2010.0    9.0        20.0      3.0      263.0   \n",
       "2010-09-26     78.94  2010.0    9.0        26.0      3.0      269.0   \n",
       "2010-09-27     78.14  2010.0    9.0        27.0      3.0      270.0   \n",
       "2010-10-03     83.69  2010.0   10.0         3.0      4.0      276.0   \n",
       "2010-10-04     83.30  2010.0   10.0         4.0      4.0      277.0   \n",
       "2010-10-10     84.33  2010.0   10.0        10.0      4.0      283.0   \n",
       "\n",
       "            weekofyear  dayofweek  is_holiday  is_prev_holiday  \\\n",
       "2010-09-05        35.0        6.0         0.0              1.0   \n",
       "2010-09-06        36.0        0.0         1.0              0.0   \n",
       "2010-09-13        37.0        0.0         0.0              0.0   \n",
       "2010-09-19        37.0        6.0         0.0              0.0   \n",
       "2010-09-20        38.0        0.0         0.0              0.0   \n",
       "2010-09-26        38.0        6.0         0.0              0.0   \n",
       "2010-09-27        39.0        0.0         0.0              0.0   \n",
       "2010-10-03        39.0        6.0         0.0              0.0   \n",
       "2010-10-04        40.0        0.0         0.0              0.0   \n",
       "2010-10-10        40.0        6.0         0.0              1.0   \n",
       "\n",
       "            is_next_holiday  euro  dollar  \n",
       "2010-09-05              0.0   NaN     NaN  \n",
       "2010-09-06              0.0   NaN     NaN  \n",
       "2010-09-13              0.0   NaN     NaN  \n",
       "2010-09-19              0.0   NaN     NaN  \n",
       "2010-09-20              0.0   NaN     NaN  \n",
       "2010-09-26              0.0   NaN     NaN  \n",
       "2010-09-27              0.0   NaN     NaN  \n",
       "2010-10-03              0.0   NaN     NaN  \n",
       "2010-10-04              0.0   NaN     NaN  \n",
       "2010-10-10              0.0   NaN     NaN  "
      ]
     },
     "execution_count": 195,
     "metadata": {},
     "output_type": "execute_result"
    }
   ],
   "source": [
    "df.loc[df['dollar'].isnull()].head(10)"
   ]
  },
  {
   "cell_type": "code",
   "execution_count": 196,
   "metadata": {},
   "outputs": [
    {
     "data": {
      "text/html": [
       "<div>\n",
       "<style scoped>\n",
       "    .dataframe tbody tr th:only-of-type {\n",
       "        vertical-align: middle;\n",
       "    }\n",
       "\n",
       "    .dataframe tbody tr th {\n",
       "        vertical-align: top;\n",
       "    }\n",
       "\n",
       "    .dataframe thead th {\n",
       "        text-align: right;\n",
       "    }\n",
       "</style>\n",
       "<table border=\"1\" class=\"dataframe\">\n",
       "  <thead>\n",
       "    <tr style=\"text-align: right;\">\n",
       "      <th></th>\n",
       "      <th>Значение</th>\n",
       "      <th>year</th>\n",
       "      <th>month</th>\n",
       "      <th>dayofmonth</th>\n",
       "      <th>quarter</th>\n",
       "      <th>dayofyear</th>\n",
       "      <th>weekofyear</th>\n",
       "      <th>dayofweek</th>\n",
       "      <th>is_holiday</th>\n",
       "      <th>is_prev_holiday</th>\n",
       "      <th>is_next_holiday</th>\n",
       "      <th>euro</th>\n",
       "      <th>dollar</th>\n",
       "    </tr>\n",
       "  </thead>\n",
       "  <tbody>\n",
       "    <tr>\n",
       "      <th>2010-09-18</th>\n",
       "      <td>NaN</td>\n",
       "      <td>NaN</td>\n",
       "      <td>NaN</td>\n",
       "      <td>NaN</td>\n",
       "      <td>NaN</td>\n",
       "      <td>NaN</td>\n",
       "      <td>NaN</td>\n",
       "      <td>NaN</td>\n",
       "      <td>NaN</td>\n",
       "      <td>NaN</td>\n",
       "      <td>NaN</td>\n",
       "      <td>40.8115</td>\n",
       "      <td>31.0826</td>\n",
       "    </tr>\n",
       "    <tr>\n",
       "      <th>2010-09-25</th>\n",
       "      <td>NaN</td>\n",
       "      <td>NaN</td>\n",
       "      <td>NaN</td>\n",
       "      <td>NaN</td>\n",
       "      <td>NaN</td>\n",
       "      <td>NaN</td>\n",
       "      <td>NaN</td>\n",
       "      <td>NaN</td>\n",
       "      <td>NaN</td>\n",
       "      <td>NaN</td>\n",
       "      <td>NaN</td>\n",
       "      <td>41.2599</td>\n",
       "      <td>30.9480</td>\n",
       "    </tr>\n",
       "    <tr>\n",
       "      <th>2010-10-02</th>\n",
       "      <td>NaN</td>\n",
       "      <td>NaN</td>\n",
       "      <td>NaN</td>\n",
       "      <td>NaN</td>\n",
       "      <td>NaN</td>\n",
       "      <td>NaN</td>\n",
       "      <td>NaN</td>\n",
       "      <td>NaN</td>\n",
       "      <td>NaN</td>\n",
       "      <td>NaN</td>\n",
       "      <td>NaN</td>\n",
       "      <td>41.6606</td>\n",
       "      <td>30.5094</td>\n",
       "    </tr>\n",
       "    <tr>\n",
       "      <th>2010-10-09</th>\n",
       "      <td>NaN</td>\n",
       "      <td>NaN</td>\n",
       "      <td>NaN</td>\n",
       "      <td>NaN</td>\n",
       "      <td>NaN</td>\n",
       "      <td>NaN</td>\n",
       "      <td>NaN</td>\n",
       "      <td>NaN</td>\n",
       "      <td>NaN</td>\n",
       "      <td>NaN</td>\n",
       "      <td>NaN</td>\n",
       "      <td>41.6717</td>\n",
       "      <td>29.9086</td>\n",
       "    </tr>\n",
       "    <tr>\n",
       "      <th>2010-10-16</th>\n",
       "      <td>NaN</td>\n",
       "      <td>NaN</td>\n",
       "      <td>NaN</td>\n",
       "      <td>NaN</td>\n",
       "      <td>NaN</td>\n",
       "      <td>NaN</td>\n",
       "      <td>NaN</td>\n",
       "      <td>NaN</td>\n",
       "      <td>NaN</td>\n",
       "      <td>NaN</td>\n",
       "      <td>NaN</td>\n",
       "      <td>42.3939</td>\n",
       "      <td>30.1243</td>\n",
       "    </tr>\n",
       "    <tr>\n",
       "      <th>2010-10-23</th>\n",
       "      <td>NaN</td>\n",
       "      <td>NaN</td>\n",
       "      <td>NaN</td>\n",
       "      <td>NaN</td>\n",
       "      <td>NaN</td>\n",
       "      <td>NaN</td>\n",
       "      <td>NaN</td>\n",
       "      <td>NaN</td>\n",
       "      <td>NaN</td>\n",
       "      <td>NaN</td>\n",
       "      <td>NaN</td>\n",
       "      <td>42.5351</td>\n",
       "      <td>30.4977</td>\n",
       "    </tr>\n",
       "    <tr>\n",
       "      <th>2010-10-30</th>\n",
       "      <td>NaN</td>\n",
       "      <td>NaN</td>\n",
       "      <td>NaN</td>\n",
       "      <td>NaN</td>\n",
       "      <td>NaN</td>\n",
       "      <td>NaN</td>\n",
       "      <td>NaN</td>\n",
       "      <td>NaN</td>\n",
       "      <td>NaN</td>\n",
       "      <td>NaN</td>\n",
       "      <td>NaN</td>\n",
       "      <td>42.7256</td>\n",
       "      <td>30.7821</td>\n",
       "    </tr>\n",
       "    <tr>\n",
       "      <th>2010-11-13</th>\n",
       "      <td>NaN</td>\n",
       "      <td>NaN</td>\n",
       "      <td>NaN</td>\n",
       "      <td>NaN</td>\n",
       "      <td>NaN</td>\n",
       "      <td>NaN</td>\n",
       "      <td>NaN</td>\n",
       "      <td>NaN</td>\n",
       "      <td>NaN</td>\n",
       "      <td>NaN</td>\n",
       "      <td>NaN</td>\n",
       "      <td>41.8779</td>\n",
       "      <td>30.7722</td>\n",
       "    </tr>\n",
       "    <tr>\n",
       "      <th>2010-11-20</th>\n",
       "      <td>NaN</td>\n",
       "      <td>NaN</td>\n",
       "      <td>NaN</td>\n",
       "      <td>NaN</td>\n",
       "      <td>NaN</td>\n",
       "      <td>NaN</td>\n",
       "      <td>NaN</td>\n",
       "      <td>NaN</td>\n",
       "      <td>NaN</td>\n",
       "      <td>NaN</td>\n",
       "      <td>NaN</td>\n",
       "      <td>42.3568</td>\n",
       "      <td>30.9490</td>\n",
       "    </tr>\n",
       "    <tr>\n",
       "      <th>2010-11-27</th>\n",
       "      <td>NaN</td>\n",
       "      <td>NaN</td>\n",
       "      <td>NaN</td>\n",
       "      <td>NaN</td>\n",
       "      <td>NaN</td>\n",
       "      <td>NaN</td>\n",
       "      <td>NaN</td>\n",
       "      <td>NaN</td>\n",
       "      <td>NaN</td>\n",
       "      <td>NaN</td>\n",
       "      <td>NaN</td>\n",
       "      <td>41.6192</td>\n",
       "      <td>31.3539</td>\n",
       "    </tr>\n",
       "  </tbody>\n",
       "</table>\n",
       "</div>"
      ],
      "text/plain": [
       "            Значение  year  month  dayofmonth  quarter  dayofyear  weekofyear  \\\n",
       "2010-09-18       NaN   NaN    NaN         NaN      NaN        NaN         NaN   \n",
       "2010-09-25       NaN   NaN    NaN         NaN      NaN        NaN         NaN   \n",
       "2010-10-02       NaN   NaN    NaN         NaN      NaN        NaN         NaN   \n",
       "2010-10-09       NaN   NaN    NaN         NaN      NaN        NaN         NaN   \n",
       "2010-10-16       NaN   NaN    NaN         NaN      NaN        NaN         NaN   \n",
       "2010-10-23       NaN   NaN    NaN         NaN      NaN        NaN         NaN   \n",
       "2010-10-30       NaN   NaN    NaN         NaN      NaN        NaN         NaN   \n",
       "2010-11-13       NaN   NaN    NaN         NaN      NaN        NaN         NaN   \n",
       "2010-11-20       NaN   NaN    NaN         NaN      NaN        NaN         NaN   \n",
       "2010-11-27       NaN   NaN    NaN         NaN      NaN        NaN         NaN   \n",
       "\n",
       "            dayofweek  is_holiday  is_prev_holiday  is_next_holiday     euro  \\\n",
       "2010-09-18        NaN         NaN              NaN              NaN  40.8115   \n",
       "2010-09-25        NaN         NaN              NaN              NaN  41.2599   \n",
       "2010-10-02        NaN         NaN              NaN              NaN  41.6606   \n",
       "2010-10-09        NaN         NaN              NaN              NaN  41.6717   \n",
       "2010-10-16        NaN         NaN              NaN              NaN  42.3939   \n",
       "2010-10-23        NaN         NaN              NaN              NaN  42.5351   \n",
       "2010-10-30        NaN         NaN              NaN              NaN  42.7256   \n",
       "2010-11-13        NaN         NaN              NaN              NaN  41.8779   \n",
       "2010-11-20        NaN         NaN              NaN              NaN  42.3568   \n",
       "2010-11-27        NaN         NaN              NaN              NaN  41.6192   \n",
       "\n",
       "             dollar  \n",
       "2010-09-18  31.0826  \n",
       "2010-09-25  30.9480  \n",
       "2010-10-02  30.5094  \n",
       "2010-10-09  29.9086  \n",
       "2010-10-16  30.1243  \n",
       "2010-10-23  30.4977  \n",
       "2010-10-30  30.7821  \n",
       "2010-11-13  30.7722  \n",
       "2010-11-20  30.9490  \n",
       "2010-11-27  31.3539  "
      ]
     },
     "execution_count": 196,
     "metadata": {},
     "output_type": "execute_result"
    }
   ],
   "source": [
    "df.loc[df['Значение'].isnull()].head(10)"
   ]
  },
  {
   "cell_type": "code",
   "execution_count": 197,
   "metadata": {},
   "outputs": [],
   "source": [
    "# df[['Значение','euro','dollar']]\n",
    "df.fillna(method='ffill', inplace=True)"
   ]
  },
  {
   "cell_type": "markdown",
   "metadata": {},
   "source": [
    "не совсем корректно относительно календаря, но я потом посомтрю, если календарь влияет на модель, я эти поля пересчитаю все"
   ]
  },
  {
   "cell_type": "code",
   "execution_count": 198,
   "metadata": {},
   "outputs": [
    {
     "data": {
      "text/html": [
       "<div>\n",
       "<style scoped>\n",
       "    .dataframe tbody tr th:only-of-type {\n",
       "        vertical-align: middle;\n",
       "    }\n",
       "\n",
       "    .dataframe tbody tr th {\n",
       "        vertical-align: top;\n",
       "    }\n",
       "\n",
       "    .dataframe thead th {\n",
       "        text-align: right;\n",
       "    }\n",
       "</style>\n",
       "<table border=\"1\" class=\"dataframe\">\n",
       "  <thead>\n",
       "    <tr style=\"text-align: right;\">\n",
       "      <th></th>\n",
       "      <th>Значение</th>\n",
       "      <th>year</th>\n",
       "      <th>month</th>\n",
       "      <th>dayofmonth</th>\n",
       "      <th>quarter</th>\n",
       "      <th>dayofyear</th>\n",
       "      <th>weekofyear</th>\n",
       "      <th>dayofweek</th>\n",
       "      <th>is_holiday</th>\n",
       "      <th>is_prev_holiday</th>\n",
       "      <th>is_next_holiday</th>\n",
       "      <th>euro</th>\n",
       "      <th>dollar</th>\n",
       "    </tr>\n",
       "  </thead>\n",
       "  <tbody>\n",
       "    <tr>\n",
       "      <th>2010-09-05</th>\n",
       "      <td>76.616000</td>\n",
       "      <td>2010.0</td>\n",
       "      <td>9.000000</td>\n",
       "      <td>3.000000</td>\n",
       "      <td>3.000000</td>\n",
       "      <td>246.000000</td>\n",
       "      <td>35.0</td>\n",
       "      <td>4.000000</td>\n",
       "      <td>0.000000</td>\n",
       "      <td>0.2</td>\n",
       "      <td>0.000000</td>\n",
       "      <td>39.233840</td>\n",
       "      <td>30.747440</td>\n",
       "    </tr>\n",
       "    <tr>\n",
       "      <th>2010-09-12</th>\n",
       "      <td>77.673333</td>\n",
       "      <td>2010.0</td>\n",
       "      <td>9.000000</td>\n",
       "      <td>8.500000</td>\n",
       "      <td>3.000000</td>\n",
       "      <td>251.500000</td>\n",
       "      <td>36.0</td>\n",
       "      <td>2.500000</td>\n",
       "      <td>0.166667</td>\n",
       "      <td>0.0</td>\n",
       "      <td>0.166667</td>\n",
       "      <td>39.302883</td>\n",
       "      <td>30.777050</td>\n",
       "    </tr>\n",
       "    <tr>\n",
       "      <th>2010-09-19</th>\n",
       "      <td>78.590000</td>\n",
       "      <td>2010.0</td>\n",
       "      <td>9.000000</td>\n",
       "      <td>15.857143</td>\n",
       "      <td>3.000000</td>\n",
       "      <td>258.857143</td>\n",
       "      <td>37.0</td>\n",
       "      <td>2.857143</td>\n",
       "      <td>0.000000</td>\n",
       "      <td>0.0</td>\n",
       "      <td>0.000000</td>\n",
       "      <td>39.984557</td>\n",
       "      <td>30.887129</td>\n",
       "    </tr>\n",
       "    <tr>\n",
       "      <th>2010-09-26</th>\n",
       "      <td>78.558571</td>\n",
       "      <td>2010.0</td>\n",
       "      <td>9.000000</td>\n",
       "      <td>22.857143</td>\n",
       "      <td>3.000000</td>\n",
       "      <td>265.857143</td>\n",
       "      <td>38.0</td>\n",
       "      <td>2.857143</td>\n",
       "      <td>0.000000</td>\n",
       "      <td>0.0</td>\n",
       "      <td>0.000000</td>\n",
       "      <td>41.040657</td>\n",
       "      <td>31.003800</td>\n",
       "    </tr>\n",
       "    <tr>\n",
       "      <th>2010-10-03</th>\n",
       "      <td>81.582857</td>\n",
       "      <td>2010.0</td>\n",
       "      <td>9.428571</td>\n",
       "      <td>17.000000</td>\n",
       "      <td>3.428571</td>\n",
       "      <td>272.857143</td>\n",
       "      <td>39.0</td>\n",
       "      <td>2.857143</td>\n",
       "      <td>0.000000</td>\n",
       "      <td>0.0</td>\n",
       "      <td>0.000000</td>\n",
       "      <td>41.382686</td>\n",
       "      <td>30.585086</td>\n",
       "    </tr>\n",
       "  </tbody>\n",
       "</table>\n",
       "</div>"
      ],
      "text/plain": [
       "             Значение    year     month  dayofmonth   quarter   dayofyear  \\\n",
       "2010-09-05  76.616000  2010.0  9.000000    3.000000  3.000000  246.000000   \n",
       "2010-09-12  77.673333  2010.0  9.000000    8.500000  3.000000  251.500000   \n",
       "2010-09-19  78.590000  2010.0  9.000000   15.857143  3.000000  258.857143   \n",
       "2010-09-26  78.558571  2010.0  9.000000   22.857143  3.000000  265.857143   \n",
       "2010-10-03  81.582857  2010.0  9.428571   17.000000  3.428571  272.857143   \n",
       "\n",
       "            weekofyear  dayofweek  is_holiday  is_prev_holiday  \\\n",
       "2010-09-05        35.0   4.000000    0.000000              0.2   \n",
       "2010-09-12        36.0   2.500000    0.166667              0.0   \n",
       "2010-09-19        37.0   2.857143    0.000000              0.0   \n",
       "2010-09-26        38.0   2.857143    0.000000              0.0   \n",
       "2010-10-03        39.0   2.857143    0.000000              0.0   \n",
       "\n",
       "            is_next_holiday       euro     dollar  \n",
       "2010-09-05         0.000000  39.233840  30.747440  \n",
       "2010-09-12         0.166667  39.302883  30.777050  \n",
       "2010-09-19         0.000000  39.984557  30.887129  \n",
       "2010-09-26         0.000000  41.040657  31.003800  \n",
       "2010-10-03         0.000000  41.382686  30.585086  "
      ]
     },
     "execution_count": 198,
     "metadata": {},
     "output_type": "execute_result"
    }
   ],
   "source": [
    "df_w= df.resample('W').mean()\n",
    "df_w.head()"
   ]
  },
  {
   "cell_type": "code",
   "execution_count": 199,
   "metadata": {},
   "outputs": [],
   "source": [
    "df_w['value_diff'] = df_w['Значение'].diff(1)\n",
    "df_w['dollar_diff'] = df_w['dollar'].diff(1)\n",
    "df_w['euro_diff'] = df_w['euro'].diff(1)"
   ]
  },
  {
   "cell_type": "code",
   "execution_count": 200,
   "metadata": {},
   "outputs": [
    {
     "data": {
      "text/html": [
       "<div>\n",
       "<style scoped>\n",
       "    .dataframe tbody tr th:only-of-type {\n",
       "        vertical-align: middle;\n",
       "    }\n",
       "\n",
       "    .dataframe tbody tr th {\n",
       "        vertical-align: top;\n",
       "    }\n",
       "\n",
       "    .dataframe thead th {\n",
       "        text-align: right;\n",
       "    }\n",
       "</style>\n",
       "<table border=\"1\" class=\"dataframe\">\n",
       "  <thead>\n",
       "    <tr style=\"text-align: right;\">\n",
       "      <th></th>\n",
       "      <th>Значение</th>\n",
       "      <th>year</th>\n",
       "      <th>month</th>\n",
       "      <th>dayofmonth</th>\n",
       "      <th>quarter</th>\n",
       "      <th>dayofyear</th>\n",
       "      <th>weekofyear</th>\n",
       "      <th>dayofweek</th>\n",
       "      <th>is_holiday</th>\n",
       "      <th>is_prev_holiday</th>\n",
       "      <th>is_next_holiday</th>\n",
       "      <th>euro</th>\n",
       "      <th>dollar</th>\n",
       "      <th>value_diff</th>\n",
       "      <th>dollar_diff</th>\n",
       "      <th>euro_diff</th>\n",
       "    </tr>\n",
       "  </thead>\n",
       "  <tbody>\n",
       "    <tr>\n",
       "      <th>2010-09-05</th>\n",
       "      <td>76.616000</td>\n",
       "      <td>2010.0</td>\n",
       "      <td>9.000000</td>\n",
       "      <td>3.000000</td>\n",
       "      <td>3.000000</td>\n",
       "      <td>246.000000</td>\n",
       "      <td>35.0</td>\n",
       "      <td>4.000000</td>\n",
       "      <td>0.000000</td>\n",
       "      <td>0.2</td>\n",
       "      <td>0.000000</td>\n",
       "      <td>39.233840</td>\n",
       "      <td>30.747440</td>\n",
       "      <td>NaN</td>\n",
       "      <td>NaN</td>\n",
       "      <td>NaN</td>\n",
       "    </tr>\n",
       "    <tr>\n",
       "      <th>2010-09-12</th>\n",
       "      <td>77.673333</td>\n",
       "      <td>2010.0</td>\n",
       "      <td>9.000000</td>\n",
       "      <td>8.500000</td>\n",
       "      <td>3.000000</td>\n",
       "      <td>251.500000</td>\n",
       "      <td>36.0</td>\n",
       "      <td>2.500000</td>\n",
       "      <td>0.166667</td>\n",
       "      <td>0.0</td>\n",
       "      <td>0.166667</td>\n",
       "      <td>39.302883</td>\n",
       "      <td>30.777050</td>\n",
       "      <td>1.057333</td>\n",
       "      <td>0.029610</td>\n",
       "      <td>0.069043</td>\n",
       "    </tr>\n",
       "    <tr>\n",
       "      <th>2010-09-19</th>\n",
       "      <td>78.590000</td>\n",
       "      <td>2010.0</td>\n",
       "      <td>9.000000</td>\n",
       "      <td>15.857143</td>\n",
       "      <td>3.000000</td>\n",
       "      <td>258.857143</td>\n",
       "      <td>37.0</td>\n",
       "      <td>2.857143</td>\n",
       "      <td>0.000000</td>\n",
       "      <td>0.0</td>\n",
       "      <td>0.000000</td>\n",
       "      <td>39.984557</td>\n",
       "      <td>30.887129</td>\n",
       "      <td>0.916667</td>\n",
       "      <td>0.110079</td>\n",
       "      <td>0.681674</td>\n",
       "    </tr>\n",
       "    <tr>\n",
       "      <th>2010-09-26</th>\n",
       "      <td>78.558571</td>\n",
       "      <td>2010.0</td>\n",
       "      <td>9.000000</td>\n",
       "      <td>22.857143</td>\n",
       "      <td>3.000000</td>\n",
       "      <td>265.857143</td>\n",
       "      <td>38.0</td>\n",
       "      <td>2.857143</td>\n",
       "      <td>0.000000</td>\n",
       "      <td>0.0</td>\n",
       "      <td>0.000000</td>\n",
       "      <td>41.040657</td>\n",
       "      <td>31.003800</td>\n",
       "      <td>-0.031429</td>\n",
       "      <td>0.116671</td>\n",
       "      <td>1.056100</td>\n",
       "    </tr>\n",
       "    <tr>\n",
       "      <th>2010-10-03</th>\n",
       "      <td>81.582857</td>\n",
       "      <td>2010.0</td>\n",
       "      <td>9.428571</td>\n",
       "      <td>17.000000</td>\n",
       "      <td>3.428571</td>\n",
       "      <td>272.857143</td>\n",
       "      <td>39.0</td>\n",
       "      <td>2.857143</td>\n",
       "      <td>0.000000</td>\n",
       "      <td>0.0</td>\n",
       "      <td>0.000000</td>\n",
       "      <td>41.382686</td>\n",
       "      <td>30.585086</td>\n",
       "      <td>3.024286</td>\n",
       "      <td>-0.418714</td>\n",
       "      <td>0.342029</td>\n",
       "    </tr>\n",
       "  </tbody>\n",
       "</table>\n",
       "</div>"
      ],
      "text/plain": [
       "             Значение    year     month  dayofmonth   quarter   dayofyear  \\\n",
       "2010-09-05  76.616000  2010.0  9.000000    3.000000  3.000000  246.000000   \n",
       "2010-09-12  77.673333  2010.0  9.000000    8.500000  3.000000  251.500000   \n",
       "2010-09-19  78.590000  2010.0  9.000000   15.857143  3.000000  258.857143   \n",
       "2010-09-26  78.558571  2010.0  9.000000   22.857143  3.000000  265.857143   \n",
       "2010-10-03  81.582857  2010.0  9.428571   17.000000  3.428571  272.857143   \n",
       "\n",
       "            weekofyear  dayofweek  is_holiday  is_prev_holiday  \\\n",
       "2010-09-05        35.0   4.000000    0.000000              0.2   \n",
       "2010-09-12        36.0   2.500000    0.166667              0.0   \n",
       "2010-09-19        37.0   2.857143    0.000000              0.0   \n",
       "2010-09-26        38.0   2.857143    0.000000              0.0   \n",
       "2010-10-03        39.0   2.857143    0.000000              0.0   \n",
       "\n",
       "            is_next_holiday       euro     dollar  value_diff  dollar_diff  \\\n",
       "2010-09-05         0.000000  39.233840  30.747440         NaN          NaN   \n",
       "2010-09-12         0.166667  39.302883  30.777050    1.057333     0.029610   \n",
       "2010-09-19         0.000000  39.984557  30.887129    0.916667     0.110079   \n",
       "2010-09-26         0.000000  41.040657  31.003800   -0.031429     0.116671   \n",
       "2010-10-03         0.000000  41.382686  30.585086    3.024286    -0.418714   \n",
       "\n",
       "            euro_diff  \n",
       "2010-09-05        NaN  \n",
       "2010-09-12   0.069043  \n",
       "2010-09-19   0.681674  \n",
       "2010-09-26   1.056100  \n",
       "2010-10-03   0.342029  "
      ]
     },
     "execution_count": 200,
     "metadata": {},
     "output_type": "execute_result"
    }
   ],
   "source": [
    "df_w.head()"
   ]
  },
  {
   "cell_type": "code",
   "execution_count": 201,
   "metadata": {},
   "outputs": [],
   "source": [
    "df_w.dropna(inplace=True)  "
   ]
  },
  {
   "cell_type": "code",
   "execution_count": 202,
   "metadata": {},
   "outputs": [
    {
     "name": "stdout",
     "output_type": "stream",
     "text": [
      "<class 'pandas.core.frame.DataFrame'>\n",
      "DatetimeIndex: 469 entries, 2010-09-12 to 2019-09-01\n",
      "Freq: W-SUN\n",
      "Data columns (total 16 columns):\n",
      "Значение           469 non-null float64\n",
      "year               469 non-null float64\n",
      "month              469 non-null float64\n",
      "dayofmonth         469 non-null float64\n",
      "quarter            469 non-null float64\n",
      "dayofyear          469 non-null float64\n",
      "weekofyear         469 non-null float64\n",
      "dayofweek          469 non-null float64\n",
      "is_holiday         469 non-null float64\n",
      "is_prev_holiday    469 non-null float64\n",
      "is_next_holiday    469 non-null float64\n",
      "euro               469 non-null float64\n",
      "dollar             469 non-null float64\n",
      "value_diff         469 non-null float64\n",
      "dollar_diff        469 non-null float64\n",
      "euro_diff          469 non-null float64\n",
      "dtypes: float64(16)\n",
      "memory usage: 62.3 KB\n"
     ]
    }
   ],
   "source": [
    "df_w.info()"
   ]
  },
  {
   "cell_type": "code",
   "execution_count": 203,
   "metadata": {},
   "outputs": [
    {
     "data": {
      "image/png": "[encoded data removed]",
      "text/plain": [
       "<Figure size 432x288 with 1 Axes>"
      ]
     },
     "metadata": {
      "needs_background": "light"
     },
     "output_type": "display_data"
    },
    {
     "data": {
      "image/png": "[encoded data removed]",
      "text/plain": [
       "<Figure size 432x288 with 1 Axes>"
      ]
     },
     "metadata": {
      "needs_background": "light"
     },
     "output_type": "display_data"
    }
   ],
   "source": [
    "plot_acf(df_w['value_diff'], lags=30)\n",
    "plt.show()\n",
    "\n",
    "plot_pacf(df_w['value_diff'], lags=30)\n",
    "plt.show()"
   ]
  },
  {
   "cell_type": "code",
   "execution_count": 204,
   "metadata": {},
   "outputs": [],
   "source": [
    "q = 2\n",
    "p = 2\n",
    "h = 1"
   ]
  },
  {
   "cell_type": "code",
   "execution_count": 205,
   "metadata": {},
   "outputs": [],
   "source": [
    "for i in range(p):\n",
    "    df_w['t'+str(p-i)]=0\n",
    "    df_w['t'+str(p-i)].values[p:] = df_w['Значение'].values[i:-(p)+i]\n",
    "    \n",
    "for i in range(p):\n",
    "    df_w['d'+str(p-i)]=0\n",
    "    df_w['d'+str(p-i)].values[p:] = df_w['value_diff'].values[i:-(p)+i]"
   ]
  },
  {
   "cell_type": "code",
   "execution_count": 208,
   "metadata": {},
   "outputs": [],
   "source": [
    "def split_data(df, split_date):\n",
    "    return df.loc[df.index.get_level_values(df.index.name) <= split_date].copy(), \\\n",
    "           df.loc[df.index.get_level_values(df.index.name) >  split_date].copy()"
   ]
  },
  {
   "cell_type": "code",
   "execution_count": 213,
   "metadata": {},
   "outputs": [
    {
     "data": {
      "image/png": "[encoded data removed]",
      "text/plain": [
       "<Figure size 1080x504 with 1 Axes>"
      ]
     },
     "metadata": {
      "needs_background": "light"
     },
     "output_type": "display_data"
    }
   ],
   "source": [
    "train, test = split_data(df_w, '2018-12-01')\n",
    "\n",
    "plt.figure( figsize=(15, 7))\n",
    "plt.plot(train.index,train.iloc[:,0], label='Train' )\n",
    "plt.plot(test.index,test.iloc[:,0], label='Test')\n",
    "plt.xlabel('Date')\n",
    "plt.title('BRENT')\n",
    "plt.legend(loc='best')\n",
    "plt.show()"
   ]
  },
  {
   "cell_type": "code",
   "execution_count": 206,
   "metadata": {},
   "outputs": [
    {
     "data": {
      "text/plain": [
       "(466, 20)"
      ]
     },
     "execution_count": 206,
     "metadata": {},
     "output_type": "execute_result"
    }
   ],
   "source": [
    "X = df_w.iloc[p:-h,:].values\n",
    "X.shape"
   ]
  },
  {
   "cell_type": "code",
   "execution_count": 207,
   "metadata": {},
   "outputs": [
    {
     "data": {
      "text/plain": [
       "(466, 1)"
      ]
     },
     "execution_count": 207,
     "metadata": {},
     "output_type": "execute_result"
    }
   ],
   "source": [
    "y = df_w['Значение'].values[h+p:].reshape((df_w.shape[0]-h-p,1))\n",
    "y.shape"
   ]
  },
  {
   "cell_type": "code",
   "execution_count": 214,
   "metadata": {},
   "outputs": [
    {
     "data": {
      "text/plain": [
       "(466, 5)"
      ]
     },
     "execution_count": 214,
     "metadata": {},
     "output_type": "execute_result"
    }
   ],
   "source": [
    "sfk =SelectKBest(f_regression, k=5)\n",
    "X_new1 =sfk.fit_transform(X, y.ravel())\n",
    "X_new1.shape"
   ]
  },
  {
   "cell_type": "code",
   "execution_count": 215,
   "metadata": {},
   "outputs": [
    {
     "data": {
      "text/plain": [
       "Index(['Значение', 'euro', 'dollar', 't2', 't1'], dtype='object')"
      ]
     },
     "execution_count": 215,
     "metadata": {},
     "output_type": "execute_result"
    }
   ],
   "source": [
    "column_names = df_w.columns[sfk.get_support()]\n",
    "column_names"
   ]
  },
  {
   "cell_type": "code",
   "execution_count": 216,
   "metadata": {},
   "outputs": [
    {
     "data": {
      "text/plain": [
       "(466, 2)"
      ]
     },
     "execution_count": 216,
     "metadata": {},
     "output_type": "execute_result"
    }
   ],
   "source": [
    "sfp=SelectPercentile(f_regression, percentile=10)\n",
    "X_new2 = sfp.fit_transform(X, y.ravel())\n",
    "X_new2.shape"
   ]
  },
  {
   "cell_type": "code",
   "execution_count": 218,
   "metadata": {},
   "outputs": [
    {
     "data": {
      "text/plain": [
       "Index(['Значение', 't1'], dtype='object')"
      ]
     },
     "execution_count": 218,
     "metadata": {},
     "output_type": "execute_result"
    }
   ],
   "source": [
    "column_namesp = df_w.columns[sfp.get_support()]\n",
    "column_namesp"
   ]
  },
  {
   "cell_type": "code",
   "execution_count": 219,
   "metadata": {},
   "outputs": [
    {
     "data": {
      "text/plain": [
       "(466, 3)"
      ]
     },
     "execution_count": 219,
     "metadata": {},
     "output_type": "execute_result"
    }
   ],
   "source": [
    "gr_model = GradientBoostingRegressor(max_depth=4, random_state=7, n_estimators=100).fit(X, y.ravel())\n",
    "sfm = SelectFromModel(gr_model,  max_features = 5)\n",
    "\n",
    "sfm.fit(X, y.ravel())\n",
    "X_new3 = sfm.transform(X)\n",
    "X_new3.shape"
   ]
  },
  {
   "cell_type": "code",
   "execution_count": 220,
   "metadata": {},
   "outputs": [
    {
     "data": {
      "text/plain": [
       "Index(['Значение', 't1'], dtype='object')"
      ]
     },
     "execution_count": 220,
     "metadata": {},
     "output_type": "execute_result"
    }
   ],
   "source": [
    "column_namesp = df_w.columns[sfp.get_support()]\n",
    "column_namesp"
   ]
  },
  {
   "cell_type": "code",
   "execution_count": 221,
   "metadata": {},
   "outputs": [
    {
     "name": "stdout",
     "output_type": "stream",
     "text": [
      "Номера признаков k лучших признаков :  [ 0 11 12 16 17]\n",
      "Номера признаков лучших признаков по процентной форме:  [ 0 17]\n",
      "Номера признаков для выбора по модели :  [ 0 11 12]\n"
     ]
    }
   ],
   "source": [
    "list_param_k =np.where(sfk.get_support())[0]\n",
    "list_param_p =np.where(sfp.get_support())[0]\n",
    "list_param_m =np.where(sfm.get_support())[0]\n",
    "\n",
    "print('Номера признаков k лучших признаков : ',list_param_k)\n",
    "print('Номера признаков лучших признаков по процентной форме: ',list_param_p)\n",
    "print('Номера признаков для выбора по модели : ',list_param_m)"
   ]
  },
  {
   "cell_type": "code",
   "execution_count": 222,
   "metadata": {},
   "outputs": [],
   "source": [
    "list_par = list(set(np.concatenate((np.concatenate((list_param_k,list_param_p)),list_param_m))))"
   ]
  },
  {
   "cell_type": "code",
   "execution_count": 223,
   "metadata": {},
   "outputs": [
    {
     "data": {
      "text/plain": [
       "[0, 11, 12, 16, 17]"
      ]
     },
     "execution_count": 223,
     "metadata": {},
     "output_type": "execute_result"
    }
   ],
   "source": [
    "list_par"
   ]
  },
  {
   "cell_type": "markdown",
   "metadata": {},
   "source": [
    "это фактически то что вернула первая функция, т.е. X_new1"
   ]
  },
  {
   "cell_type": "code",
   "execution_count": 251,
   "metadata": {},
   "outputs": [],
   "source": [
    "X_new = X_new1.copy()"
   ]
  },
  {
   "cell_type": "code",
   "execution_count": 256,
   "metadata": {},
   "outputs": [],
   "source": [
    "X_train =X_new[:train.shape[0],:]\n",
    "y_train =y[:train.shape[0],0]\n",
    "X_test =X_new[train.shape[0]:,:]\n",
    "y_test =y[train.shape[0]:,0]"
   ]
  },
  {
   "cell_type": "code",
   "execution_count": 261,
   "metadata": {},
   "outputs": [
    {
     "data": {
      "text/plain": [
       "((429, 5), (429,), (37, 5), (37,))"
      ]
     },
     "execution_count": 261,
     "metadata": {},
     "output_type": "execute_result"
    }
   ],
   "source": [
    "X_train.shape, y_train.shape, X_test.shape, y_test.shape, "
   ]
  },
  {
   "cell_type": "code",
   "execution_count": 262,
   "metadata": {},
   "outputs": [],
   "source": [
    "scx= StandardScaler().fit(X_train)\n",
    "X_train_s = scx.transform(X_train)\n",
    "X_test_s = scx.transform(X_test)\n",
    "\n",
    "scy= StandardScaler().fit(y_train.reshape(y_train.shape[0], 1))\n",
    "y_train_s = scy.transform(y_train.reshape(y_train.shape[0], 1))\n",
    "y_test_s = scy.transform(y_test.reshape(y_test.shape[0], 1))"
   ]
  },
  {
   "cell_type": "code",
   "execution_count": 263,
   "metadata": {},
   "outputs": [],
   "source": [
    "model_g = GradientBoostingRegressor(max_depth=5, random_state=40, n_estimators=100)"
   ]
  },
  {
   "cell_type": "code",
   "execution_count": 270,
   "metadata": {},
   "outputs": [
    {
     "name": "stderr",
     "output_type": "stream",
     "text": [
      "C:\\Users\\marchenko-i-u\\AppData\\Local\\Continuum\\anaconda3\\lib\\site-packages\\sklearn\\ensemble\\_gb.py:1454: DataConversionWarning: A column-vector y was passed when a 1d array was expected. Please change the shape of y to (n_samples, ), for example using ravel().\n",
      "  y = column_or_1d(y, warn=True)\n"
     ]
    },
    {
     "data": {
      "text/plain": [
       "GradientBoostingRegressor(alpha=0.9, ccp_alpha=0.0, criterion='friedman_mse',\n",
       "                          init=None, learning_rate=0.1, loss='ls', max_depth=5,\n",
       "                          max_features=None, max_leaf_nodes=None,\n",
       "                          min_impurity_decrease=0.0, min_impurity_split=None,\n",
       "                          min_samples_leaf=1, min_samples_split=2,\n",
       "                          min_weight_fraction_leaf=0.0, n_estimators=100,\n",
       "                          n_iter_no_change=None, presort='deprecated',\n",
       "                          random_state=40, subsample=1.0, tol=0.0001,\n",
       "                          validation_fraction=0.1, verbose=0, warm_start=False)"
      ]
     },
     "execution_count": 270,
     "metadata": {},
     "output_type": "execute_result"
    }
   ],
   "source": [
    "model_g.fit(X_train_s, y_train_s)"
   ]
  },
  {
   "cell_type": "code",
   "execution_count": 271,
   "metadata": {},
   "outputs": [],
   "source": [
    "y_pred_test_gb = model_g.predict(X_test_s)"
   ]
  },
  {
   "cell_type": "code",
   "execution_count": 273,
   "metadata": {},
   "outputs": [
    {
     "data": {
      "text/plain": [
       "array([60.6843753 , 58.91330398, 54.75982065, 58.14617537, 61.37904489,\n",
       "       62.16755976, 60.86443536, 60.99215767, 61.22328732, 64.89494487,\n",
       "       65.78091641, 66.18307095, 65.34912884, 66.399373  , 68.59141262,\n",
       "       68.59141262, 68.9211126 , 68.79048099, 73.17307396, 72.90409093,\n",
       "       67.51089274, 67.25777337, 72.96057381, 67.69587689, 63.22057484,\n",
       "       60.97657285, 60.93142991, 63.4476916 , 65.36831485, 64.30212393,\n",
       "       66.06017674, 63.50255405, 62.88779711, 62.67308037, 58.23464441,\n",
       "       59.43195643, 60.58801925])"
      ]
     },
     "execution_count": 273,
     "metadata": {},
     "output_type": "execute_result"
    }
   ],
   "source": [
    "scy.inverse_transform(y_pred_test_gb)"
   ]
  },
  {
   "cell_type": "code",
   "execution_count": 275,
   "metadata": {},
   "outputs": [
    {
     "data": {
      "image/png": "[encoded data removed]",
      "text/plain": [
       "<Figure size 1080x504 with 1 Axes>"
      ]
     },
     "metadata": {
      "needs_background": "light"
     },
     "output_type": "display_data"
    }
   ],
   "source": [
    "plt.figure( figsize=(15, 7))\n",
    "plt.plot(test.index[h+p:],scy.inverse_transform(y_pred_test_gb), label='predict' )\n",
    "plt.plot(test.index[h+p:],scy.inverse_transform(y_test_s), label='True')\n",
    "plt.xlabel('Date')\n",
    "plt.title('Изменение цены BRENT')\n",
    "plt.ylabel('Dollar')\n",
    "plt.legend()\n",
    "plt.show()"
   ]
  },
  {
   "cell_type": "code",
   "execution_count": 276,
   "metadata": {},
   "outputs": [],
   "source": [
    "def mean_absolute_percentage_error(y_true, y_pred): \n",
    "    y_true, y_pred = np.array(y_true), np.array(y_pred)\n",
    "    return np.mean(np.abs((y_true - y_pred) / y_true)) * 100"
   ]
  },
  {
   "cell_type": "code",
   "execution_count": 277,
   "metadata": {},
   "outputs": [
    {
     "name": "stdout",
     "output_type": "stream",
     "text": [
      "ошибка градиентного бустинга MAPE :   8.219340463568592 %\n"
     ]
    }
   ],
   "source": [
    "er_g = mean_absolute_percentage_error(y_true=scy.inverse_transform( y_test_s),y_pred = scy.inverse_transform( y_pred_test_gb))\n",
    "\n",
    "print('ошибка градиентного бустинга MAPE :  ', er_g,'%')"
   ]
  },
  {
   "cell_type": "code",
   "execution_count": null,
   "metadata": {},
   "outputs": [],
   "source": []
  }
 ],
 "metadata": {
  "kernelspec": {
   "display_name": "Python 3",
   "language": "python",
   "name": "python3"
  },
  "language_info": {
   "codemirror_mode": {
    "name": "ipython",
    "version": 3
   },
   "file_extension": ".py",
   "mimetype": "text/x-python",
   "name": "python",
   "nbconvert_exporter": "python",
   "pygments_lexer": "ipython3",
   "version": "3.7.3"
  }
 },
 "nbformat": 4,
 "nbformat_minor": 2
}
